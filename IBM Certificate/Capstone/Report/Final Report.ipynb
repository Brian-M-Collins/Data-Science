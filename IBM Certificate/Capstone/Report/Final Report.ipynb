{
 "metadata": {
  "language_info": {
   "codemirror_mode": {
    "name": "ipython",
    "version": 3
   },
   "file_extension": ".py",
   "mimetype": "text/x-python",
   "name": "python",
   "nbconvert_exporter": "python",
   "pygments_lexer": "ipython3",
   "version": 3
  },
  "orig_nbformat": 2
 },
 "nbformat": 4,
 "nbformat_minor": 2,
 "cells": [
  {
   "source": [
    "# Applied Data Science Capstone"
   ],
   "cell_type": "markdown",
   "metadata": {}
  },
  {
   "source": [
    "## Introduction\n",
    "\n",
    "Ever since the UK government introduced new planning policy guidelines aimed at revitalising city centres and control out-of-town developments, planners and developers have seen cinemas as key amenities to make urban masterplans and their associated schemes more attractive. This interest has grown since 2008, despite the retail-led regeneration having little effect in averting the decline of many regional city centres. Tough economic conditions combined with the growth in online shopping meant that retailers needed fewer physical outlets to establish their brand, and recession-hit shoppers knew that there were often better bargains to be had online. Consumers now need more compelling reasons to come into town, as well as a variety of ways to spend their time once they have arrived. Cinemas, as part of a mix of restaurants, cafes and other leisure facilities, can help address this, increasing consumer dwell time and helping to create a sustainable night-time economy that gives city centres a life beyond the usual retail opening hours.\n",
    "\n",
    "As major retailers come under pressure to attract shoppers with leisure-related activities, a growing number of cinema construction projects are being built across the country to help ensure that new developments succeed. Developers are responding to the growing demand for ‘experiences’ at leisure destinations and a revival in the popularity of the big screen. Cinema attendance in the UK exceeded 177 million in 2018, the highest level since 1970. According to agents CBRE there were 33 new multiplex cinemas in the three-year development pipeline in the UK at the end of 2018. Half of the schemes are set to be in shopping centres, rather than out-of-town leisure parks. A recent report on the future of leisure commissioned by Legal & General Investment Management, envisages the spread of so-called ‘fusion cinemas’ which use new technology and act as anchor tenants for schemes. By the mid-2020s, it sees UK cinemas acting as cultural community spaces with film screenings running alongside co-working, education, and dining events.\n",
    "\n",
    "The focus of this project will be establishing which Boroughs in Greater London are currently underserved by major Cinema chains alongside smaller Independent Cinemas, then viewing this data through the lens of population information using the most recent census data to gain an understanding of which boroughs would represent ideal investment opportunities for developers and chains seeking to build additional cinemas to serve the communities within which they reside.\n",
    "\n",
    " "
   ],
   "cell_type": "markdown",
   "metadata": {}
  },
  {
   "source": [
    "### Data Sources \n",
    "\n",
    "There will be three primary data sources supporting this study. ONS population data will be used to establish the population levels within each of the 32 London boroughs. Further to this, the Wikipedia entry for the London Boroughs will be utilised to gain an oversight of the names of both Boroughs and Local Authorities that control those Boroughs. Finally, we will be using the Foursquare API to get an understanding of the number of cinemas already present within each of those locations.\n"
   ],
   "cell_type": "markdown",
   "metadata": {}
  },
  {
   "source": [
    "## Methodology\n",
    "\n",
    "To produce a list of each of the London Boroughs, in addition to further information about their political control, data was scraped using from a table on Wikipedia using Urllib. Once the data was scraped and assigned to a variable, we used Beautiful Soup to extract and work with the data in it. Beautiful Soup is a Python library for pulling data out of HTML and XML files. In this case we used it alongside 'html5lib' as the parser to provide idiomatic ways of navigating, searching, and modifying the parse tree. From this searching of the Parse tree it was possible to establish that the class ID of the table in questions as 'Wikitable sortable' so a further function pulled out only tables with this ID. Once these were established it was then possible to loop through the rows of the table using the tr (row) and td (cell) fields to populate the new Dataframe with the data in question. This newly created table was then cleaned to remove unnecessary columns from the point of view of future analysis. \n",
    "\n",
    "Once a table had been created and stored the data for each of the London Boroughs Geocoder was used to find the Latitude and Longitude of each of the geographic centres of the Boroughs. While the source table did include Lat/Long information, this was for the political headquarters of each Borough, rather than the centre, the latter being most suitable for the analysis. This was saved as a separate Dataframe. \n",
    "\n",
    "These geographic coordinates were then passed through the Foursquare API to look for nearby venues within a 6 Kilometre range from the centre of each borough. A onehot was then produced to establish the mean number of each venue category produced by the resultant search and this Dataframe was then queried for unique values within 'Venue Category' which established 'Movie Theatre' and 'Indie Movie Theatre' as the categories of interest for this study. Onehots for these categories were extracted for each borough and saved as a new Dataframe.\n",
    "\n",
    "K-means Clustering was then utilised to cluster boroughs based on the onehot output around the venue categories previously established. Prior to a full run a cluster_variance function was defined to establish inertia looking at total Euclidean distance between data values for K=1 through K=10. This search produced the below plot, Figure 1, using the elbow method it was possible to identify a K value of 2 or 3 as being ideal for this study. A K value of 3 was ultimately used as this produced three clear clusters, one with presence of either a Movie Theatre, an Independent Movie Theatre or neither.\n",
    "\n",
    "*Figure 1*\n",
    "\n",
    "![Figure 1](https://github.com/Brian-M-Collins/Coursera_Capstone/blob/main/Report/Inertia.PNG?raw=true \"Inertia of Kmeans 1-10\")\n",
    "\n",
    "\n"
   ],
   "cell_type": "markdown",
   "metadata": {}
  },
  {
   "source": [
    "## Results\n",
    "\n",
    "*Figure 2:* The latitude and longitude of each London Borough mapped using Folium, using coordinates extracted using Geocoder.\n",
    "\n",
    "![London Boroughs](https://github.com/Brian-M-Collins/Coursera_Capstone/blob/main/Report/London%20Boroughs.PNG?raw=true \"London Boroughs\")\n",
    "\n",
    "*Figure 3:* Dataframe produced after querying the Foursquare API for either locations with a Venue Category of either Movie Theatre or Independent Movie Theatre, then passed through a onehot for each London Borough.\n",
    "\n",
    "![London Onehot](https://github.com/Brian-M-Collins/Coursera_Capstone/blob/main/Report/Movie%20Theater%20Onehot.PNG?raw=true \"London Onehot\")\n",
    "\n",
    "*Figure 4:* Dataframe produced by using K-means Clustering on the dataset with a K of 3, including cluster labels for each location.\n",
    "\n",
    "![London Cluster DF](https://github.com/Brian-M-Collins/Coursera_Capstone/blob/main/Report/Clustered%20Dataframe.PNG?raw=true \"London Cluster DF\")\n",
    "\n",
    "*Figure 5:* The below figure is the data from the previous Dataframe mapped spatially using Folium and the earlier defined Latitudes and Longitudes\n",
    "\n",
    "![London Clusters Mapped](https://github.com/Brian-M-Collins/Coursera_Capstone/blob/main/Report/Clustered%20Map.PNG?raw=true \"London Clusters Mapped\")\n",
    "\n",
    "*Figure 6:* Dataframe showing cluster '0'\n",
    "\n",
    "![Cluster 0](https://github.com/Brian-M-Collins/Coursera_Capstone/blob/main/Report/Cluster%200.PNG?raw=true \"No Theatre Cluster\")\n",
    "\n",
    "*Figure 7:* Dataframe showing cluster '1'\n",
    "\n",
    "![Cluster 1](https://github.com/Brian-M-Collins/Coursera_Capstone/blob/main/Report/Details%20of%20borough%20with%20no%20cinemas.PNG?raw=true \"No Theatre Cluster\")\n",
    "\n",
    "*Figure 8:* Dataframe showing cluster '2'\n",
    "\n",
    "![Cluster 2](https://github.com/Brian-M-Collins/Coursera_Capstone/blob/main/Report/Cluster%202.PNG?raw=true \"Cluster 2\")\n",
    "\n",
    "*Figure 9:* Final Dataframe including information from above, but having used pd.Merge to merge frame with previously defined Dataframe with London Borough data. Sorted by the values in the 'Population (2019 est.)' column.\n",
    "\n",
    "![Final Dataframe](https://github.com/Brian-M-Collins/Coursera_Capstone/blob/main/Report/Final%20dataframe.PNG?raw=true \"Final Dataframe\")\n"
   ],
   "cell_type": "markdown",
   "metadata": {}
  },
  {
   "source": [
    "## Discussion\n",
    "\n",
    "The project’s main goal is to determine the best location for opening a Movie Theatre business in London. Discussing what locations can be considered “the best” may vary but we can equate it as the most conducive ones by considering the following criteria:\n",
    "\n",
    "1. Presence of Competitor Sites\n",
    "\n",
    "Figure 5 helps to fully illustrate a significant clustering of current Movie Theatres in the areas South of the River Thames, firmly within central London. This also extends to the area within the North of London. Again, all these areas clustered within the major commercial zones. With the coverage of these locations decreasing as you head towards the suburbs around the M25. If referring to the clusters of data produced in Figures 6 it's possible to identify those Boroughs well served by independent cinemas without any real coverage of mainstream chains and the influence brought by size of location, both in terms of number of screens and maximum footfall. By comparison however, Figure 8 helps to illustrate Boroughs with good coverage of mainstream cinemas, without a great deal of coverage of independent locations, and the ability for those locations to show the mixture of blockbuster and arthouse films that make them so well loved by their clientele.\n",
    "\n",
    "Figure 7 however, illustrates locations that are completely unserved by either type of location and might possibly present good investment opportunities by developers or chains looking to open new locations. This however leads on to the next analysis.\n",
    "\n",
    "2. Population in Boroughs\n",
    "\n",
    "Figure 9 displays those locations from figure 7, with neither mainstream nor independent cinemas, overlaid with the population data extracted earlier. It stands to reason that a significant factor in deciding where to open a new cinema might be the potential number of customers that would help any newly opened location reach the critical mass of business required to transition into an established site. The ONS population figures indicate that locations such as Newham or Ealing are best placed as areas of further exploration. This however leads us onto a few of the limiting factors of this study.\n",
    "\n",
    "### Areas for development\n",
    "\n",
    "As completed to date, there are two obvious flaws in the methodology of this work. Firstly, having searches cantered around a single geographical point for each of the boroughs with a set radius for exploration leave open the possibility that a particular location, geographically proximate to two of the centres of each borough could well have been identified twice and assigned as a location for each borough. Similarly, it is entirely possible that a location was outside of the 6-kilometre radius that represented the search zone of venues around those Borough centroids. With that in mind it would be worth expanding the search radius, but then completing extra work to remove duplicates from the study, assigning a location identified multiple times to the centroid that it is closest to, rather than either counting multiple times, or not at all.  \n",
    "\n",
    "Furthermore, based on the analysis displayed in figure 9 it would be reasonable to suggest that any of the top 5 or 10 locations would make suitable candidates for a new cinema location. With that in mind it would therefore be useful to conduct further analysis on average travel times to and from each location to establish the ease of access to any new site using existing public transport links.\n",
    "\n",
    "\n"
   ],
   "cell_type": "markdown",
   "metadata": {}
  },
  {
   "source": [
    "## Conclusion\n",
    "\n",
    "Although the service sector in London has certainly been significantly impacted by the volatility brought to the nation as a result of the ongoing pandemic, it stands to reason that markets are poised to return to some semblance of normality in a post-Covid world. None the less, businesses are certainly planning their exit strategy which may well involve expanding their footprint to include additional sites in underserved communities. It is with this fact in mind that this report focused on the integration of data science and machine learning technics to assist decision makers in making informed and efficient choices. \n",
    "\n",
    "While this study was narrow in scope and certainly would require a significant expansion to provide any results that would be actionable in a real-world scenario. It could be reasonable to state that from the results provided, we could potentially recommend potential locations for future research into their theoretical profitability as venue locations.\n",
    "\n"
   ],
   "cell_type": "markdown",
   "metadata": {}
  }
 ]
}