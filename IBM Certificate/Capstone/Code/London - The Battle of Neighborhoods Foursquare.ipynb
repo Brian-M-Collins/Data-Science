{
 "metadata": {
  "language_info": {
   "codemirror_mode": {
    "name": "ipython",
    "version": 3
   },
   "file_extension": ".py",
   "mimetype": "text/x-python",
   "name": "python",
   "nbconvert_exporter": "python",
   "pygments_lexer": "ipython3",
   "version": "3.9.5"
  },
  "orig_nbformat": 2,
  "kernelspec": {
   "name": "python395jvsc74a57bd03f52f9bc7255785daa71898b965161055eba6b8ca826e553ee7c01a0d7004f27",
   "display_name": "Python 3.9.5 64-bit (windows store)"
  },
  "metadata": {
   "interpreter": {
    "hash": "3f52f9bc7255785daa71898b965161055eba6b8ca826e553ee7c01a0d7004f27"
   }
  }
 },
 "nbformat": 4,
 "nbformat_minor": 2,
 "cells": [
  {
   "cell_type": "code",
   "execution_count": 32,
   "metadata": {},
   "outputs": [],
   "source": [
    "import urllib.request\n",
    "from bs4 import BeautifulSoup\n",
    "import pandas as pd\n",
    "import folium\n",
    "import numpy as np\n",
    "from sklearn.cluster import KMeans\n",
    "import matplotlib.cm as cm\n",
    "import matplotlib.colors as colors\n",
    "import matplotlib.pyplot as plt\n",
    "from geopy.geocoders import Nominatim\n",
    "import geocoder\n",
    "import requests\n",
    "\n"
   ]
  },
  {
   "source": [
    "### Scraping Wikipedia entry using Beautiful Soup and saving Wikitable Sortable as a new dataframe"
   ],
   "cell_type": "markdown",
   "metadata": {}
  },
  {
   "cell_type": "code",
   "execution_count": 33,
   "metadata": {},
   "outputs": [],
   "source": [
    "url = 'https://en.wikipedia.org/wiki/List_of_London_boroughs'\n",
    "page = urllib.request.urlopen(url)\n",
    "soup = BeautifulSoup(page, \"html5lib\")\n",
    "borough_table_soup=soup.find_all('table', class_='wikitable sortable')\n"
   ]
  },
  {
   "cell_type": "code",
   "execution_count": 34,
   "metadata": {},
   "outputs": [],
   "source": [
    "A=[]\n",
    "B=[]\n",
    "C=[]\n",
    "D=[]\n",
    "E=[]\n",
    "F=[]\n",
    "G=[]\n",
    "H=[]\n",
    "I=[]\n",
    "J=[]\n",
    "\n",
    "for row in borough_table_soup[0].findAll('tr'):\n",
    "    cells=row.findAll('td')\n",
    "    if len(cells)==10:\n",
    "        A.append(cells[0].find(text=True))\n",
    "        B.append(cells[1].find(text=True))\n",
    "        C.append(cells[2].find(text=True))\n",
    "        D.append(cells[3].find(text=True))\n",
    "        E.append(cells[4].find(text=True))\n",
    "        F.append(cells[5].find(text=True))\n",
    "        G.append(cells[6].find(text=True))\n",
    "        H.append(cells[7].find(text=True))\n",
    "        I.append(cells[8].find(text=True))\n",
    "        J.append(cells[9].find(text=True))\n",
    "\n",
    "borough_table=pd.DataFrame(A,columns=['Borough'])\n",
    "borough_table['Inner']=B\n",
    "borough_table['Status']=C\n",
    "borough_table['Local authority']=D\n",
    "borough_table['Political control']=E\n",
    "borough_table['Headquarters']=F\n",
    "borough_table['Area (sq mi)']=G\n",
    "borough_table['Population (2019 est)']=H\n",
    "borough_table['Co-ordinates']=I\n",
    "borough_table['Nr. in map']=J\n",
    "\n"
   ]
  },
  {
   "source": [
    "### Data cleaning and preperation"
   ],
   "cell_type": "markdown",
   "metadata": {}
  },
  {
   "cell_type": "code",
   "execution_count": 35,
   "metadata": {},
   "outputs": [
    {
     "output_type": "stream",
     "name": "stderr",
     "text": [
      "<ipython-input-35-5c16d2f9567c>:2: FutureWarning: The default value of regex will change from True to False in a future version.\n  borough_table['Area (sq mi)'] = borough_table['Area (sq mi)'].str.replace(r'\\n', '')\n<ipython-input-35-5c16d2f9567c>:3: FutureWarning: The default value of regex will change from True to False in a future version.\n  borough_table['Population (2019 est)'] = borough_table['Population (2019 est)'].str.replace(r'\\n', '')\n"
     ]
    }
   ],
   "source": [
    "borough_table.drop(['Inner', 'Status', 'Co-ordinates','Nr. in map',  'Headquarters'], axis=1, inplace=True)\n",
    "borough_table['Area (sq mi)'] = borough_table['Area (sq mi)'].str.replace(r'\\n', '')\n",
    "borough_table['Population (2019 est)'] = borough_table['Population (2019 est)'].str.replace(r'\\n', '')"
   ]
  },
  {
   "cell_type": "code",
   "execution_count": 36,
   "metadata": {},
   "outputs": [
    {
     "output_type": "execute_result",
     "data": {
      "text/plain": [
       "                   Borough                                Local authority  \\\n",
       "0     Barking and Dagenham    Barking and Dagenham London Borough Council   \n",
       "1                   Barnet                  Barnet London Borough Council   \n",
       "2                   Bexley                  Bexley London Borough Council   \n",
       "3                    Brent                   Brent London Borough Council   \n",
       "4                  Bromley                 Bromley London Borough Council   \n",
       "5                   Camden                  Camden London Borough Council   \n",
       "6                  Croydon                 Croydon London Borough Council   \n",
       "7                   Ealing                  Ealing London Borough Council   \n",
       "8                  Enfield                 Enfield London Borough Council   \n",
       "9                Greenwich               Greenwich London Borough Council   \n",
       "10                 Hackney                 Hackney London Borough Council   \n",
       "11  Hammersmith and Fulham  Hammersmith and Fulham London Borough Council   \n",
       "12                Haringey                Haringey London Borough Council   \n",
       "13                  Harrow                  Harrow London Borough Council   \n",
       "14                Havering                Havering London Borough Council   \n",
       "15              Hillingdon              Hillingdon London Borough Council   \n",
       "16                Hounslow                Hounslow London Borough Council   \n",
       "17               Islington               Islington London Borough Council   \n",
       "18  Kensington and Chelsea  Kensington and Chelsea London Borough Council   \n",
       "19    Kingston upon Thames    Kingston upon Thames London Borough Council   \n",
       "20                 Lambeth                 Lambeth London Borough Council   \n",
       "21                Lewisham                Lewisham London Borough Council   \n",
       "22                  Merton                  Merton London Borough Council   \n",
       "23                  Newham                  Newham London Borough Council   \n",
       "24               Redbridge               Redbridge London Borough Council   \n",
       "25    Richmond upon Thames    Richmond upon Thames London Borough Council   \n",
       "26               Southwark               Southwark London Borough Council   \n",
       "27                  Sutton                  Sutton London Borough Council   \n",
       "28           Tower Hamlets           Tower Hamlets London Borough Council   \n",
       "29          Waltham Forest          Waltham Forest London Borough Council   \n",
       "30              Wandsworth              Wandsworth London Borough Council   \n",
       "31             Westminster                       Westminster City Council   \n",
       "\n",
       "   Political control Area (sq mi) Population (2019 est)  Latitude  Longitude  \n",
       "0             Labour        13.93               212,906   51.5607     0.1557  \n",
       "1       Conservative        33.49               395,896   51.6252    -0.1517  \n",
       "2       Conservative        23.38               248,287   51.4549     0.1505  \n",
       "3             Labour        16.70               329,771   51.5588    -0.2817  \n",
       "4       Conservative        57.97               332,336   51.4039     0.0198  \n",
       "5             Labour         8.40               270,029   51.5290    -0.1255  \n",
       "6             Labour        33.41               386,710   51.3714    -0.0977  \n",
       "7             Labour        21.44               341,806   51.5130    -0.3089  \n",
       "8             Labour        31.74               333,794   51.6538    -0.0799  \n",
       "9             Labour        18.28               287,942   51.4892     0.0648  \n",
       "10            Labour         7.36               281,120   51.5450    -0.0553  \n",
       "11            Labour         6.33               185,143   51.4927    -0.2339  \n",
       "12            Labour        11.42               268,647   51.6000    -0.1119  \n",
       "13            Labour        19.49               251,160   51.5898    -0.3346  \n",
       "14      Conservative        43.35               259,552   51.5812     0.1837  \n",
       "15      Conservative        44.67               306,870   51.5441    -0.4760  \n",
       "16            Labour        21.61               271,523   51.4746    -0.3680  \n",
       "17            Labour         5.74               242,467   51.5416    -0.1022  \n",
       "18      Conservative         4.68               156,129   51.5020    -0.1947  \n",
       "19  Liberal Democrat        14.38               177,507   51.4085    -0.3064  \n",
       "20            Labour        10.36               326,034   51.4607    -0.1163  \n",
       "21            Labour        13.57               305,842   51.4452    -0.0209  \n",
       "22            Labour        14.52               206,548   51.4014    -0.1958  \n",
       "23            Labour        13.98               353,134   51.5077     0.0469  \n",
       "24            Labour        21.78               305,222   51.5590     0.0741  \n",
       "25  Liberal Democrat        22.17               198,019   51.4479    -0.3260  \n",
       "26            Labour        11.14               318,830   51.5035    -0.0804  \n",
       "27  Liberal Democrat        16.93               206,349   51.3618    -0.1945  \n",
       "28            Labour         7.63               324,745   51.5099    -0.0059  \n",
       "29            Labour        14.99               276,983   51.5908    -0.0134  \n",
       "30      Conservative        13.23               329,677   51.4567    -0.1910  \n",
       "31      Conservative         8.29               261,317   51.4973    -0.1372  "
      ],
      "text/html": "<div>\n<style scoped>\n    .dataframe tbody tr th:only-of-type {\n        vertical-align: middle;\n    }\n\n    .dataframe tbody tr th {\n        vertical-align: top;\n    }\n\n    .dataframe thead th {\n        text-align: right;\n    }\n</style>\n<table border=\"1\" class=\"dataframe\">\n  <thead>\n    <tr style=\"text-align: right;\">\n      <th></th>\n      <th>Borough</th>\n      <th>Local authority</th>\n      <th>Political control</th>\n      <th>Area (sq mi)</th>\n      <th>Population (2019 est)</th>\n      <th>Latitude</th>\n      <th>Longitude</th>\n    </tr>\n  </thead>\n  <tbody>\n    <tr>\n      <th>0</th>\n      <td>Barking and Dagenham</td>\n      <td>Barking and Dagenham London Borough Council</td>\n      <td>Labour</td>\n      <td>13.93</td>\n      <td>212,906</td>\n      <td>51.5607</td>\n      <td>0.1557</td>\n    </tr>\n    <tr>\n      <th>1</th>\n      <td>Barnet</td>\n      <td>Barnet London Borough Council</td>\n      <td>Conservative</td>\n      <td>33.49</td>\n      <td>395,896</td>\n      <td>51.6252</td>\n      <td>-0.1517</td>\n    </tr>\n    <tr>\n      <th>2</th>\n      <td>Bexley</td>\n      <td>Bexley London Borough Council</td>\n      <td>Conservative</td>\n      <td>23.38</td>\n      <td>248,287</td>\n      <td>51.4549</td>\n      <td>0.1505</td>\n    </tr>\n    <tr>\n      <th>3</th>\n      <td>Brent</td>\n      <td>Brent London Borough Council</td>\n      <td>Labour</td>\n      <td>16.70</td>\n      <td>329,771</td>\n      <td>51.5588</td>\n      <td>-0.2817</td>\n    </tr>\n    <tr>\n      <th>4</th>\n      <td>Bromley</td>\n      <td>Bromley London Borough Council</td>\n      <td>Conservative</td>\n      <td>57.97</td>\n      <td>332,336</td>\n      <td>51.4039</td>\n      <td>0.0198</td>\n    </tr>\n    <tr>\n      <th>5</th>\n      <td>Camden</td>\n      <td>Camden London Borough Council</td>\n      <td>Labour</td>\n      <td>8.40</td>\n      <td>270,029</td>\n      <td>51.5290</td>\n      <td>-0.1255</td>\n    </tr>\n    <tr>\n      <th>6</th>\n      <td>Croydon</td>\n      <td>Croydon London Borough Council</td>\n      <td>Labour</td>\n      <td>33.41</td>\n      <td>386,710</td>\n      <td>51.3714</td>\n      <td>-0.0977</td>\n    </tr>\n    <tr>\n      <th>7</th>\n      <td>Ealing</td>\n      <td>Ealing London Borough Council</td>\n      <td>Labour</td>\n      <td>21.44</td>\n      <td>341,806</td>\n      <td>51.5130</td>\n      <td>-0.3089</td>\n    </tr>\n    <tr>\n      <th>8</th>\n      <td>Enfield</td>\n      <td>Enfield London Borough Council</td>\n      <td>Labour</td>\n      <td>31.74</td>\n      <td>333,794</td>\n      <td>51.6538</td>\n      <td>-0.0799</td>\n    </tr>\n    <tr>\n      <th>9</th>\n      <td>Greenwich</td>\n      <td>Greenwich London Borough Council</td>\n      <td>Labour</td>\n      <td>18.28</td>\n      <td>287,942</td>\n      <td>51.4892</td>\n      <td>0.0648</td>\n    </tr>\n    <tr>\n      <th>10</th>\n      <td>Hackney</td>\n      <td>Hackney London Borough Council</td>\n      <td>Labour</td>\n      <td>7.36</td>\n      <td>281,120</td>\n      <td>51.5450</td>\n      <td>-0.0553</td>\n    </tr>\n    <tr>\n      <th>11</th>\n      <td>Hammersmith and Fulham</td>\n      <td>Hammersmith and Fulham London Borough Council</td>\n      <td>Labour</td>\n      <td>6.33</td>\n      <td>185,143</td>\n      <td>51.4927</td>\n      <td>-0.2339</td>\n    </tr>\n    <tr>\n      <th>12</th>\n      <td>Haringey</td>\n      <td>Haringey London Borough Council</td>\n      <td>Labour</td>\n      <td>11.42</td>\n      <td>268,647</td>\n      <td>51.6000</td>\n      <td>-0.1119</td>\n    </tr>\n    <tr>\n      <th>13</th>\n      <td>Harrow</td>\n      <td>Harrow London Borough Council</td>\n      <td>Labour</td>\n      <td>19.49</td>\n      <td>251,160</td>\n      <td>51.5898</td>\n      <td>-0.3346</td>\n    </tr>\n    <tr>\n      <th>14</th>\n      <td>Havering</td>\n      <td>Havering London Borough Council</td>\n      <td>Conservative</td>\n      <td>43.35</td>\n      <td>259,552</td>\n      <td>51.5812</td>\n      <td>0.1837</td>\n    </tr>\n    <tr>\n      <th>15</th>\n      <td>Hillingdon</td>\n      <td>Hillingdon London Borough Council</td>\n      <td>Conservative</td>\n      <td>44.67</td>\n      <td>306,870</td>\n      <td>51.5441</td>\n      <td>-0.4760</td>\n    </tr>\n    <tr>\n      <th>16</th>\n      <td>Hounslow</td>\n      <td>Hounslow London Borough Council</td>\n      <td>Labour</td>\n      <td>21.61</td>\n      <td>271,523</td>\n      <td>51.4746</td>\n      <td>-0.3680</td>\n    </tr>\n    <tr>\n      <th>17</th>\n      <td>Islington</td>\n      <td>Islington London Borough Council</td>\n      <td>Labour</td>\n      <td>5.74</td>\n      <td>242,467</td>\n      <td>51.5416</td>\n      <td>-0.1022</td>\n    </tr>\n    <tr>\n      <th>18</th>\n      <td>Kensington and Chelsea</td>\n      <td>Kensington and Chelsea London Borough Council</td>\n      <td>Conservative</td>\n      <td>4.68</td>\n      <td>156,129</td>\n      <td>51.5020</td>\n      <td>-0.1947</td>\n    </tr>\n    <tr>\n      <th>19</th>\n      <td>Kingston upon Thames</td>\n      <td>Kingston upon Thames London Borough Council</td>\n      <td>Liberal Democrat</td>\n      <td>14.38</td>\n      <td>177,507</td>\n      <td>51.4085</td>\n      <td>-0.3064</td>\n    </tr>\n    <tr>\n      <th>20</th>\n      <td>Lambeth</td>\n      <td>Lambeth London Borough Council</td>\n      <td>Labour</td>\n      <td>10.36</td>\n      <td>326,034</td>\n      <td>51.4607</td>\n      <td>-0.1163</td>\n    </tr>\n    <tr>\n      <th>21</th>\n      <td>Lewisham</td>\n      <td>Lewisham London Borough Council</td>\n      <td>Labour</td>\n      <td>13.57</td>\n      <td>305,842</td>\n      <td>51.4452</td>\n      <td>-0.0209</td>\n    </tr>\n    <tr>\n      <th>22</th>\n      <td>Merton</td>\n      <td>Merton London Borough Council</td>\n      <td>Labour</td>\n      <td>14.52</td>\n      <td>206,548</td>\n      <td>51.4014</td>\n      <td>-0.1958</td>\n    </tr>\n    <tr>\n      <th>23</th>\n      <td>Newham</td>\n      <td>Newham London Borough Council</td>\n      <td>Labour</td>\n      <td>13.98</td>\n      <td>353,134</td>\n      <td>51.5077</td>\n      <td>0.0469</td>\n    </tr>\n    <tr>\n      <th>24</th>\n      <td>Redbridge</td>\n      <td>Redbridge London Borough Council</td>\n      <td>Labour</td>\n      <td>21.78</td>\n      <td>305,222</td>\n      <td>51.5590</td>\n      <td>0.0741</td>\n    </tr>\n    <tr>\n      <th>25</th>\n      <td>Richmond upon Thames</td>\n      <td>Richmond upon Thames London Borough Council</td>\n      <td>Liberal Democrat</td>\n      <td>22.17</td>\n      <td>198,019</td>\n      <td>51.4479</td>\n      <td>-0.3260</td>\n    </tr>\n    <tr>\n      <th>26</th>\n      <td>Southwark</td>\n      <td>Southwark London Borough Council</td>\n      <td>Labour</td>\n      <td>11.14</td>\n      <td>318,830</td>\n      <td>51.5035</td>\n      <td>-0.0804</td>\n    </tr>\n    <tr>\n      <th>27</th>\n      <td>Sutton</td>\n      <td>Sutton London Borough Council</td>\n      <td>Liberal Democrat</td>\n      <td>16.93</td>\n      <td>206,349</td>\n      <td>51.3618</td>\n      <td>-0.1945</td>\n    </tr>\n    <tr>\n      <th>28</th>\n      <td>Tower Hamlets</td>\n      <td>Tower Hamlets London Borough Council</td>\n      <td>Labour</td>\n      <td>7.63</td>\n      <td>324,745</td>\n      <td>51.5099</td>\n      <td>-0.0059</td>\n    </tr>\n    <tr>\n      <th>29</th>\n      <td>Waltham Forest</td>\n      <td>Waltham Forest London Borough Council</td>\n      <td>Labour</td>\n      <td>14.99</td>\n      <td>276,983</td>\n      <td>51.5908</td>\n      <td>-0.0134</td>\n    </tr>\n    <tr>\n      <th>30</th>\n      <td>Wandsworth</td>\n      <td>Wandsworth London Borough Council</td>\n      <td>Conservative</td>\n      <td>13.23</td>\n      <td>329,677</td>\n      <td>51.4567</td>\n      <td>-0.1910</td>\n    </tr>\n    <tr>\n      <th>31</th>\n      <td>Westminster</td>\n      <td>Westminster City Council</td>\n      <td>Conservative</td>\n      <td>8.29</td>\n      <td>261,317</td>\n      <td>51.4973</td>\n      <td>-0.1372</td>\n    </tr>\n  </tbody>\n</table>\n</div>"
     },
     "metadata": {},
     "execution_count": 36
    }
   ],
   "source": [
    "COL = {'Borough':'City of London', 'Local authority':'Corporation of London', 'Political control':'N/A', 'Area (sq mi)':'1.12', 'Population (2019 est)':'9721'}\n",
    "borough_table = borough_table.append(COL, ignore_index=True)\n",
    "borough_coordinates = pd.read_csv('London Boroughs.csv')\n",
    "borough_table = pd.merge(borough_table, borough_coordinates, on='Borough', how='inner')\n",
    "borough_table"
   ]
  },
  {
   "source": [
    "### Creating new dataframe using Geocoder to get coordinates of geographic center or boroughs"
   ],
   "cell_type": "markdown",
   "metadata": {}
  },
  {
   "cell_type": "code",
   "execution_count": 37,
   "metadata": {},
   "outputs": [],
   "source": [
    "def get_latlng(Borough):\n",
    "    lat_lng_coords = None\n",
    "    while(lat_lng_coords is None):\n",
    "        g = geocoder.arcgis('{}, London, United Kingdom'.format(Borough))\n",
    "        lat_lng_coords = g.latlng\n",
    "    return lat_lng_coords"
   ]
  },
  {
   "cell_type": "code",
   "execution_count": 38,
   "metadata": {},
   "outputs": [],
   "source": [
    "coords = [get_latlng(Borough) for Borough in borough_table[\"Borough\"].tolist() ]"
   ]
  },
  {
   "cell_type": "code",
   "execution_count": 39,
   "metadata": {},
   "outputs": [
    {
     "output_type": "execute_result",
     "data": {
      "text/plain": [
       "                Borough   Latitude  Longitude\n",
       "0  Barking and Dagenham  51.537452   0.072040\n",
       "1                Barnet  51.627300  -0.253760\n",
       "2                Bexley  51.452078   0.069931\n",
       "3                 Brent  51.609783  -0.194672\n",
       "4               Bromley  51.601511  -0.066365"
      ],
      "text/html": "<div>\n<style scoped>\n    .dataframe tbody tr th:only-of-type {\n        vertical-align: middle;\n    }\n\n    .dataframe tbody tr th {\n        vertical-align: top;\n    }\n\n    .dataframe thead th {\n        text-align: right;\n    }\n</style>\n<table border=\"1\" class=\"dataframe\">\n  <thead>\n    <tr style=\"text-align: right;\">\n      <th></th>\n      <th>Borough</th>\n      <th>Latitude</th>\n      <th>Longitude</th>\n    </tr>\n  </thead>\n  <tbody>\n    <tr>\n      <th>0</th>\n      <td>Barking and Dagenham</td>\n      <td>51.537452</td>\n      <td>0.072040</td>\n    </tr>\n    <tr>\n      <th>1</th>\n      <td>Barnet</td>\n      <td>51.627300</td>\n      <td>-0.253760</td>\n    </tr>\n    <tr>\n      <th>2</th>\n      <td>Bexley</td>\n      <td>51.452078</td>\n      <td>0.069931</td>\n    </tr>\n    <tr>\n      <th>3</th>\n      <td>Brent</td>\n      <td>51.609783</td>\n      <td>-0.194672</td>\n    </tr>\n    <tr>\n      <th>4</th>\n      <td>Bromley</td>\n      <td>51.601511</td>\n      <td>-0.066365</td>\n    </tr>\n  </tbody>\n</table>\n</div>"
     },
     "metadata": {},
     "execution_count": 39
    }
   ],
   "source": [
    "df_coords = pd.DataFrame(coords, columns=['Latitude', 'Longitude'])\n",
    "ldn_df = pd.DataFrame (borough_table['Borough'])\n",
    "ldn_df['Latitude'] = df_coords['Latitude']\n",
    "ldn_df['Longitude'] = df_coords['Longitude']\n",
    "ldn_df.head()"
   ]
  },
  {
   "cell_type": "code",
   "execution_count": 40,
   "metadata": {},
   "outputs": [
    {
     "output_type": "stream",
     "name": "stdout",
     "text": [
      "The geograpical coordinate of London, United Kingdom is 51.5073219, -0.1276474.\n"
     ]
    }
   ],
   "source": [
    "address = 'London, United Kingdom'\n",
    "\n",
    "geolocator = Nominatim(user_agent=\"http\")\n",
    "location = geolocator.geocode(address)\n",
    "latitude = location.latitude\n",
    "longitude = location.longitude\n",
    "print('The geograpical coordinate of London, United Kingdom is {}, {}.'.format(latitude, longitude))"
   ]
  },
  {
   "source": [
    "### Mapping coordinates"
   ],
   "cell_type": "markdown",
   "metadata": {}
  },
  {
   "cell_type": "code",
   "execution_count": 41,
   "metadata": {},
   "outputs": [
    {
     "output_type": "execute_result",
     "data": {
      "text/plain": [
       "<folium.folium.Map at 0x233ade12f70>"
      ],
      "text/html": "<div style=\"width:100%;\"><div style=\"position:relative;width:100%;height:0;padding-bottom:60%;\"><span style=\"color:#565656\">Make this Notebook Trusted to load map: File -> Trust Notebook</span><iframe src=\"about:blank\" style=\"position:absolute;width:100%;height:100%;left:0;top:0;border:none !important;\" data-html=%3C%21DOCTYPE%20html%3E%0A%3Chead%3E%20%20%20%20%0A%20%20%20%20%3Cmeta%20http-equiv%3D%22content-type%22%20content%3D%22text/html%3B%20charset%3DUTF-8%22%20/%3E%0A%20%20%20%20%0A%20%20%20%20%20%20%20%20%3Cscript%3E%0A%20%20%20%20%20%20%20%20%20%20%20%20L_NO_TOUCH%20%3D%20false%3B%0A%20%20%20%20%20%20%20%20%20%20%20%20L_DISABLE_3D%20%3D%20false%3B%0A%20%20%20%20%20%20%20%20%3C/script%3E%0A%20%20%20%20%0A%20%20%20%20%3Cstyle%3Ehtml%2C%20body%20%7Bwidth%3A%20100%25%3Bheight%3A%20100%25%3Bmargin%3A%200%3Bpadding%3A%200%3B%7D%3C/style%3E%0A%20%20%20%20%3Cstyle%3E%23map%20%7Bposition%3Aabsolute%3Btop%3A0%3Bbottom%3A0%3Bright%3A0%3Bleft%3A0%3B%7D%3C/style%3E%0A%20%20%20%20%3Cscript%20src%3D%22https%3A//cdn.jsdelivr.net/npm/leaflet%401.6.0/dist/leaflet.js%22%3E%3C/script%3E%0A%20%20%20%20%3Cscript%20src%3D%22https%3A//code.jquery.com/jquery-1.12.4.min.js%22%3E%3C/script%3E%0A%20%20%20%20%3Cscript%20src%3D%22https%3A//maxcdn.bootstrapcdn.com/bootstrap/3.2.0/js/bootstrap.min.js%22%3E%3C/script%3E%0A%20%20%20%20%3Cscript%20src%3D%22https%3A//cdnjs.cloudflare.com/ajax/libs/Leaflet.awesome-markers/2.0.2/leaflet.awesome-markers.js%22%3E%3C/script%3E%0A%20%20%20%20%3Clink%20rel%3D%22stylesheet%22%20href%3D%22https%3A//cdn.jsdelivr.net/npm/leaflet%401.6.0/dist/leaflet.css%22/%3E%0A%20%20%20%20%3Clink%20rel%3D%22stylesheet%22%20href%3D%22https%3A//maxcdn.bootstrapcdn.com/bootstrap/3.2.0/css/bootstrap.min.css%22/%3E%0A%20%20%20%20%3Clink%20rel%3D%22stylesheet%22%20href%3D%22https%3A//maxcdn.bootstrapcdn.com/bootstrap/3.2.0/css/bootstrap-theme.min.css%22/%3E%0A%20%20%20%20%3Clink%20rel%3D%22stylesheet%22%20href%3D%22https%3A//maxcdn.bootstrapcdn.com/font-awesome/4.6.3/css/font-awesome.min.css%22/%3E%0A%20%20%20%20%3Clink%20rel%3D%22stylesheet%22%20href%3D%22https%3A//cdnjs.cloudflare.com/ajax/libs/Leaflet.awesome-markers/2.0.2/leaflet.awesome-markers.css%22/%3E%0A%20%20%20%20%3Clink%20rel%3D%22stylesheet%22%20href%3D%22https%3A//cdn.jsdelivr.net/gh/python-visualization/folium/folium/templates/leaflet.awesome.rotate.min.css%22/%3E%0A%20%20%20%20%0A%20%20%20%20%20%20%20%20%20%20%20%20%3Cmeta%20name%3D%22viewport%22%20content%3D%22width%3Ddevice-width%2C%0A%20%20%20%20%20%20%20%20%20%20%20%20%20%20%20%20initial-scale%3D1.0%2C%20maximum-scale%3D1.0%2C%20user-scalable%3Dno%22%20/%3E%0A%20%20%20%20%20%20%20%20%20%20%20%20%3Cstyle%3E%0A%20%20%20%20%20%20%20%20%20%20%20%20%20%20%20%20%23map_fec29906a1f64b80b900ebdbe06d0475%20%7B%0A%20%20%20%20%20%20%20%20%20%20%20%20%20%20%20%20%20%20%20%20position%3A%20relative%3B%0A%20%20%20%20%20%20%20%20%20%20%20%20%20%20%20%20%20%20%20%20width%3A%20100.0%25%3B%0A%20%20%20%20%20%20%20%20%20%20%20%20%20%20%20%20%20%20%20%20height%3A%20100.0%25%3B%0A%20%20%20%20%20%20%20%20%20%20%20%20%20%20%20%20%20%20%20%20left%3A%200.0%25%3B%0A%20%20%20%20%20%20%20%20%20%20%20%20%20%20%20%20%20%20%20%20top%3A%200.0%25%3B%0A%20%20%20%20%20%20%20%20%20%20%20%20%20%20%20%20%7D%0A%20%20%20%20%20%20%20%20%20%20%20%20%3C/style%3E%0A%20%20%20%20%20%20%20%20%0A%3C/head%3E%0A%3Cbody%3E%20%20%20%20%0A%20%20%20%20%0A%20%20%20%20%20%20%20%20%20%20%20%20%3Cdiv%20class%3D%22folium-map%22%20id%3D%22map_fec29906a1f64b80b900ebdbe06d0475%22%20%3E%3C/div%3E%0A%20%20%20%20%20%20%20%20%0A%3C/body%3E%0A%3Cscript%3E%20%20%20%20%0A%20%20%20%20%0A%20%20%20%20%20%20%20%20%20%20%20%20var%20map_fec29906a1f64b80b900ebdbe06d0475%20%3D%20L.map%28%0A%20%20%20%20%20%20%20%20%20%20%20%20%20%20%20%20%22map_fec29906a1f64b80b900ebdbe06d0475%22%2C%0A%20%20%20%20%20%20%20%20%20%20%20%20%20%20%20%20%7B%0A%20%20%20%20%20%20%20%20%20%20%20%20%20%20%20%20%20%20%20%20center%3A%20%5B51.5073219%2C%20-0.1276474%5D%2C%0A%20%20%20%20%20%20%20%20%20%20%20%20%20%20%20%20%20%20%20%20crs%3A%20L.CRS.EPSG3857%2C%0A%20%20%20%20%20%20%20%20%20%20%20%20%20%20%20%20%20%20%20%20zoom%3A%2011%2C%0A%20%20%20%20%20%20%20%20%20%20%20%20%20%20%20%20%20%20%20%20zoomControl%3A%20true%2C%0A%20%20%20%20%20%20%20%20%20%20%20%20%20%20%20%20%20%20%20%20preferCanvas%3A%20false%2C%0A%20%20%20%20%20%20%20%20%20%20%20%20%20%20%20%20%7D%0A%20%20%20%20%20%20%20%20%20%20%20%20%29%3B%0A%0A%20%20%20%20%20%20%20%20%20%20%20%20%0A%0A%20%20%20%20%20%20%20%20%0A%20%20%20%20%0A%20%20%20%20%20%20%20%20%20%20%20%20var%20tile_layer_a03bd990fccb469b90b95dea2315eae9%20%3D%20L.tileLayer%28%0A%20%20%20%20%20%20%20%20%20%20%20%20%20%20%20%20%22https%3A//%7Bs%7D.tile.openstreetmap.org/%7Bz%7D/%7Bx%7D/%7By%7D.png%22%2C%0A%20%20%20%20%20%20%20%20%20%20%20%20%20%20%20%20%7B%22attribution%22%3A%20%22Data%20by%20%5Cu0026copy%3B%20%5Cu003ca%20href%3D%5C%22http%3A//openstreetmap.org%5C%22%5Cu003eOpenStreetMap%5Cu003c/a%5Cu003e%2C%20under%20%5Cu003ca%20href%3D%5C%22http%3A//www.openstreetmap.org/copyright%5C%22%5Cu003eODbL%5Cu003c/a%5Cu003e.%22%2C%20%22detectRetina%22%3A%20false%2C%20%22maxNativeZoom%22%3A%2018%2C%20%22maxZoom%22%3A%2018%2C%20%22minZoom%22%3A%200%2C%20%22noWrap%22%3A%20false%2C%20%22opacity%22%3A%201%2C%20%22subdomains%22%3A%20%22abc%22%2C%20%22tms%22%3A%20false%7D%0A%20%20%20%20%20%20%20%20%20%20%20%20%29.addTo%28map_fec29906a1f64b80b900ebdbe06d0475%29%3B%0A%20%20%20%20%20%20%20%20%0A%20%20%20%20%0A%20%20%20%20%20%20%20%20%20%20%20%20var%20circle_marker_1005b1ad1fdf42b78d4a39c614cb0b06%20%3D%20L.circleMarker%28%0A%20%20%20%20%20%20%20%20%20%20%20%20%20%20%20%20%5B51.53745198290119%2C%200.07204041241582201%5D%2C%0A%20%20%20%20%20%20%20%20%20%20%20%20%20%20%20%20%7B%22bubblingMouseEvents%22%3A%20true%2C%20%22color%22%3A%20%22blue%22%2C%20%22dashArray%22%3A%20null%2C%20%22dashOffset%22%3A%20null%2C%20%22fill%22%3A%20true%2C%20%22fillColor%22%3A%20%22%233186cc%22%2C%20%22fillOpacity%22%3A%200.7%2C%20%22fillRule%22%3A%20%22evenodd%22%2C%20%22lineCap%22%3A%20%22round%22%2C%20%22lineJoin%22%3A%20%22round%22%2C%20%22opacity%22%3A%201.0%2C%20%22radius%22%3A%205%2C%20%22stroke%22%3A%20true%2C%20%22weight%22%3A%203%7D%0A%20%20%20%20%20%20%20%20%20%20%20%20%29.addTo%28map_fec29906a1f64b80b900ebdbe06d0475%29%3B%0A%20%20%20%20%20%20%20%20%0A%20%20%20%20%0A%20%20%20%20%20%20%20%20var%20popup_1ba3fe467a06490f99ce8167f5a6d280%20%3D%20L.popup%28%7B%22maxWidth%22%3A%20%22100%25%22%7D%29%3B%0A%0A%20%20%20%20%20%20%20%20%0A%20%20%20%20%20%20%20%20%20%20%20%20var%20html_1eae0a01ac1a47bda9c80bf37a615327%20%3D%20%24%28%60%3Cdiv%20id%3D%22html_1eae0a01ac1a47bda9c80bf37a615327%22%20style%3D%22width%3A%20100.0%25%3B%20height%3A%20100.0%25%3B%22%3EBarking%20and%20Dagenham%3C/div%3E%60%29%5B0%5D%3B%0A%20%20%20%20%20%20%20%20%20%20%20%20popup_1ba3fe467a06490f99ce8167f5a6d280.setContent%28html_1eae0a01ac1a47bda9c80bf37a615327%29%3B%0A%20%20%20%20%20%20%20%20%0A%0A%20%20%20%20%20%20%20%20circle_marker_1005b1ad1fdf42b78d4a39c614cb0b06.bindPopup%28popup_1ba3fe467a06490f99ce8167f5a6d280%29%0A%20%20%20%20%20%20%20%20%3B%0A%0A%20%20%20%20%20%20%20%20%0A%20%20%20%20%0A%20%20%20%20%0A%20%20%20%20%20%20%20%20%20%20%20%20var%20circle_marker_a019c308739249e5870c79f980f5fb29%20%3D%20L.circleMarker%28%0A%20%20%20%20%20%20%20%20%20%20%20%20%20%20%20%20%5B51.62730004248549%2C%20-0.2537598974321753%5D%2C%0A%20%20%20%20%20%20%20%20%20%20%20%20%20%20%20%20%7B%22bubblingMouseEvents%22%3A%20true%2C%20%22color%22%3A%20%22blue%22%2C%20%22dashArray%22%3A%20null%2C%20%22dashOffset%22%3A%20null%2C%20%22fill%22%3A%20true%2C%20%22fillColor%22%3A%20%22%233186cc%22%2C%20%22fillOpacity%22%3A%200.7%2C%20%22fillRule%22%3A%20%22evenodd%22%2C%20%22lineCap%22%3A%20%22round%22%2C%20%22lineJoin%22%3A%20%22round%22%2C%20%22opacity%22%3A%201.0%2C%20%22radius%22%3A%205%2C%20%22stroke%22%3A%20true%2C%20%22weight%22%3A%203%7D%0A%20%20%20%20%20%20%20%20%20%20%20%20%29.addTo%28map_fec29906a1f64b80b900ebdbe06d0475%29%3B%0A%20%20%20%20%20%20%20%20%0A%20%20%20%20%0A%20%20%20%20%20%20%20%20var%20popup_e5995ea96b204e0783285ae4de4fbb63%20%3D%20L.popup%28%7B%22maxWidth%22%3A%20%22100%25%22%7D%29%3B%0A%0A%20%20%20%20%20%20%20%20%0A%20%20%20%20%20%20%20%20%20%20%20%20var%20html_9bf5bc7467d84c888d6cada4dd1f1442%20%3D%20%24%28%60%3Cdiv%20id%3D%22html_9bf5bc7467d84c888d6cada4dd1f1442%22%20style%3D%22width%3A%20100.0%25%3B%20height%3A%20100.0%25%3B%22%3EBarnet%3C/div%3E%60%29%5B0%5D%3B%0A%20%20%20%20%20%20%20%20%20%20%20%20popup_e5995ea96b204e0783285ae4de4fbb63.setContent%28html_9bf5bc7467d84c888d6cada4dd1f1442%29%3B%0A%20%20%20%20%20%20%20%20%0A%0A%20%20%20%20%20%20%20%20circle_marker_a019c308739249e5870c79f980f5fb29.bindPopup%28popup_e5995ea96b204e0783285ae4de4fbb63%29%0A%20%20%20%20%20%20%20%20%3B%0A%0A%20%20%20%20%20%20%20%20%0A%20%20%20%20%0A%20%20%20%20%0A%20%20%20%20%20%20%20%20%20%20%20%20var%20circle_marker_abb3be30af3345dd9654ed628c938014%20%3D%20L.circleMarker%28%0A%20%20%20%20%20%20%20%20%20%20%20%20%20%20%20%20%5B51.45207771535661%2C%200.0699310359401914%5D%2C%0A%20%20%20%20%20%20%20%20%20%20%20%20%20%20%20%20%7B%22bubblingMouseEvents%22%3A%20true%2C%20%22color%22%3A%20%22blue%22%2C%20%22dashArray%22%3A%20null%2C%20%22dashOffset%22%3A%20null%2C%20%22fill%22%3A%20true%2C%20%22fillColor%22%3A%20%22%233186cc%22%2C%20%22fillOpacity%22%3A%200.7%2C%20%22fillRule%22%3A%20%22evenodd%22%2C%20%22lineCap%22%3A%20%22round%22%2C%20%22lineJoin%22%3A%20%22round%22%2C%20%22opacity%22%3A%201.0%2C%20%22radius%22%3A%205%2C%20%22stroke%22%3A%20true%2C%20%22weight%22%3A%203%7D%0A%20%20%20%20%20%20%20%20%20%20%20%20%29.addTo%28map_fec29906a1f64b80b900ebdbe06d0475%29%3B%0A%20%20%20%20%20%20%20%20%0A%20%20%20%20%0A%20%20%20%20%20%20%20%20var%20popup_611c66bf1646492fa382741d6fda26f8%20%3D%20L.popup%28%7B%22maxWidth%22%3A%20%22100%25%22%7D%29%3B%0A%0A%20%20%20%20%20%20%20%20%0A%20%20%20%20%20%20%20%20%20%20%20%20var%20html_0aeded0a8357409db6dc6edb8a27a121%20%3D%20%24%28%60%3Cdiv%20id%3D%22html_0aeded0a8357409db6dc6edb8a27a121%22%20style%3D%22width%3A%20100.0%25%3B%20height%3A%20100.0%25%3B%22%3EBexley%3C/div%3E%60%29%5B0%5D%3B%0A%20%20%20%20%20%20%20%20%20%20%20%20popup_611c66bf1646492fa382741d6fda26f8.setContent%28html_0aeded0a8357409db6dc6edb8a27a121%29%3B%0A%20%20%20%20%20%20%20%20%0A%0A%20%20%20%20%20%20%20%20circle_marker_abb3be30af3345dd9654ed628c938014.bindPopup%28popup_611c66bf1646492fa382741d6fda26f8%29%0A%20%20%20%20%20%20%20%20%3B%0A%0A%20%20%20%20%20%20%20%20%0A%20%20%20%20%0A%20%20%20%20%0A%20%20%20%20%20%20%20%20%20%20%20%20var%20circle_marker_1f1d95e00baf48adbe4ce306ec348de9%20%3D%20L.circleMarker%28%0A%20%20%20%20%20%20%20%20%20%20%20%20%20%20%20%20%5B51.60978311508248%2C%20-0.19467200801902934%5D%2C%0A%20%20%20%20%20%20%20%20%20%20%20%20%20%20%20%20%7B%22bubblingMouseEvents%22%3A%20true%2C%20%22color%22%3A%20%22blue%22%2C%20%22dashArray%22%3A%20null%2C%20%22dashOffset%22%3A%20null%2C%20%22fill%22%3A%20true%2C%20%22fillColor%22%3A%20%22%233186cc%22%2C%20%22fillOpacity%22%3A%200.7%2C%20%22fillRule%22%3A%20%22evenodd%22%2C%20%22lineCap%22%3A%20%22round%22%2C%20%22lineJoin%22%3A%20%22round%22%2C%20%22opacity%22%3A%201.0%2C%20%22radius%22%3A%205%2C%20%22stroke%22%3A%20true%2C%20%22weight%22%3A%203%7D%0A%20%20%20%20%20%20%20%20%20%20%20%20%29.addTo%28map_fec29906a1f64b80b900ebdbe06d0475%29%3B%0A%20%20%20%20%20%20%20%20%0A%20%20%20%20%0A%20%20%20%20%20%20%20%20var%20popup_f775a08e162a40b98658d540380c75d3%20%3D%20L.popup%28%7B%22maxWidth%22%3A%20%22100%25%22%7D%29%3B%0A%0A%20%20%20%20%20%20%20%20%0A%20%20%20%20%20%20%20%20%20%20%20%20var%20html_09372bf5222047da819af077f552ae38%20%3D%20%24%28%60%3Cdiv%20id%3D%22html_09372bf5222047da819af077f552ae38%22%20style%3D%22width%3A%20100.0%25%3B%20height%3A%20100.0%25%3B%22%3EBrent%3C/div%3E%60%29%5B0%5D%3B%0A%20%20%20%20%20%20%20%20%20%20%20%20popup_f775a08e162a40b98658d540380c75d3.setContent%28html_09372bf5222047da819af077f552ae38%29%3B%0A%20%20%20%20%20%20%20%20%0A%0A%20%20%20%20%20%20%20%20circle_marker_1f1d95e00baf48adbe4ce306ec348de9.bindPopup%28popup_f775a08e162a40b98658d540380c75d3%29%0A%20%20%20%20%20%20%20%20%3B%0A%0A%20%20%20%20%20%20%20%20%0A%20%20%20%20%0A%20%20%20%20%0A%20%20%20%20%20%20%20%20%20%20%20%20var%20circle_marker_ed304a7e9e4f45b791d8584310bba8de%20%3D%20L.circleMarker%28%0A%20%20%20%20%20%20%20%20%20%20%20%20%20%20%20%20%5B51.601510574550396%2C%20-0.0663650798170126%5D%2C%0A%20%20%20%20%20%20%20%20%20%20%20%20%20%20%20%20%7B%22bubblingMouseEvents%22%3A%20true%2C%20%22color%22%3A%20%22blue%22%2C%20%22dashArray%22%3A%20null%2C%20%22dashOffset%22%3A%20null%2C%20%22fill%22%3A%20true%2C%20%22fillColor%22%3A%20%22%233186cc%22%2C%20%22fillOpacity%22%3A%200.7%2C%20%22fillRule%22%3A%20%22evenodd%22%2C%20%22lineCap%22%3A%20%22round%22%2C%20%22lineJoin%22%3A%20%22round%22%2C%20%22opacity%22%3A%201.0%2C%20%22radius%22%3A%205%2C%20%22stroke%22%3A%20true%2C%20%22weight%22%3A%203%7D%0A%20%20%20%20%20%20%20%20%20%20%20%20%29.addTo%28map_fec29906a1f64b80b900ebdbe06d0475%29%3B%0A%20%20%20%20%20%20%20%20%0A%20%20%20%20%0A%20%20%20%20%20%20%20%20var%20popup_4a1edd9d69ab49539c9678d175308437%20%3D%20L.popup%28%7B%22maxWidth%22%3A%20%22100%25%22%7D%29%3B%0A%0A%20%20%20%20%20%20%20%20%0A%20%20%20%20%20%20%20%20%20%20%20%20var%20html_3b29b3c0ce174e24bfbf820b8e2c28fd%20%3D%20%24%28%60%3Cdiv%20id%3D%22html_3b29b3c0ce174e24bfbf820b8e2c28fd%22%20style%3D%22width%3A%20100.0%25%3B%20height%3A%20100.0%25%3B%22%3EBromley%3C/div%3E%60%29%5B0%5D%3B%0A%20%20%20%20%20%20%20%20%20%20%20%20popup_4a1edd9d69ab49539c9678d175308437.setContent%28html_3b29b3c0ce174e24bfbf820b8e2c28fd%29%3B%0A%20%20%20%20%20%20%20%20%0A%0A%20%20%20%20%20%20%20%20circle_marker_ed304a7e9e4f45b791d8584310bba8de.bindPopup%28popup_4a1edd9d69ab49539c9678d175308437%29%0A%20%20%20%20%20%20%20%20%3B%0A%0A%20%20%20%20%20%20%20%20%0A%20%20%20%20%0A%20%20%20%20%0A%20%20%20%20%20%20%20%20%20%20%20%20var%20circle_marker_eee7ada868dc480a839845ff2f66738a%20%3D%20L.circleMarker%28%0A%20%20%20%20%20%20%20%20%20%20%20%20%20%20%20%20%5B51.59118003286011%2C%20-0.1650399249815564%5D%2C%0A%20%20%20%20%20%20%20%20%20%20%20%20%20%20%20%20%7B%22bubblingMouseEvents%22%3A%20true%2C%20%22color%22%3A%20%22blue%22%2C%20%22dashArray%22%3A%20null%2C%20%22dashOffset%22%3A%20null%2C%20%22fill%22%3A%20true%2C%20%22fillColor%22%3A%20%22%233186cc%22%2C%20%22fillOpacity%22%3A%200.7%2C%20%22fillRule%22%3A%20%22evenodd%22%2C%20%22lineCap%22%3A%20%22round%22%2C%20%22lineJoin%22%3A%20%22round%22%2C%20%22opacity%22%3A%201.0%2C%20%22radius%22%3A%205%2C%20%22stroke%22%3A%20true%2C%20%22weight%22%3A%203%7D%0A%20%20%20%20%20%20%20%20%20%20%20%20%29.addTo%28map_fec29906a1f64b80b900ebdbe06d0475%29%3B%0A%20%20%20%20%20%20%20%20%0A%20%20%20%20%0A%20%20%20%20%20%20%20%20var%20popup_1289d7e8b9d5456c812ace6e31875a6c%20%3D%20L.popup%28%7B%22maxWidth%22%3A%20%22100%25%22%7D%29%3B%0A%0A%20%20%20%20%20%20%20%20%0A%20%20%20%20%20%20%20%20%20%20%20%20var%20html_b6f69d2db4a148929fa2656e40d3876e%20%3D%20%24%28%60%3Cdiv%20id%3D%22html_b6f69d2db4a148929fa2656e40d3876e%22%20style%3D%22width%3A%20100.0%25%3B%20height%3A%20100.0%25%3B%22%3ECamden%3C/div%3E%60%29%5B0%5D%3B%0A%20%20%20%20%20%20%20%20%20%20%20%20popup_1289d7e8b9d5456c812ace6e31875a6c.setContent%28html_b6f69d2db4a148929fa2656e40d3876e%29%3B%0A%20%20%20%20%20%20%20%20%0A%0A%20%20%20%20%20%20%20%20circle_marker_eee7ada868dc480a839845ff2f66738a.bindPopup%28popup_1289d7e8b9d5456c812ace6e31875a6c%29%0A%20%20%20%20%20%20%20%20%3B%0A%0A%20%20%20%20%20%20%20%20%0A%20%20%20%20%0A%20%20%20%20%0A%20%20%20%20%20%20%20%20%20%20%20%20var%20circle_marker_aee86a0eff7a448b805b659e3292855d%20%3D%20L.circleMarker%28%0A%20%20%20%20%20%20%20%20%20%20%20%20%20%20%20%20%5B51.59347001071714%2C%20-0.08337998766609189%5D%2C%0A%20%20%20%20%20%20%20%20%20%20%20%20%20%20%20%20%7B%22bubblingMouseEvents%22%3A%20true%2C%20%22color%22%3A%20%22blue%22%2C%20%22dashArray%22%3A%20null%2C%20%22dashOffset%22%3A%20null%2C%20%22fill%22%3A%20true%2C%20%22fillColor%22%3A%20%22%233186cc%22%2C%20%22fillOpacity%22%3A%200.7%2C%20%22fillRule%22%3A%20%22evenodd%22%2C%20%22lineCap%22%3A%20%22round%22%2C%20%22lineJoin%22%3A%20%22round%22%2C%20%22opacity%22%3A%201.0%2C%20%22radius%22%3A%205%2C%20%22stroke%22%3A%20true%2C%20%22weight%22%3A%203%7D%0A%20%20%20%20%20%20%20%20%20%20%20%20%29.addTo%28map_fec29906a1f64b80b900ebdbe06d0475%29%3B%0A%20%20%20%20%20%20%20%20%0A%20%20%20%20%0A%20%20%20%20%20%20%20%20var%20popup_fb70b93a4dff428da423406617d9b606%20%3D%20L.popup%28%7B%22maxWidth%22%3A%20%22100%25%22%7D%29%3B%0A%0A%20%20%20%20%20%20%20%20%0A%20%20%20%20%20%20%20%20%20%20%20%20var%20html_526dfcb80c9745ed98de56783c137fc5%20%3D%20%24%28%60%3Cdiv%20id%3D%22html_526dfcb80c9745ed98de56783c137fc5%22%20style%3D%22width%3A%20100.0%25%3B%20height%3A%20100.0%25%3B%22%3ECroydon%3C/div%3E%60%29%5B0%5D%3B%0A%20%20%20%20%20%20%20%20%20%20%20%20popup_fb70b93a4dff428da423406617d9b606.setContent%28html_526dfcb80c9745ed98de56783c137fc5%29%3B%0A%20%20%20%20%20%20%20%20%0A%0A%20%20%20%20%20%20%20%20circle_marker_aee86a0eff7a448b805b659e3292855d.bindPopup%28popup_fb70b93a4dff428da423406617d9b606%29%0A%20%20%20%20%20%20%20%20%3B%0A%0A%20%20%20%20%20%20%20%20%0A%20%20%20%20%0A%20%20%20%20%0A%20%20%20%20%20%20%20%20%20%20%20%20var%20circle_marker_5d5f2f7510aa430da590fffb9f95a345%20%3D%20L.circleMarker%28%0A%20%20%20%20%20%20%20%20%20%20%20%20%20%20%20%20%5B51.50838262535136%2C%20-0.3051999305864683%5D%2C%0A%20%20%20%20%20%20%20%20%20%20%20%20%20%20%20%20%7B%22bubblingMouseEvents%22%3A%20true%2C%20%22color%22%3A%20%22blue%22%2C%20%22dashArray%22%3A%20null%2C%20%22dashOffset%22%3A%20null%2C%20%22fill%22%3A%20true%2C%20%22fillColor%22%3A%20%22%233186cc%22%2C%20%22fillOpacity%22%3A%200.7%2C%20%22fillRule%22%3A%20%22evenodd%22%2C%20%22lineCap%22%3A%20%22round%22%2C%20%22lineJoin%22%3A%20%22round%22%2C%20%22opacity%22%3A%201.0%2C%20%22radius%22%3A%205%2C%20%22stroke%22%3A%20true%2C%20%22weight%22%3A%203%7D%0A%20%20%20%20%20%20%20%20%20%20%20%20%29.addTo%28map_fec29906a1f64b80b900ebdbe06d0475%29%3B%0A%20%20%20%20%20%20%20%20%0A%20%20%20%20%0A%20%20%20%20%20%20%20%20var%20popup_5137a4daf56e438c9c9a3b33716c14a3%20%3D%20L.popup%28%7B%22maxWidth%22%3A%20%22100%25%22%7D%29%3B%0A%0A%20%20%20%20%20%20%20%20%0A%20%20%20%20%20%20%20%20%20%20%20%20var%20html_a9eb860c85474bdeade8d99a62204536%20%3D%20%24%28%60%3Cdiv%20id%3D%22html_a9eb860c85474bdeade8d99a62204536%22%20style%3D%22width%3A%20100.0%25%3B%20height%3A%20100.0%25%3B%22%3EEaling%3C/div%3E%60%29%5B0%5D%3B%0A%20%20%20%20%20%20%20%20%20%20%20%20popup_5137a4daf56e438c9c9a3b33716c14a3.setContent%28html_a9eb860c85474bdeade8d99a62204536%29%3B%0A%20%20%20%20%20%20%20%20%0A%0A%20%20%20%20%20%20%20%20circle_marker_5d5f2f7510aa430da590fffb9f95a345.bindPopup%28popup_5137a4daf56e438c9c9a3b33716c14a3%29%0A%20%20%20%20%20%20%20%20%3B%0A%0A%20%20%20%20%20%20%20%20%0A%20%20%20%20%0A%20%20%20%20%0A%20%20%20%20%20%20%20%20%20%20%20%20var%20circle_marker_6eeb34220c83495b993fe89d82a2a7dc%20%3D%20L.circleMarker%28%0A%20%20%20%20%20%20%20%20%20%20%20%20%20%20%20%20%5B51.54002362151675%2C%20-0.07750215374723571%5D%2C%0A%20%20%20%20%20%20%20%20%20%20%20%20%20%20%20%20%7B%22bubblingMouseEvents%22%3A%20true%2C%20%22color%22%3A%20%22blue%22%2C%20%22dashArray%22%3A%20null%2C%20%22dashOffset%22%3A%20null%2C%20%22fill%22%3A%20true%2C%20%22fillColor%22%3A%20%22%233186cc%22%2C%20%22fillOpacity%22%3A%200.7%2C%20%22fillRule%22%3A%20%22evenodd%22%2C%20%22lineCap%22%3A%20%22round%22%2C%20%22lineJoin%22%3A%20%22round%22%2C%20%22opacity%22%3A%201.0%2C%20%22radius%22%3A%205%2C%20%22stroke%22%3A%20true%2C%20%22weight%22%3A%203%7D%0A%20%20%20%20%20%20%20%20%20%20%20%20%29.addTo%28map_fec29906a1f64b80b900ebdbe06d0475%29%3B%0A%20%20%20%20%20%20%20%20%0A%20%20%20%20%0A%20%20%20%20%20%20%20%20var%20popup_1eeef7cb21fd47c1bcaf7893b607a2c3%20%3D%20L.popup%28%7B%22maxWidth%22%3A%20%22100%25%22%7D%29%3B%0A%0A%20%20%20%20%20%20%20%20%0A%20%20%20%20%20%20%20%20%20%20%20%20var%20html_a8643f2c905a4a0db344b0df91a25204%20%3D%20%24%28%60%3Cdiv%20id%3D%22html_a8643f2c905a4a0db344b0df91a25204%22%20style%3D%22width%3A%20100.0%25%3B%20height%3A%20100.0%25%3B%22%3EEnfield%3C/div%3E%60%29%5B0%5D%3B%0A%20%20%20%20%20%20%20%20%20%20%20%20popup_1eeef7cb21fd47c1bcaf7893b607a2c3.setContent%28html_a8643f2c905a4a0db344b0df91a25204%29%3B%0A%20%20%20%20%20%20%20%20%0A%0A%20%20%20%20%20%20%20%20circle_marker_6eeb34220c83495b993fe89d82a2a7dc.bindPopup%28popup_1eeef7cb21fd47c1bcaf7893b607a2c3%29%0A%20%20%20%20%20%20%20%20%3B%0A%0A%20%20%20%20%20%20%20%20%0A%20%20%20%20%0A%20%20%20%20%0A%20%20%20%20%20%20%20%20%20%20%20%20var%20circle_marker_f607c4f7ca4a4aa9a7c4b7f1b879ba50%20%3D%20L.circleMarker%28%0A%20%20%20%20%20%20%20%20%20%20%20%20%20%20%20%20%5B51.47789000000006%2C%20-0.013339999999971042%5D%2C%0A%20%20%20%20%20%20%20%20%20%20%20%20%20%20%20%20%7B%22bubblingMouseEvents%22%3A%20true%2C%20%22color%22%3A%20%22blue%22%2C%20%22dashArray%22%3A%20null%2C%20%22dashOffset%22%3A%20null%2C%20%22fill%22%3A%20true%2C%20%22fillColor%22%3A%20%22%233186cc%22%2C%20%22fillOpacity%22%3A%200.7%2C%20%22fillRule%22%3A%20%22evenodd%22%2C%20%22lineCap%22%3A%20%22round%22%2C%20%22lineJoin%22%3A%20%22round%22%2C%20%22opacity%22%3A%201.0%2C%20%22radius%22%3A%205%2C%20%22stroke%22%3A%20true%2C%20%22weight%22%3A%203%7D%0A%20%20%20%20%20%20%20%20%20%20%20%20%29.addTo%28map_fec29906a1f64b80b900ebdbe06d0475%29%3B%0A%20%20%20%20%20%20%20%20%0A%20%20%20%20%0A%20%20%20%20%20%20%20%20var%20popup_fddef33d077c4c3c89f1c9a427190a80%20%3D%20L.popup%28%7B%22maxWidth%22%3A%20%22100%25%22%7D%29%3B%0A%0A%20%20%20%20%20%20%20%20%0A%20%20%20%20%20%20%20%20%20%20%20%20var%20html_80019eaac1cd4bf7bb307841a870f353%20%3D%20%24%28%60%3Cdiv%20id%3D%22html_80019eaac1cd4bf7bb307841a870f353%22%20style%3D%22width%3A%20100.0%25%3B%20height%3A%20100.0%25%3B%22%3EGreenwich%3C/div%3E%60%29%5B0%5D%3B%0A%20%20%20%20%20%20%20%20%20%20%20%20popup_fddef33d077c4c3c89f1c9a427190a80.setContent%28html_80019eaac1cd4bf7bb307841a870f353%29%3B%0A%20%20%20%20%20%20%20%20%0A%0A%20%20%20%20%20%20%20%20circle_marker_f607c4f7ca4a4aa9a7c4b7f1b879ba50.bindPopup%28popup_fddef33d077c4c3c89f1c9a427190a80%29%0A%20%20%20%20%20%20%20%20%3B%0A%0A%20%20%20%20%20%20%20%20%0A%20%20%20%20%0A%20%20%20%20%0A%20%20%20%20%20%20%20%20%20%20%20%20var%20circle_marker_040a18428dba41aba874b4752a092af6%20%3D%20L.circleMarker%28%0A%20%20%20%20%20%20%20%20%20%20%20%20%20%20%20%20%5B51.5318204220698%2C%20-0.061780069180780356%5D%2C%0A%20%20%20%20%20%20%20%20%20%20%20%20%20%20%20%20%7B%22bubblingMouseEvents%22%3A%20true%2C%20%22color%22%3A%20%22blue%22%2C%20%22dashArray%22%3A%20null%2C%20%22dashOffset%22%3A%20null%2C%20%22fill%22%3A%20true%2C%20%22fillColor%22%3A%20%22%233186cc%22%2C%20%22fillOpacity%22%3A%200.7%2C%20%22fillRule%22%3A%20%22evenodd%22%2C%20%22lineCap%22%3A%20%22round%22%2C%20%22lineJoin%22%3A%20%22round%22%2C%20%22opacity%22%3A%201.0%2C%20%22radius%22%3A%205%2C%20%22stroke%22%3A%20true%2C%20%22weight%22%3A%203%7D%0A%20%20%20%20%20%20%20%20%20%20%20%20%29.addTo%28map_fec29906a1f64b80b900ebdbe06d0475%29%3B%0A%20%20%20%20%20%20%20%20%0A%20%20%20%20%0A%20%20%20%20%20%20%20%20var%20popup_39da4f2084c547afb4b2821bb5448573%20%3D%20L.popup%28%7B%22maxWidth%22%3A%20%22100%25%22%7D%29%3B%0A%0A%20%20%20%20%20%20%20%20%0A%20%20%20%20%20%20%20%20%20%20%20%20var%20html_adbb583ce57e4a39a7ae2eedb081a1fa%20%3D%20%24%28%60%3Cdiv%20id%3D%22html_adbb583ce57e4a39a7ae2eedb081a1fa%22%20style%3D%22width%3A%20100.0%25%3B%20height%3A%20100.0%25%3B%22%3EHackney%3C/div%3E%60%29%5B0%5D%3B%0A%20%20%20%20%20%20%20%20%20%20%20%20popup_39da4f2084c547afb4b2821bb5448573.setContent%28html_adbb583ce57e4a39a7ae2eedb081a1fa%29%3B%0A%20%20%20%20%20%20%20%20%0A%0A%20%20%20%20%20%20%20%20circle_marker_040a18428dba41aba874b4752a092af6.bindPopup%28popup_39da4f2084c547afb4b2821bb5448573%29%0A%20%20%20%20%20%20%20%20%3B%0A%0A%20%20%20%20%20%20%20%20%0A%20%20%20%20%0A%20%20%20%20%0A%20%20%20%20%20%20%20%20%20%20%20%20var%20circle_marker_55f56a6b40e7471081781b357874d813%20%3D%20L.circleMarker%28%0A%20%20%20%20%20%20%20%20%20%20%20%20%20%20%20%20%5B51.48260000000005%2C%20-0.21287999999992735%5D%2C%0A%20%20%20%20%20%20%20%20%20%20%20%20%20%20%20%20%7B%22bubblingMouseEvents%22%3A%20true%2C%20%22color%22%3A%20%22blue%22%2C%20%22dashArray%22%3A%20null%2C%20%22dashOffset%22%3A%20null%2C%20%22fill%22%3A%20true%2C%20%22fillColor%22%3A%20%22%233186cc%22%2C%20%22fillOpacity%22%3A%200.7%2C%20%22fillRule%22%3A%20%22evenodd%22%2C%20%22lineCap%22%3A%20%22round%22%2C%20%22lineJoin%22%3A%20%22round%22%2C%20%22opacity%22%3A%201.0%2C%20%22radius%22%3A%205%2C%20%22stroke%22%3A%20true%2C%20%22weight%22%3A%203%7D%0A%20%20%20%20%20%20%20%20%20%20%20%20%29.addTo%28map_fec29906a1f64b80b900ebdbe06d0475%29%3B%0A%20%20%20%20%20%20%20%20%0A%20%20%20%20%0A%20%20%20%20%20%20%20%20var%20popup_a21386ccde234a6cbdbd7b450be9daed%20%3D%20L.popup%28%7B%22maxWidth%22%3A%20%22100%25%22%7D%29%3B%0A%0A%20%20%20%20%20%20%20%20%0A%20%20%20%20%20%20%20%20%20%20%20%20var%20html_235d6cf9088c4d00b340ada593781876%20%3D%20%24%28%60%3Cdiv%20id%3D%22html_235d6cf9088c4d00b340ada593781876%22%20style%3D%22width%3A%20100.0%25%3B%20height%3A%20100.0%25%3B%22%3EHammersmith%20and%20Fulham%3C/div%3E%60%29%5B0%5D%3B%0A%20%20%20%20%20%20%20%20%20%20%20%20popup_a21386ccde234a6cbdbd7b450be9daed.setContent%28html_235d6cf9088c4d00b340ada593781876%29%3B%0A%20%20%20%20%20%20%20%20%0A%0A%20%20%20%20%20%20%20%20circle_marker_55f56a6b40e7471081781b357874d813.bindPopup%28popup_a21386ccde234a6cbdbd7b450be9daed%29%0A%20%20%20%20%20%20%20%20%3B%0A%0A%20%20%20%20%20%20%20%20%0A%20%20%20%20%0A%20%20%20%20%0A%20%20%20%20%20%20%20%20%20%20%20%20var%20circle_marker_dd87a784377e4f2d9a2990d1efa4f2f7%20%3D%20L.circleMarker%28%0A%20%20%20%20%20%20%20%20%20%20%20%20%20%20%20%20%5B51.589270048583515%2C%20-0.10640490805097613%5D%2C%0A%20%20%20%20%20%20%20%20%20%20%20%20%20%20%20%20%7B%22bubblingMouseEvents%22%3A%20true%2C%20%22color%22%3A%20%22blue%22%2C%20%22dashArray%22%3A%20null%2C%20%22dashOffset%22%3A%20null%2C%20%22fill%22%3A%20true%2C%20%22fillColor%22%3A%20%22%233186cc%22%2C%20%22fillOpacity%22%3A%200.7%2C%20%22fillRule%22%3A%20%22evenodd%22%2C%20%22lineCap%22%3A%20%22round%22%2C%20%22lineJoin%22%3A%20%22round%22%2C%20%22opacity%22%3A%201.0%2C%20%22radius%22%3A%205%2C%20%22stroke%22%3A%20true%2C%20%22weight%22%3A%203%7D%0A%20%20%20%20%20%20%20%20%20%20%20%20%29.addTo%28map_fec29906a1f64b80b900ebdbe06d0475%29%3B%0A%20%20%20%20%20%20%20%20%0A%20%20%20%20%0A%20%20%20%20%20%20%20%20var%20popup_cdf258aa46924ed797ccda0026288b5e%20%3D%20L.popup%28%7B%22maxWidth%22%3A%20%22100%25%22%7D%29%3B%0A%0A%20%20%20%20%20%20%20%20%0A%20%20%20%20%20%20%20%20%20%20%20%20var%20html_08c4b8ccb08643fd8ed19d2738ee7eb1%20%3D%20%24%28%60%3Cdiv%20id%3D%22html_08c4b8ccb08643fd8ed19d2738ee7eb1%22%20style%3D%22width%3A%20100.0%25%3B%20height%3A%20100.0%25%3B%22%3EHaringey%3C/div%3E%60%29%5B0%5D%3B%0A%20%20%20%20%20%20%20%20%20%20%20%20popup_cdf258aa46924ed797ccda0026288b5e.setContent%28html_08c4b8ccb08643fd8ed19d2738ee7eb1%29%3B%0A%20%20%20%20%20%20%20%20%0A%0A%20%20%20%20%20%20%20%20circle_marker_dd87a784377e4f2d9a2990d1efa4f2f7.bindPopup%28popup_cdf258aa46924ed797ccda0026288b5e%29%0A%20%20%20%20%20%20%20%20%3B%0A%0A%20%20%20%20%20%20%20%20%0A%20%20%20%20%0A%20%20%20%20%0A%20%20%20%20%20%20%20%20%20%20%20%20var%20circle_marker_0d87f338dcd24b048bad87716fed54f8%20%3D%20L.circleMarker%28%0A%20%20%20%20%20%20%20%20%20%20%20%20%20%20%20%20%5B51.513180000000034%2C%20-0.10697999999996455%5D%2C%0A%20%20%20%20%20%20%20%20%20%20%20%20%20%20%20%20%7B%22bubblingMouseEvents%22%3A%20true%2C%20%22color%22%3A%20%22blue%22%2C%20%22dashArray%22%3A%20null%2C%20%22dashOffset%22%3A%20null%2C%20%22fill%22%3A%20true%2C%20%22fillColor%22%3A%20%22%233186cc%22%2C%20%22fillOpacity%22%3A%200.7%2C%20%22fillRule%22%3A%20%22evenodd%22%2C%20%22lineCap%22%3A%20%22round%22%2C%20%22lineJoin%22%3A%20%22round%22%2C%20%22opacity%22%3A%201.0%2C%20%22radius%22%3A%205%2C%20%22stroke%22%3A%20true%2C%20%22weight%22%3A%203%7D%0A%20%20%20%20%20%20%20%20%20%20%20%20%29.addTo%28map_fec29906a1f64b80b900ebdbe06d0475%29%3B%0A%20%20%20%20%20%20%20%20%0A%20%20%20%20%0A%20%20%20%20%20%20%20%20var%20popup_73326798e8f24d48a50615df16b6feea%20%3D%20L.popup%28%7B%22maxWidth%22%3A%20%22100%25%22%7D%29%3B%0A%0A%20%20%20%20%20%20%20%20%0A%20%20%20%20%20%20%20%20%20%20%20%20var%20html_46786ea489c74d1ea0495670fab24051%20%3D%20%24%28%60%3Cdiv%20id%3D%22html_46786ea489c74d1ea0495670fab24051%22%20style%3D%22width%3A%20100.0%25%3B%20height%3A%20100.0%25%3B%22%3EHarrow%3C/div%3E%60%29%5B0%5D%3B%0A%20%20%20%20%20%20%20%20%20%20%20%20popup_73326798e8f24d48a50615df16b6feea.setContent%28html_46786ea489c74d1ea0495670fab24051%29%3B%0A%20%20%20%20%20%20%20%20%0A%0A%20%20%20%20%20%20%20%20circle_marker_0d87f338dcd24b048bad87716fed54f8.bindPopup%28popup_73326798e8f24d48a50615df16b6feea%29%0A%20%20%20%20%20%20%20%20%3B%0A%0A%20%20%20%20%20%20%20%20%0A%20%20%20%20%0A%20%20%20%20%0A%20%20%20%20%20%20%20%20%20%20%20%20var%20circle_marker_e729a65e976f451a91f777e88a4c3903%20%3D%20L.circleMarker%28%0A%20%20%20%20%20%20%20%20%20%20%20%20%20%20%20%20%5B51.54461001117929%2C%20-0.14426001354320306%5D%2C%0A%20%20%20%20%20%20%20%20%20%20%20%20%20%20%20%20%7B%22bubblingMouseEvents%22%3A%20true%2C%20%22color%22%3A%20%22blue%22%2C%20%22dashArray%22%3A%20null%2C%20%22dashOffset%22%3A%20null%2C%20%22fill%22%3A%20true%2C%20%22fillColor%22%3A%20%22%233186cc%22%2C%20%22fillOpacity%22%3A%200.7%2C%20%22fillRule%22%3A%20%22evenodd%22%2C%20%22lineCap%22%3A%20%22round%22%2C%20%22lineJoin%22%3A%20%22round%22%2C%20%22opacity%22%3A%201.0%2C%20%22radius%22%3A%205%2C%20%22stroke%22%3A%20true%2C%20%22weight%22%3A%203%7D%0A%20%20%20%20%20%20%20%20%20%20%20%20%29.addTo%28map_fec29906a1f64b80b900ebdbe06d0475%29%3B%0A%20%20%20%20%20%20%20%20%0A%20%20%20%20%0A%20%20%20%20%20%20%20%20var%20popup_21d1cd3bc8cb44ed99a3d4b3a1b5e3af%20%3D%20L.popup%28%7B%22maxWidth%22%3A%20%22100%25%22%7D%29%3B%0A%0A%20%20%20%20%20%20%20%20%0A%20%20%20%20%20%20%20%20%20%20%20%20var%20html_a8a6c23e166b4a598a6be7cb05473eb6%20%3D%20%24%28%60%3Cdiv%20id%3D%22html_a8a6c23e166b4a598a6be7cb05473eb6%22%20style%3D%22width%3A%20100.0%25%3B%20height%3A%20100.0%25%3B%22%3EHavering%3C/div%3E%60%29%5B0%5D%3B%0A%20%20%20%20%20%20%20%20%20%20%20%20popup_21d1cd3bc8cb44ed99a3d4b3a1b5e3af.setContent%28html_a8a6c23e166b4a598a6be7cb05473eb6%29%3B%0A%20%20%20%20%20%20%20%20%0A%0A%20%20%20%20%20%20%20%20circle_marker_e729a65e976f451a91f777e88a4c3903.bindPopup%28popup_21d1cd3bc8cb44ed99a3d4b3a1b5e3af%29%0A%20%20%20%20%20%20%20%20%3B%0A%0A%20%20%20%20%20%20%20%20%0A%20%20%20%20%0A%20%20%20%20%0A%20%20%20%20%20%20%20%20%20%20%20%20var%20circle_marker_2c5ea4222d5d4e87b34d31462aefb6fc%20%3D%20L.circleMarker%28%0A%20%20%20%20%20%20%20%20%20%20%20%20%20%20%20%20%5B51.48423031527276%2C%20-0.09647669591553293%5D%2C%0A%20%20%20%20%20%20%20%20%20%20%20%20%20%20%20%20%7B%22bubblingMouseEvents%22%3A%20true%2C%20%22color%22%3A%20%22blue%22%2C%20%22dashArray%22%3A%20null%2C%20%22dashOffset%22%3A%20null%2C%20%22fill%22%3A%20true%2C%20%22fillColor%22%3A%20%22%233186cc%22%2C%20%22fillOpacity%22%3A%200.7%2C%20%22fillRule%22%3A%20%22evenodd%22%2C%20%22lineCap%22%3A%20%22round%22%2C%20%22lineJoin%22%3A%20%22round%22%2C%20%22opacity%22%3A%201.0%2C%20%22radius%22%3A%205%2C%20%22stroke%22%3A%20true%2C%20%22weight%22%3A%203%7D%0A%20%20%20%20%20%20%20%20%20%20%20%20%29.addTo%28map_fec29906a1f64b80b900ebdbe06d0475%29%3B%0A%20%20%20%20%20%20%20%20%0A%20%20%20%20%0A%20%20%20%20%20%20%20%20var%20popup_db14057bc13944e986db24e6facd7d75%20%3D%20L.popup%28%7B%22maxWidth%22%3A%20%22100%25%22%7D%29%3B%0A%0A%20%20%20%20%20%20%20%20%0A%20%20%20%20%20%20%20%20%20%20%20%20var%20html_19071a78288547a5bcb4732c638fb81e%20%3D%20%24%28%60%3Cdiv%20id%3D%22html_19071a78288547a5bcb4732c638fb81e%22%20style%3D%22width%3A%20100.0%25%3B%20height%3A%20100.0%25%3B%22%3EHillingdon%3C/div%3E%60%29%5B0%5D%3B%0A%20%20%20%20%20%20%20%20%20%20%20%20popup_db14057bc13944e986db24e6facd7d75.setContent%28html_19071a78288547a5bcb4732c638fb81e%29%3B%0A%20%20%20%20%20%20%20%20%0A%0A%20%20%20%20%20%20%20%20circle_marker_2c5ea4222d5d4e87b34d31462aefb6fc.bindPopup%28popup_db14057bc13944e986db24e6facd7d75%29%0A%20%20%20%20%20%20%20%20%3B%0A%0A%20%20%20%20%20%20%20%20%0A%20%20%20%20%0A%20%20%20%20%0A%20%20%20%20%20%20%20%20%20%20%20%20var%20circle_marker_28baf0931b7c4642b82eca337800db8f%20%3D%20L.circleMarker%28%0A%20%20%20%20%20%20%20%20%20%20%20%20%20%20%20%20%5B51.47139321701691%2C%20-0.3513735776861554%5D%2C%0A%20%20%20%20%20%20%20%20%20%20%20%20%20%20%20%20%7B%22bubblingMouseEvents%22%3A%20true%2C%20%22color%22%3A%20%22blue%22%2C%20%22dashArray%22%3A%20null%2C%20%22dashOffset%22%3A%20null%2C%20%22fill%22%3A%20true%2C%20%22fillColor%22%3A%20%22%233186cc%22%2C%20%22fillOpacity%22%3A%200.7%2C%20%22fillRule%22%3A%20%22evenodd%22%2C%20%22lineCap%22%3A%20%22round%22%2C%20%22lineJoin%22%3A%20%22round%22%2C%20%22opacity%22%3A%201.0%2C%20%22radius%22%3A%205%2C%20%22stroke%22%3A%20true%2C%20%22weight%22%3A%203%7D%0A%20%20%20%20%20%20%20%20%20%20%20%20%29.addTo%28map_fec29906a1f64b80b900ebdbe06d0475%29%3B%0A%20%20%20%20%20%20%20%20%0A%20%20%20%20%0A%20%20%20%20%20%20%20%20var%20popup_6d74500ef2eb411cb31b378aa4827d2b%20%3D%20L.popup%28%7B%22maxWidth%22%3A%20%22100%25%22%7D%29%3B%0A%0A%20%20%20%20%20%20%20%20%0A%20%20%20%20%20%20%20%20%20%20%20%20var%20html_8b06d83c614d431c94c5ca7567d98f20%20%3D%20%24%28%60%3Cdiv%20id%3D%22html_8b06d83c614d431c94c5ca7567d98f20%22%20style%3D%22width%3A%20100.0%25%3B%20height%3A%20100.0%25%3B%22%3EHounslow%3C/div%3E%60%29%5B0%5D%3B%0A%20%20%20%20%20%20%20%20%20%20%20%20popup_6d74500ef2eb411cb31b378aa4827d2b.setContent%28html_8b06d83c614d431c94c5ca7567d98f20%29%3B%0A%20%20%20%20%20%20%20%20%0A%0A%20%20%20%20%20%20%20%20circle_marker_28baf0931b7c4642b82eca337800db8f.bindPopup%28popup_6d74500ef2eb411cb31b378aa4827d2b%29%0A%20%20%20%20%20%20%20%20%3B%0A%0A%20%20%20%20%20%20%20%20%0A%20%20%20%20%0A%20%20%20%20%0A%20%20%20%20%20%20%20%20%20%20%20%20var%20circle_marker_3711452232b046f8bd62fb2210d4ad18%20%3D%20L.circleMarker%28%0A%20%20%20%20%20%20%20%20%20%20%20%20%20%20%20%20%5B51.534380000000056%2C%20-0.1089399999999614%5D%2C%0A%20%20%20%20%20%20%20%20%20%20%20%20%20%20%20%20%7B%22bubblingMouseEvents%22%3A%20true%2C%20%22color%22%3A%20%22blue%22%2C%20%22dashArray%22%3A%20null%2C%20%22dashOffset%22%3A%20null%2C%20%22fill%22%3A%20true%2C%20%22fillColor%22%3A%20%22%233186cc%22%2C%20%22fillOpacity%22%3A%200.7%2C%20%22fillRule%22%3A%20%22evenodd%22%2C%20%22lineCap%22%3A%20%22round%22%2C%20%22lineJoin%22%3A%20%22round%22%2C%20%22opacity%22%3A%201.0%2C%20%22radius%22%3A%205%2C%20%22stroke%22%3A%20true%2C%20%22weight%22%3A%203%7D%0A%20%20%20%20%20%20%20%20%20%20%20%20%29.addTo%28map_fec29906a1f64b80b900ebdbe06d0475%29%3B%0A%20%20%20%20%20%20%20%20%0A%20%20%20%20%0A%20%20%20%20%20%20%20%20var%20popup_3d9e274990d34c4ba7f54b32dbae1503%20%3D%20L.popup%28%7B%22maxWidth%22%3A%20%22100%25%22%7D%29%3B%0A%0A%20%20%20%20%20%20%20%20%0A%20%20%20%20%20%20%20%20%20%20%20%20var%20html_bdbf52d0c3e94dc884e60b7606533681%20%3D%20%24%28%60%3Cdiv%20id%3D%22html_bdbf52d0c3e94dc884e60b7606533681%22%20style%3D%22width%3A%20100.0%25%3B%20height%3A%20100.0%25%3B%22%3EIslington%3C/div%3E%60%29%5B0%5D%3B%0A%20%20%20%20%20%20%20%20%20%20%20%20popup_3d9e274990d34c4ba7f54b32dbae1503.setContent%28html_bdbf52d0c3e94dc884e60b7606533681%29%3B%0A%20%20%20%20%20%20%20%20%0A%0A%20%20%20%20%20%20%20%20circle_marker_3711452232b046f8bd62fb2210d4ad18.bindPopup%28popup_3d9e274990d34c4ba7f54b32dbae1503%29%0A%20%20%20%20%20%20%20%20%3B%0A%0A%20%20%20%20%20%20%20%20%0A%20%20%20%20%0A%20%20%20%20%0A%20%20%20%20%20%20%20%20%20%20%20%20var%20circle_marker_323a771db4a442b4baaa4155d89c3e2e%20%3D%20L.circleMarker%28%0A%20%20%20%20%20%20%20%20%20%20%20%20%20%20%20%20%5B51.52265998605762%2C%20-0.20793003971127177%5D%2C%0A%20%20%20%20%20%20%20%20%20%20%20%20%20%20%20%20%7B%22bubblingMouseEvents%22%3A%20true%2C%20%22color%22%3A%20%22blue%22%2C%20%22dashArray%22%3A%20null%2C%20%22dashOffset%22%3A%20null%2C%20%22fill%22%3A%20true%2C%20%22fillColor%22%3A%20%22%233186cc%22%2C%20%22fillOpacity%22%3A%200.7%2C%20%22fillRule%22%3A%20%22evenodd%22%2C%20%22lineCap%22%3A%20%22round%22%2C%20%22lineJoin%22%3A%20%22round%22%2C%20%22opacity%22%3A%201.0%2C%20%22radius%22%3A%205%2C%20%22stroke%22%3A%20true%2C%20%22weight%22%3A%203%7D%0A%20%20%20%20%20%20%20%20%20%20%20%20%29.addTo%28map_fec29906a1f64b80b900ebdbe06d0475%29%3B%0A%20%20%20%20%20%20%20%20%0A%20%20%20%20%0A%20%20%20%20%20%20%20%20var%20popup_f270447f46e64b798c24d9d711c15339%20%3D%20L.popup%28%7B%22maxWidth%22%3A%20%22100%25%22%7D%29%3B%0A%0A%20%20%20%20%20%20%20%20%0A%20%20%20%20%20%20%20%20%20%20%20%20var%20html_69ad99af2f3543ef9a16dd41dc537d53%20%3D%20%24%28%60%3Cdiv%20id%3D%22html_69ad99af2f3543ef9a16dd41dc537d53%22%20style%3D%22width%3A%20100.0%25%3B%20height%3A%20100.0%25%3B%22%3EKensington%20and%20Chelsea%3C/div%3E%60%29%5B0%5D%3B%0A%20%20%20%20%20%20%20%20%20%20%20%20popup_f270447f46e64b798c24d9d711c15339.setContent%28html_69ad99af2f3543ef9a16dd41dc537d53%29%3B%0A%20%20%20%20%20%20%20%20%0A%0A%20%20%20%20%20%20%20%20circle_marker_323a771db4a442b4baaa4155d89c3e2e.bindPopup%28popup_f270447f46e64b798c24d9d711c15339%29%0A%20%20%20%20%20%20%20%20%3B%0A%0A%20%20%20%20%20%20%20%20%0A%20%20%20%20%0A%20%20%20%20%0A%20%20%20%20%20%20%20%20%20%20%20%20var%20circle_marker_dbeeda7e186b45f5b341e4fbd47bfafc%20%3D%20L.circleMarker%28%0A%20%20%20%20%20%20%20%20%20%20%20%20%20%20%20%20%5B51.41088097745307%2C%20-0.29193252576700857%5D%2C%0A%20%20%20%20%20%20%20%20%20%20%20%20%20%20%20%20%7B%22bubblingMouseEvents%22%3A%20true%2C%20%22color%22%3A%20%22blue%22%2C%20%22dashArray%22%3A%20null%2C%20%22dashOffset%22%3A%20null%2C%20%22fill%22%3A%20true%2C%20%22fillColor%22%3A%20%22%233186cc%22%2C%20%22fillOpacity%22%3A%200.7%2C%20%22fillRule%22%3A%20%22evenodd%22%2C%20%22lineCap%22%3A%20%22round%22%2C%20%22lineJoin%22%3A%20%22round%22%2C%20%22opacity%22%3A%201.0%2C%20%22radius%22%3A%205%2C%20%22stroke%22%3A%20true%2C%20%22weight%22%3A%203%7D%0A%20%20%20%20%20%20%20%20%20%20%20%20%29.addTo%28map_fec29906a1f64b80b900ebdbe06d0475%29%3B%0A%20%20%20%20%20%20%20%20%0A%20%20%20%20%0A%20%20%20%20%20%20%20%20var%20popup_f7944fd4de1345b3afb9837e0837acc2%20%3D%20L.popup%28%7B%22maxWidth%22%3A%20%22100%25%22%7D%29%3B%0A%0A%20%20%20%20%20%20%20%20%0A%20%20%20%20%20%20%20%20%20%20%20%20var%20html_7210c51260dd46558c12fa843ca469c6%20%3D%20%24%28%60%3Cdiv%20id%3D%22html_7210c51260dd46558c12fa843ca469c6%22%20style%3D%22width%3A%20100.0%25%3B%20height%3A%20100.0%25%3B%22%3EKingston%20upon%20Thames%3C/div%3E%60%29%5B0%5D%3B%0A%20%20%20%20%20%20%20%20%20%20%20%20popup_f7944fd4de1345b3afb9837e0837acc2.setContent%28html_7210c51260dd46558c12fa843ca469c6%29%3B%0A%20%20%20%20%20%20%20%20%0A%0A%20%20%20%20%20%20%20%20circle_marker_dbeeda7e186b45f5b341e4fbd47bfafc.bindPopup%28popup_f7944fd4de1345b3afb9837e0837acc2%29%0A%20%20%20%20%20%20%20%20%3B%0A%0A%20%20%20%20%20%20%20%20%0A%20%20%20%20%0A%20%20%20%20%0A%20%20%20%20%20%20%20%20%20%20%20%20var%20circle_marker_a65e0c90d4c348d5999f497ffde70b2a%20%3D%20L.circleMarker%28%0A%20%20%20%20%20%20%20%20%20%20%20%20%20%20%20%20%5B51.49447082077311%2C%20-0.12006581821638082%5D%2C%0A%20%20%20%20%20%20%20%20%20%20%20%20%20%20%20%20%7B%22bubblingMouseEvents%22%3A%20true%2C%20%22color%22%3A%20%22blue%22%2C%20%22dashArray%22%3A%20null%2C%20%22dashOffset%22%3A%20null%2C%20%22fill%22%3A%20true%2C%20%22fillColor%22%3A%20%22%233186cc%22%2C%20%22fillOpacity%22%3A%200.7%2C%20%22fillRule%22%3A%20%22evenodd%22%2C%20%22lineCap%22%3A%20%22round%22%2C%20%22lineJoin%22%3A%20%22round%22%2C%20%22opacity%22%3A%201.0%2C%20%22radius%22%3A%205%2C%20%22stroke%22%3A%20true%2C%20%22weight%22%3A%203%7D%0A%20%20%20%20%20%20%20%20%20%20%20%20%29.addTo%28map_fec29906a1f64b80b900ebdbe06d0475%29%3B%0A%20%20%20%20%20%20%20%20%0A%20%20%20%20%0A%20%20%20%20%20%20%20%20var%20popup_cbbf140a8d4247ee93bae78a839d9fe9%20%3D%20L.popup%28%7B%22maxWidth%22%3A%20%22100%25%22%7D%29%3B%0A%0A%20%20%20%20%20%20%20%20%0A%20%20%20%20%20%20%20%20%20%20%20%20var%20html_7d1652949b4e4a678f0a37b3dc5a6af0%20%3D%20%24%28%60%3Cdiv%20id%3D%22html_7d1652949b4e4a678f0a37b3dc5a6af0%22%20style%3D%22width%3A%20100.0%25%3B%20height%3A%20100.0%25%3B%22%3ELambeth%3C/div%3E%60%29%5B0%5D%3B%0A%20%20%20%20%20%20%20%20%20%20%20%20popup_cbbf140a8d4247ee93bae78a839d9fe9.setContent%28html_7d1652949b4e4a678f0a37b3dc5a6af0%29%3B%0A%20%20%20%20%20%20%20%20%0A%0A%20%20%20%20%20%20%20%20circle_marker_a65e0c90d4c348d5999f497ffde70b2a.bindPopup%28popup_cbbf140a8d4247ee93bae78a839d9fe9%29%0A%20%20%20%20%20%20%20%20%3B%0A%0A%20%20%20%20%20%20%20%20%0A%20%20%20%20%0A%20%20%20%20%0A%20%20%20%20%20%20%20%20%20%20%20%20var%20circle_marker_c36b9967ea0841c59b33b4a6f5ea3866%20%3D%20L.circleMarker%28%0A%20%20%20%20%20%20%20%20%20%20%20%20%20%20%20%20%5B51.465280000000064%2C%20-0.0132099999999582%5D%2C%0A%20%20%20%20%20%20%20%20%20%20%20%20%20%20%20%20%7B%22bubblingMouseEvents%22%3A%20true%2C%20%22color%22%3A%20%22blue%22%2C%20%22dashArray%22%3A%20null%2C%20%22dashOffset%22%3A%20null%2C%20%22fill%22%3A%20true%2C%20%22fillColor%22%3A%20%22%233186cc%22%2C%20%22fillOpacity%22%3A%200.7%2C%20%22fillRule%22%3A%20%22evenodd%22%2C%20%22lineCap%22%3A%20%22round%22%2C%20%22lineJoin%22%3A%20%22round%22%2C%20%22opacity%22%3A%201.0%2C%20%22radius%22%3A%205%2C%20%22stroke%22%3A%20true%2C%20%22weight%22%3A%203%7D%0A%20%20%20%20%20%20%20%20%20%20%20%20%29.addTo%28map_fec29906a1f64b80b900ebdbe06d0475%29%3B%0A%20%20%20%20%20%20%20%20%0A%20%20%20%20%0A%20%20%20%20%20%20%20%20var%20popup_2c92132dc53543b7a03ec2f8314b3fde%20%3D%20L.popup%28%7B%22maxWidth%22%3A%20%22100%25%22%7D%29%3B%0A%0A%20%20%20%20%20%20%20%20%0A%20%20%20%20%20%20%20%20%20%20%20%20var%20html_1f6d06e5433e4438b91fd5822f2d2126%20%3D%20%24%28%60%3Cdiv%20id%3D%22html_1f6d06e5433e4438b91fd5822f2d2126%22%20style%3D%22width%3A%20100.0%25%3B%20height%3A%20100.0%25%3B%22%3ELewisham%3C/div%3E%60%29%5B0%5D%3B%0A%20%20%20%20%20%20%20%20%20%20%20%20popup_2c92132dc53543b7a03ec2f8314b3fde.setContent%28html_1f6d06e5433e4438b91fd5822f2d2126%29%3B%0A%20%20%20%20%20%20%20%20%0A%0A%20%20%20%20%20%20%20%20circle_marker_c36b9967ea0841c59b33b4a6f5ea3866.bindPopup%28popup_2c92132dc53543b7a03ec2f8314b3fde%29%0A%20%20%20%20%20%20%20%20%3B%0A%0A%20%20%20%20%20%20%20%20%0A%20%20%20%20%0A%20%20%20%20%0A%20%20%20%20%20%20%20%20%20%20%20%20var%20circle_marker_b587858a8d2f4a26b7f30d487a8482ab%20%3D%20L.circleMarker%28%0A%20%20%20%20%20%20%20%20%20%20%20%20%20%20%20%20%5B51.5445200314487%2C%20-0.16685988761804538%5D%2C%0A%20%20%20%20%20%20%20%20%20%20%20%20%20%20%20%20%7B%22bubblingMouseEvents%22%3A%20true%2C%20%22color%22%3A%20%22blue%22%2C%20%22dashArray%22%3A%20null%2C%20%22dashOffset%22%3A%20null%2C%20%22fill%22%3A%20true%2C%20%22fillColor%22%3A%20%22%233186cc%22%2C%20%22fillOpacity%22%3A%200.7%2C%20%22fillRule%22%3A%20%22evenodd%22%2C%20%22lineCap%22%3A%20%22round%22%2C%20%22lineJoin%22%3A%20%22round%22%2C%20%22opacity%22%3A%201.0%2C%20%22radius%22%3A%205%2C%20%22stroke%22%3A%20true%2C%20%22weight%22%3A%203%7D%0A%20%20%20%20%20%20%20%20%20%20%20%20%29.addTo%28map_fec29906a1f64b80b900ebdbe06d0475%29%3B%0A%20%20%20%20%20%20%20%20%0A%20%20%20%20%0A%20%20%20%20%20%20%20%20var%20popup_cb61144db292435fab1b30b1b14ecfeb%20%3D%20L.popup%28%7B%22maxWidth%22%3A%20%22100%25%22%7D%29%3B%0A%0A%20%20%20%20%20%20%20%20%0A%20%20%20%20%20%20%20%20%20%20%20%20var%20html_8eb23aa2c420436cab47c82103e25204%20%3D%20%24%28%60%3Cdiv%20id%3D%22html_8eb23aa2c420436cab47c82103e25204%22%20style%3D%22width%3A%20100.0%25%3B%20height%3A%20100.0%25%3B%22%3EMerton%3C/div%3E%60%29%5B0%5D%3B%0A%20%20%20%20%20%20%20%20%20%20%20%20popup_cb61144db292435fab1b30b1b14ecfeb.setContent%28html_8eb23aa2c420436cab47c82103e25204%29%3B%0A%20%20%20%20%20%20%20%20%0A%0A%20%20%20%20%20%20%20%20circle_marker_b587858a8d2f4a26b7f30d487a8482ab.bindPopup%28popup_cb61144db292435fab1b30b1b14ecfeb%29%0A%20%20%20%20%20%20%20%20%3B%0A%0A%20%20%20%20%20%20%20%20%0A%20%20%20%20%0A%20%20%20%20%0A%20%20%20%20%20%20%20%20%20%20%20%20var%20circle_marker_d9e3b29145d14397b172a4139f484768%20%3D%20L.circleMarker%28%0A%20%20%20%20%20%20%20%20%20%20%20%20%20%20%20%20%5B51.51993737640548%2C%200.055881932273406654%5D%2C%0A%20%20%20%20%20%20%20%20%20%20%20%20%20%20%20%20%7B%22bubblingMouseEvents%22%3A%20true%2C%20%22color%22%3A%20%22blue%22%2C%20%22dashArray%22%3A%20null%2C%20%22dashOffset%22%3A%20null%2C%20%22fill%22%3A%20true%2C%20%22fillColor%22%3A%20%22%233186cc%22%2C%20%22fillOpacity%22%3A%200.7%2C%20%22fillRule%22%3A%20%22evenodd%22%2C%20%22lineCap%22%3A%20%22round%22%2C%20%22lineJoin%22%3A%20%22round%22%2C%20%22opacity%22%3A%201.0%2C%20%22radius%22%3A%205%2C%20%22stroke%22%3A%20true%2C%20%22weight%22%3A%203%7D%0A%20%20%20%20%20%20%20%20%20%20%20%20%29.addTo%28map_fec29906a1f64b80b900ebdbe06d0475%29%3B%0A%20%20%20%20%20%20%20%20%0A%20%20%20%20%0A%20%20%20%20%20%20%20%20var%20popup_a1fbfae2113044098c8057c627839afe%20%3D%20L.popup%28%7B%22maxWidth%22%3A%20%22100%25%22%7D%29%3B%0A%0A%20%20%20%20%20%20%20%20%0A%20%20%20%20%20%20%20%20%20%20%20%20var%20html_de70aae5886944ab938417c301637c66%20%3D%20%24%28%60%3Cdiv%20id%3D%22html_de70aae5886944ab938417c301637c66%22%20style%3D%22width%3A%20100.0%25%3B%20height%3A%20100.0%25%3B%22%3ENewham%3C/div%3E%60%29%5B0%5D%3B%0A%20%20%20%20%20%20%20%20%20%20%20%20popup_a1fbfae2113044098c8057c627839afe.setContent%28html_de70aae5886944ab938417c301637c66%29%3B%0A%20%20%20%20%20%20%20%20%0A%0A%20%20%20%20%20%20%20%20circle_marker_d9e3b29145d14397b172a4139f484768.bindPopup%28popup_a1fbfae2113044098c8057c627839afe%29%0A%20%20%20%20%20%20%20%20%3B%0A%0A%20%20%20%20%20%20%20%20%0A%20%20%20%20%0A%20%20%20%20%0A%20%20%20%20%20%20%20%20%20%20%20%20var%20circle_marker_79221135d1a64eb6958ac3b855704bf8%20%3D%20L.circleMarker%28%0A%20%20%20%20%20%20%20%20%20%20%20%20%20%20%20%20%5B51.47577317149246%2C%20-0.08069832656615353%5D%2C%0A%20%20%20%20%20%20%20%20%20%20%20%20%20%20%20%20%7B%22bubblingMouseEvents%22%3A%20true%2C%20%22color%22%3A%20%22blue%22%2C%20%22dashArray%22%3A%20null%2C%20%22dashOffset%22%3A%20null%2C%20%22fill%22%3A%20true%2C%20%22fillColor%22%3A%20%22%233186cc%22%2C%20%22fillOpacity%22%3A%200.7%2C%20%22fillRule%22%3A%20%22evenodd%22%2C%20%22lineCap%22%3A%20%22round%22%2C%20%22lineJoin%22%3A%20%22round%22%2C%20%22opacity%22%3A%201.0%2C%20%22radius%22%3A%205%2C%20%22stroke%22%3A%20true%2C%20%22weight%22%3A%203%7D%0A%20%20%20%20%20%20%20%20%20%20%20%20%29.addTo%28map_fec29906a1f64b80b900ebdbe06d0475%29%3B%0A%20%20%20%20%20%20%20%20%0A%20%20%20%20%0A%20%20%20%20%20%20%20%20var%20popup_5e4cc0dbf35f4df580bdba0e4b086ea4%20%3D%20L.popup%28%7B%22maxWidth%22%3A%20%22100%25%22%7D%29%3B%0A%0A%20%20%20%20%20%20%20%20%0A%20%20%20%20%20%20%20%20%20%20%20%20var%20html_16997438ed8e4a0c8bf95eff0da0b6d1%20%3D%20%24%28%60%3Cdiv%20id%3D%22html_16997438ed8e4a0c8bf95eff0da0b6d1%22%20style%3D%22width%3A%20100.0%25%3B%20height%3A%20100.0%25%3B%22%3ERedbridge%3C/div%3E%60%29%5B0%5D%3B%0A%20%20%20%20%20%20%20%20%20%20%20%20popup_5e4cc0dbf35f4df580bdba0e4b086ea4.setContent%28html_16997438ed8e4a0c8bf95eff0da0b6d1%29%3B%0A%20%20%20%20%20%20%20%20%0A%0A%20%20%20%20%20%20%20%20circle_marker_79221135d1a64eb6958ac3b855704bf8.bindPopup%28popup_5e4cc0dbf35f4df580bdba0e4b086ea4%29%0A%20%20%20%20%20%20%20%20%3B%0A%0A%20%20%20%20%20%20%20%20%0A%20%20%20%20%0A%20%20%20%20%0A%20%20%20%20%20%20%20%20%20%20%20%20var%20circle_marker_2aa8277fe0a8414cbef249a965b49291%20%3D%20L.circleMarker%28%0A%20%20%20%20%20%20%20%20%20%20%20%20%20%20%20%20%5B51.480270000000075%2C%20-0.23753999999996722%5D%2C%0A%20%20%20%20%20%20%20%20%20%20%20%20%20%20%20%20%7B%22bubblingMouseEvents%22%3A%20true%2C%20%22color%22%3A%20%22blue%22%2C%20%22dashArray%22%3A%20null%2C%20%22dashOffset%22%3A%20null%2C%20%22fill%22%3A%20true%2C%20%22fillColor%22%3A%20%22%233186cc%22%2C%20%22fillOpacity%22%3A%200.7%2C%20%22fillRule%22%3A%20%22evenodd%22%2C%20%22lineCap%22%3A%20%22round%22%2C%20%22lineJoin%22%3A%20%22round%22%2C%20%22opacity%22%3A%201.0%2C%20%22radius%22%3A%205%2C%20%22stroke%22%3A%20true%2C%20%22weight%22%3A%203%7D%0A%20%20%20%20%20%20%20%20%20%20%20%20%29.addTo%28map_fec29906a1f64b80b900ebdbe06d0475%29%3B%0A%20%20%20%20%20%20%20%20%0A%20%20%20%20%0A%20%20%20%20%20%20%20%20var%20popup_fbfc7902ef65451ab74b66a73f7e685e%20%3D%20L.popup%28%7B%22maxWidth%22%3A%20%22100%25%22%7D%29%3B%0A%0A%20%20%20%20%20%20%20%20%0A%20%20%20%20%20%20%20%20%20%20%20%20var%20html_9e9d8cbacd6b4099891896724598e6fe%20%3D%20%24%28%60%3Cdiv%20id%3D%22html_9e9d8cbacd6b4099891896724598e6fe%22%20style%3D%22width%3A%20100.0%25%3B%20height%3A%20100.0%25%3B%22%3ERichmond%20upon%20Thames%3C/div%3E%60%29%5B0%5D%3B%0A%20%20%20%20%20%20%20%20%20%20%20%20popup_fbfc7902ef65451ab74b66a73f7e685e.setContent%28html_9e9d8cbacd6b4099891896724598e6fe%29%3B%0A%20%20%20%20%20%20%20%20%0A%0A%20%20%20%20%20%20%20%20circle_marker_2aa8277fe0a8414cbef249a965b49291.bindPopup%28popup_fbfc7902ef65451ab74b66a73f7e685e%29%0A%20%20%20%20%20%20%20%20%3B%0A%0A%20%20%20%20%20%20%20%20%0A%20%20%20%20%0A%20%20%20%20%0A%20%20%20%20%20%20%20%20%20%20%20%20var%20circle_marker_0574dfa439c64900a585d76f77d885b4%20%3D%20L.circleMarker%28%0A%20%20%20%20%20%20%20%20%20%20%20%20%20%20%20%20%5B51.50573373789071%2C%20-0.10000176546602337%5D%2C%0A%20%20%20%20%20%20%20%20%20%20%20%20%20%20%20%20%7B%22bubblingMouseEvents%22%3A%20true%2C%20%22color%22%3A%20%22blue%22%2C%20%22dashArray%22%3A%20null%2C%20%22dashOffset%22%3A%20null%2C%20%22fill%22%3A%20true%2C%20%22fillColor%22%3A%20%22%233186cc%22%2C%20%22fillOpacity%22%3A%200.7%2C%20%22fillRule%22%3A%20%22evenodd%22%2C%20%22lineCap%22%3A%20%22round%22%2C%20%22lineJoin%22%3A%20%22round%22%2C%20%22opacity%22%3A%201.0%2C%20%22radius%22%3A%205%2C%20%22stroke%22%3A%20true%2C%20%22weight%22%3A%203%7D%0A%20%20%20%20%20%20%20%20%20%20%20%20%29.addTo%28map_fec29906a1f64b80b900ebdbe06d0475%29%3B%0A%20%20%20%20%20%20%20%20%0A%20%20%20%20%0A%20%20%20%20%20%20%20%20var%20popup_aac746bf47b947bc9dea1122784cdc97%20%3D%20L.popup%28%7B%22maxWidth%22%3A%20%22100%25%22%7D%29%3B%0A%0A%20%20%20%20%20%20%20%20%0A%20%20%20%20%20%20%20%20%20%20%20%20var%20html_1bd4f5a5c0f64c8f925c47d19fb79252%20%3D%20%24%28%60%3Cdiv%20id%3D%22html_1bd4f5a5c0f64c8f925c47d19fb79252%22%20style%3D%22width%3A%20100.0%25%3B%20height%3A%20100.0%25%3B%22%3ESouthwark%3C/div%3E%60%29%5B0%5D%3B%0A%20%20%20%20%20%20%20%20%20%20%20%20popup_aac746bf47b947bc9dea1122784cdc97.setContent%28html_1bd4f5a5c0f64c8f925c47d19fb79252%29%3B%0A%20%20%20%20%20%20%20%20%0A%0A%20%20%20%20%20%20%20%20circle_marker_0574dfa439c64900a585d76f77d885b4.bindPopup%28popup_aac746bf47b947bc9dea1122784cdc97%29%0A%20%20%20%20%20%20%20%20%3B%0A%0A%20%20%20%20%20%20%20%20%0A%20%20%20%20%0A%20%20%20%20%0A%20%20%20%20%20%20%20%20%20%20%20%20var%20circle_marker_f4173bbcc5054920bf53fa6014183a68%20%3D%20L.circleMarker%28%0A%20%20%20%20%20%20%20%20%20%20%20%20%20%20%20%20%5B51.51224303652285%2C%20-0.053658554826729%5D%2C%0A%20%20%20%20%20%20%20%20%20%20%20%20%20%20%20%20%7B%22bubblingMouseEvents%22%3A%20true%2C%20%22color%22%3A%20%22blue%22%2C%20%22dashArray%22%3A%20null%2C%20%22dashOffset%22%3A%20null%2C%20%22fill%22%3A%20true%2C%20%22fillColor%22%3A%20%22%233186cc%22%2C%20%22fillOpacity%22%3A%200.7%2C%20%22fillRule%22%3A%20%22evenodd%22%2C%20%22lineCap%22%3A%20%22round%22%2C%20%22lineJoin%22%3A%20%22round%22%2C%20%22opacity%22%3A%201.0%2C%20%22radius%22%3A%205%2C%20%22stroke%22%3A%20true%2C%20%22weight%22%3A%203%7D%0A%20%20%20%20%20%20%20%20%20%20%20%20%29.addTo%28map_fec29906a1f64b80b900ebdbe06d0475%29%3B%0A%20%20%20%20%20%20%20%20%0A%20%20%20%20%0A%20%20%20%20%20%20%20%20var%20popup_0e36959b28984bb087d49032e0e11a75%20%3D%20L.popup%28%7B%22maxWidth%22%3A%20%22100%25%22%7D%29%3B%0A%0A%20%20%20%20%20%20%20%20%0A%20%20%20%20%20%20%20%20%20%20%20%20var%20html_bcb152902cd44c7cb2b9302422e55332%20%3D%20%24%28%60%3Cdiv%20id%3D%22html_bcb152902cd44c7cb2b9302422e55332%22%20style%3D%22width%3A%20100.0%25%3B%20height%3A%20100.0%25%3B%22%3ESutton%3C/div%3E%60%29%5B0%5D%3B%0A%20%20%20%20%20%20%20%20%20%20%20%20popup_0e36959b28984bb087d49032e0e11a75.setContent%28html_bcb152902cd44c7cb2b9302422e55332%29%3B%0A%20%20%20%20%20%20%20%20%0A%0A%20%20%20%20%20%20%20%20circle_marker_f4173bbcc5054920bf53fa6014183a68.bindPopup%28popup_0e36959b28984bb087d49032e0e11a75%29%0A%20%20%20%20%20%20%20%20%3B%0A%0A%20%20%20%20%20%20%20%20%0A%20%20%20%20%0A%20%20%20%20%0A%20%20%20%20%20%20%20%20%20%20%20%20var%20circle_marker_fd2a1399b28644b79877290d7bf7d223%20%3D%20L.circleMarker%28%0A%20%20%20%20%20%20%20%20%20%20%20%20%20%20%20%20%5B51.49999000000008%2C%20-0.01044999999993479%5D%2C%0A%20%20%20%20%20%20%20%20%20%20%20%20%20%20%20%20%7B%22bubblingMouseEvents%22%3A%20true%2C%20%22color%22%3A%20%22blue%22%2C%20%22dashArray%22%3A%20null%2C%20%22dashOffset%22%3A%20null%2C%20%22fill%22%3A%20true%2C%20%22fillColor%22%3A%20%22%233186cc%22%2C%20%22fillOpacity%22%3A%200.7%2C%20%22fillRule%22%3A%20%22evenodd%22%2C%20%22lineCap%22%3A%20%22round%22%2C%20%22lineJoin%22%3A%20%22round%22%2C%20%22opacity%22%3A%201.0%2C%20%22radius%22%3A%205%2C%20%22stroke%22%3A%20true%2C%20%22weight%22%3A%203%7D%0A%20%20%20%20%20%20%20%20%20%20%20%20%29.addTo%28map_fec29906a1f64b80b900ebdbe06d0475%29%3B%0A%20%20%20%20%20%20%20%20%0A%20%20%20%20%0A%20%20%20%20%20%20%20%20var%20popup_5b0276d80f7b44c4995782ff059cb386%20%3D%20L.popup%28%7B%22maxWidth%22%3A%20%22100%25%22%7D%29%3B%0A%0A%20%20%20%20%20%20%20%20%0A%20%20%20%20%20%20%20%20%20%20%20%20var%20html_4956bea395b64165b7b0154d9f6b2616%20%3D%20%24%28%60%3Cdiv%20id%3D%22html_4956bea395b64165b7b0154d9f6b2616%22%20style%3D%22width%3A%20100.0%25%3B%20height%3A%20100.0%25%3B%22%3ETower%20Hamlets%3C/div%3E%60%29%5B0%5D%3B%0A%20%20%20%20%20%20%20%20%20%20%20%20popup_5b0276d80f7b44c4995782ff059cb386.setContent%28html_4956bea395b64165b7b0154d9f6b2616%29%3B%0A%20%20%20%20%20%20%20%20%0A%0A%20%20%20%20%20%20%20%20circle_marker_fd2a1399b28644b79877290d7bf7d223.bindPopup%28popup_5b0276d80f7b44c4995782ff059cb386%29%0A%20%20%20%20%20%20%20%20%3B%0A%0A%20%20%20%20%20%20%20%20%0A%20%20%20%20%0A%20%20%20%20%0A%20%20%20%20%20%20%20%20%20%20%20%20var%20circle_marker_56a4cf3c6f574e7fb01cca8babea6a25%20%3D%20L.circleMarker%28%0A%20%20%20%20%20%20%20%20%20%20%20%20%20%20%20%20%5B51.58176486512802%2C%20-0.2769684703905198%5D%2C%0A%20%20%20%20%20%20%20%20%20%20%20%20%20%20%20%20%7B%22bubblingMouseEvents%22%3A%20true%2C%20%22color%22%3A%20%22blue%22%2C%20%22dashArray%22%3A%20null%2C%20%22dashOffset%22%3A%20null%2C%20%22fill%22%3A%20true%2C%20%22fillColor%22%3A%20%22%233186cc%22%2C%20%22fillOpacity%22%3A%200.7%2C%20%22fillRule%22%3A%20%22evenodd%22%2C%20%22lineCap%22%3A%20%22round%22%2C%20%22lineJoin%22%3A%20%22round%22%2C%20%22opacity%22%3A%201.0%2C%20%22radius%22%3A%205%2C%20%22stroke%22%3A%20true%2C%20%22weight%22%3A%203%7D%0A%20%20%20%20%20%20%20%20%20%20%20%20%29.addTo%28map_fec29906a1f64b80b900ebdbe06d0475%29%3B%0A%20%20%20%20%20%20%20%20%0A%20%20%20%20%0A%20%20%20%20%20%20%20%20var%20popup_930c8b86e2954364893f74c1da742236%20%3D%20L.popup%28%7B%22maxWidth%22%3A%20%22100%25%22%7D%29%3B%0A%0A%20%20%20%20%20%20%20%20%0A%20%20%20%20%20%20%20%20%20%20%20%20var%20html_11b6cdbe92f443538765f0d214fab7a5%20%3D%20%24%28%60%3Cdiv%20id%3D%22html_11b6cdbe92f443538765f0d214fab7a5%22%20style%3D%22width%3A%20100.0%25%3B%20height%3A%20100.0%25%3B%22%3EWaltham%20Forest%3C/div%3E%60%29%5B0%5D%3B%0A%20%20%20%20%20%20%20%20%20%20%20%20popup_930c8b86e2954364893f74c1da742236.setContent%28html_11b6cdbe92f443538765f0d214fab7a5%29%3B%0A%20%20%20%20%20%20%20%20%0A%0A%20%20%20%20%20%20%20%20circle_marker_56a4cf3c6f574e7fb01cca8babea6a25.bindPopup%28popup_930c8b86e2954364893f74c1da742236%29%0A%20%20%20%20%20%20%20%20%3B%0A%0A%20%20%20%20%20%20%20%20%0A%20%20%20%20%0A%20%20%20%20%0A%20%20%20%20%20%20%20%20%20%20%20%20var%20circle_marker_ece3304c2d9a4c388651949508f22f5c%20%3D%20L.circleMarker%28%0A%20%20%20%20%20%20%20%20%20%20%20%20%20%20%20%20%5B51.46782623445036%2C%20-0.144992105243544%5D%2C%0A%20%20%20%20%20%20%20%20%20%20%20%20%20%20%20%20%7B%22bubblingMouseEvents%22%3A%20true%2C%20%22color%22%3A%20%22blue%22%2C%20%22dashArray%22%3A%20null%2C%20%22dashOffset%22%3A%20null%2C%20%22fill%22%3A%20true%2C%20%22fillColor%22%3A%20%22%233186cc%22%2C%20%22fillOpacity%22%3A%200.7%2C%20%22fillRule%22%3A%20%22evenodd%22%2C%20%22lineCap%22%3A%20%22round%22%2C%20%22lineJoin%22%3A%20%22round%22%2C%20%22opacity%22%3A%201.0%2C%20%22radius%22%3A%205%2C%20%22stroke%22%3A%20true%2C%20%22weight%22%3A%203%7D%0A%20%20%20%20%20%20%20%20%20%20%20%20%29.addTo%28map_fec29906a1f64b80b900ebdbe06d0475%29%3B%0A%20%20%20%20%20%20%20%20%0A%20%20%20%20%0A%20%20%20%20%20%20%20%20var%20popup_3a87b12effa84f18b1d0ad3834e06ea9%20%3D%20L.popup%28%7B%22maxWidth%22%3A%20%22100%25%22%7D%29%3B%0A%0A%20%20%20%20%20%20%20%20%0A%20%20%20%20%20%20%20%20%20%20%20%20var%20html_24fb635ea1c24608a62464a395136711%20%3D%20%24%28%60%3Cdiv%20id%3D%22html_24fb635ea1c24608a62464a395136711%22%20style%3D%22width%3A%20100.0%25%3B%20height%3A%20100.0%25%3B%22%3EWandsworth%3C/div%3E%60%29%5B0%5D%3B%0A%20%20%20%20%20%20%20%20%20%20%20%20popup_3a87b12effa84f18b1d0ad3834e06ea9.setContent%28html_24fb635ea1c24608a62464a395136711%29%3B%0A%20%20%20%20%20%20%20%20%0A%0A%20%20%20%20%20%20%20%20circle_marker_ece3304c2d9a4c388651949508f22f5c.bindPopup%28popup_3a87b12effa84f18b1d0ad3834e06ea9%29%0A%20%20%20%20%20%20%20%20%3B%0A%0A%20%20%20%20%20%20%20%20%0A%20%20%20%20%0A%20%20%20%20%0A%20%20%20%20%20%20%20%20%20%20%20%20var%20circle_marker_9b9aec3a2d4b40759e12aea509a560c4%20%3D%20L.circleMarker%28%0A%20%20%20%20%20%20%20%20%20%20%20%20%20%20%20%20%5B51.628248878120935%2C%200.01298627842834142%5D%2C%0A%20%20%20%20%20%20%20%20%20%20%20%20%20%20%20%20%7B%22bubblingMouseEvents%22%3A%20true%2C%20%22color%22%3A%20%22blue%22%2C%20%22dashArray%22%3A%20null%2C%20%22dashOffset%22%3A%20null%2C%20%22fill%22%3A%20true%2C%20%22fillColor%22%3A%20%22%233186cc%22%2C%20%22fillOpacity%22%3A%200.7%2C%20%22fillRule%22%3A%20%22evenodd%22%2C%20%22lineCap%22%3A%20%22round%22%2C%20%22lineJoin%22%3A%20%22round%22%2C%20%22opacity%22%3A%201.0%2C%20%22radius%22%3A%205%2C%20%22stroke%22%3A%20true%2C%20%22weight%22%3A%203%7D%0A%20%20%20%20%20%20%20%20%20%20%20%20%29.addTo%28map_fec29906a1f64b80b900ebdbe06d0475%29%3B%0A%20%20%20%20%20%20%20%20%0A%20%20%20%20%0A%20%20%20%20%20%20%20%20var%20popup_f7b5127aa3544d29b0d7cf649c114f76%20%3D%20L.popup%28%7B%22maxWidth%22%3A%20%22100%25%22%7D%29%3B%0A%0A%20%20%20%20%20%20%20%20%0A%20%20%20%20%20%20%20%20%20%20%20%20var%20html_9a53f12cbc4b42f79ab6f562d81d6594%20%3D%20%24%28%60%3Cdiv%20id%3D%22html_9a53f12cbc4b42f79ab6f562d81d6594%22%20style%3D%22width%3A%20100.0%25%3B%20height%3A%20100.0%25%3B%22%3EWestminster%3C/div%3E%60%29%5B0%5D%3B%0A%20%20%20%20%20%20%20%20%20%20%20%20popup_f7b5127aa3544d29b0d7cf649c114f76.setContent%28html_9a53f12cbc4b42f79ab6f562d81d6594%29%3B%0A%20%20%20%20%20%20%20%20%0A%0A%20%20%20%20%20%20%20%20circle_marker_9b9aec3a2d4b40759e12aea509a560c4.bindPopup%28popup_f7b5127aa3544d29b0d7cf649c114f76%29%0A%20%20%20%20%20%20%20%20%3B%0A%0A%20%20%20%20%20%20%20%20%0A%20%20%20%20%0A%3C/script%3E onload=\"this.contentDocument.open();this.contentDocument.write(    decodeURIComponent(this.getAttribute('data-html')));this.contentDocument.close();\" allowfullscreen webkitallowfullscreen mozallowfullscreen></iframe></div></div>"
     },
     "metadata": {},
     "execution_count": 41
    }
   ],
   "source": [
    "london_map = folium.Map(location=[latitude, longitude], zoom_start=11)\n",
    "\n",
    "# add markers to map\n",
    "for lat, lng, Borough in zip(ldn_df['Latitude'], ldn_df['Longitude'], ldn_df['Borough']):\n",
    "    label = '{}'.format(Borough)\n",
    "    label = folium.Popup(label, parse_html=True)\n",
    "    folium.CircleMarker(\n",
    "        [lat, lng],\n",
    "        radius=5,\n",
    "        popup=label,\n",
    "        color='blue',\n",
    "        fill=True,\n",
    "        fill_color='#3186cc',\n",
    "        fill_opacity=0.7).add_to(london_map)  \n",
    "    \n",
    "london_map"
   ]
  },
  {
   "cell_type": "code",
   "execution_count": 42,
   "metadata": {},
   "outputs": [],
   "source": [
    "CLIENT_ID = 'xxxxxxxxxxxxxxxxxxxxxxxxxxx'\n",
    "CLIENT_SECRET = 'xxxxxxxxxxxxxxxxxxxxxxxxxxx'\n",
    "VERSION = '20180605'\n",
    "LIMIT = 200\n"
   ]
  },
  {
   "source": [
    "### Using Foursquare API to get list of venues around geographic center of boroughs"
   ],
   "cell_type": "markdown",
   "metadata": {}
  },
  {
   "cell_type": "code",
   "execution_count": 43,
   "metadata": {},
   "outputs": [],
   "source": [
    "def getNearbyVenues(names, latitudes, longitudes, radius=6000):\n",
    "    \n",
    "    venues_list=[]\n",
    "    for name, lat, lng in zip(names, latitudes, longitudes):\n",
    "        print(name)\n",
    "            \n",
    "        # create the API request URL\n",
    "        url = 'https://api.foursquare.com/v2/venues/explore?&client_id={}&client_secret={}&v={}&ll={},{}&radius={}&limit={}'.format(\n",
    "            CLIENT_ID, \n",
    "            CLIENT_SECRET, \n",
    "            VERSION, \n",
    "            lat, \n",
    "            lng, \n",
    "            radius, \n",
    "            LIMIT)\n",
    "            \n",
    "        # make the GET request\n",
    "        results = requests.get(url).json()[\"response\"]['groups'][0]['items']\n",
    "        \n",
    "        # return only relevant information for each nearby venue\n",
    "        venues_list.append([(\n",
    "            name, \n",
    "            lat, \n",
    "            lng, \n",
    "            v['venue']['name'], \n",
    "            v['venue']['location']['lat'], \n",
    "            v['venue']['location']['lng'],  \n",
    "            v['venue']['categories'][0]['name']) for v in results])\n",
    "\n",
    "    nearby_venues = pd.DataFrame([item for venue_list in venues_list for item in venue_list])\n",
    "    nearby_venues.columns = ['Borough', \n",
    "                  'Borough Latitude', \n",
    "                  'Borough Longitude', \n",
    "                  'Venue', \n",
    "                  'Venue Latitude', \n",
    "                  'Venue Longitude', \n",
    "                  'Venue Category']\n",
    "    \n",
    "    return(nearby_venues)"
   ]
  },
  {
   "cell_type": "code",
   "execution_count": 44,
   "metadata": {},
   "outputs": [
    {
     "output_type": "stream",
     "name": "stdout",
     "text": [
      "Barking and Dagenham\n",
      "Barnet\n",
      "Bexley\n",
      "Brent\n",
      "Bromley\n",
      "Camden\n",
      "Croydon\n",
      "Ealing\n",
      "Enfield\n",
      "Greenwich\n",
      "Hackney\n",
      "Hammersmith and Fulham\n",
      "Haringey\n",
      "Harrow\n",
      "Havering\n",
      "Hillingdon\n",
      "Hounslow\n",
      "Islington\n",
      "Kensington and Chelsea\n",
      "Kingston upon Thames\n",
      "Lambeth\n",
      "Lewisham\n",
      "Merton\n",
      "Newham\n",
      "Redbridge\n",
      "Richmond upon Thames\n",
      "Southwark\n",
      "Sutton\n",
      "Tower Hamlets\n",
      "Waltham Forest\n",
      "Wandsworth\n",
      "Westminster\n"
     ]
    },
    {
     "output_type": "execute_result",
     "data": {
      "text/plain": [
       "                   Borough  Borough Latitude  Borough Longitude  \\\n",
       "0     Barking and Dagenham         51.537452           0.072040   \n",
       "1     Barking and Dagenham         51.537452           0.072040   \n",
       "2     Barking and Dagenham         51.537452           0.072040   \n",
       "3     Barking and Dagenham         51.537452           0.072040   \n",
       "4     Barking and Dagenham         51.537452           0.072040   \n",
       "...                    ...               ...                ...   \n",
       "3195           Westminster         51.628249           0.012986   \n",
       "3196           Westminster         51.628249           0.012986   \n",
       "3197           Westminster         51.628249           0.012986   \n",
       "3198           Westminster         51.628249           0.012986   \n",
       "3199           Westminster         51.628249           0.012986   \n",
       "\n",
       "                        Venue  Venue Latitude  Venue Longitude  \\\n",
       "0               Barking Abbey       51.535352         0.076054   \n",
       "1                Barking Park       51.545217         0.086134   \n",
       "2                  McDonald's       51.534031         0.053797   \n",
       "3               Wanstead Park       51.567301         0.041202   \n",
       "4                Pets at Home       51.520473         0.070494   \n",
       "...                       ...             ...              ...   \n",
       "3195          M&S Simply Food       51.593830         0.024610   \n",
       "3196  Loughton Leisure Centre       51.648444         0.058119   \n",
       "3197            GAIL's Bakery       51.578719         0.025727   \n",
       "3198    George's Souvlaki Bar       51.593929         0.024862   \n",
       "3199            The Cuckfield       51.579343         0.024826   \n",
       "\n",
       "            Venue Category  \n",
       "0                     Park  \n",
       "1                     Park  \n",
       "2     Fast Food Restaurant  \n",
       "3                     Park  \n",
       "4                Pet Store  \n",
       "...                    ...  \n",
       "3195         Grocery Store  \n",
       "3196                  Pool  \n",
       "3197                Bakery  \n",
       "3198      Greek Restaurant  \n",
       "3199                   Pub  \n",
       "\n",
       "[3200 rows x 7 columns]"
      ],
      "text/html": "<div>\n<style scoped>\n    .dataframe tbody tr th:only-of-type {\n        vertical-align: middle;\n    }\n\n    .dataframe tbody tr th {\n        vertical-align: top;\n    }\n\n    .dataframe thead th {\n        text-align: right;\n    }\n</style>\n<table border=\"1\" class=\"dataframe\">\n  <thead>\n    <tr style=\"text-align: right;\">\n      <th></th>\n      <th>Borough</th>\n      <th>Borough Latitude</th>\n      <th>Borough Longitude</th>\n      <th>Venue</th>\n      <th>Venue Latitude</th>\n      <th>Venue Longitude</th>\n      <th>Venue Category</th>\n    </tr>\n  </thead>\n  <tbody>\n    <tr>\n      <th>0</th>\n      <td>Barking and Dagenham</td>\n      <td>51.537452</td>\n      <td>0.072040</td>\n      <td>Barking Abbey</td>\n      <td>51.535352</td>\n      <td>0.076054</td>\n      <td>Park</td>\n    </tr>\n    <tr>\n      <th>1</th>\n      <td>Barking and Dagenham</td>\n      <td>51.537452</td>\n      <td>0.072040</td>\n      <td>Barking Park</td>\n      <td>51.545217</td>\n      <td>0.086134</td>\n      <td>Park</td>\n    </tr>\n    <tr>\n      <th>2</th>\n      <td>Barking and Dagenham</td>\n      <td>51.537452</td>\n      <td>0.072040</td>\n      <td>McDonald's</td>\n      <td>51.534031</td>\n      <td>0.053797</td>\n      <td>Fast Food Restaurant</td>\n    </tr>\n    <tr>\n      <th>3</th>\n      <td>Barking and Dagenham</td>\n      <td>51.537452</td>\n      <td>0.072040</td>\n      <td>Wanstead Park</td>\n      <td>51.567301</td>\n      <td>0.041202</td>\n      <td>Park</td>\n    </tr>\n    <tr>\n      <th>4</th>\n      <td>Barking and Dagenham</td>\n      <td>51.537452</td>\n      <td>0.072040</td>\n      <td>Pets at Home</td>\n      <td>51.520473</td>\n      <td>0.070494</td>\n      <td>Pet Store</td>\n    </tr>\n    <tr>\n      <th>...</th>\n      <td>...</td>\n      <td>...</td>\n      <td>...</td>\n      <td>...</td>\n      <td>...</td>\n      <td>...</td>\n      <td>...</td>\n    </tr>\n    <tr>\n      <th>3195</th>\n      <td>Westminster</td>\n      <td>51.628249</td>\n      <td>0.012986</td>\n      <td>M&amp;S Simply Food</td>\n      <td>51.593830</td>\n      <td>0.024610</td>\n      <td>Grocery Store</td>\n    </tr>\n    <tr>\n      <th>3196</th>\n      <td>Westminster</td>\n      <td>51.628249</td>\n      <td>0.012986</td>\n      <td>Loughton Leisure Centre</td>\n      <td>51.648444</td>\n      <td>0.058119</td>\n      <td>Pool</td>\n    </tr>\n    <tr>\n      <th>3197</th>\n      <td>Westminster</td>\n      <td>51.628249</td>\n      <td>0.012986</td>\n      <td>GAIL's Bakery</td>\n      <td>51.578719</td>\n      <td>0.025727</td>\n      <td>Bakery</td>\n    </tr>\n    <tr>\n      <th>3198</th>\n      <td>Westminster</td>\n      <td>51.628249</td>\n      <td>0.012986</td>\n      <td>George's Souvlaki Bar</td>\n      <td>51.593929</td>\n      <td>0.024862</td>\n      <td>Greek Restaurant</td>\n    </tr>\n    <tr>\n      <th>3199</th>\n      <td>Westminster</td>\n      <td>51.628249</td>\n      <td>0.012986</td>\n      <td>The Cuckfield</td>\n      <td>51.579343</td>\n      <td>0.024826</td>\n      <td>Pub</td>\n    </tr>\n  </tbody>\n</table>\n<p>3200 rows × 7 columns</p>\n</div>"
     },
     "metadata": {},
     "execution_count": 44
    }
   ],
   "source": [
    "london_venues = getNearbyVenues(names=ldn_df['Borough'], latitudes=ldn_df['Latitude'], longitudes=ldn_df['Longitude'])\n",
    "london_venues"
   ]
  },
  {
   "source": [
    "### Listing unique venues produced from list"
   ],
   "cell_type": "markdown",
   "metadata": {}
  },
  {
   "cell_type": "code",
   "execution_count": 45,
   "metadata": {},
   "outputs": [
    {
     "output_type": "execute_result",
     "data": {
      "text/plain": [
       "array(['Park', 'Fast Food Restaurant', 'Pet Store', 'Go Kart Track',\n",
       "       'Pub', 'Gastropub', 'Restaurant', 'History Museum',\n",
       "       'Gym / Fitness Center', 'Supermarket', 'Bar', 'Hotel',\n",
       "       'Grocery Store', 'Café', 'Bakery', 'Thai Restaurant',\n",
       "       'Dim Sum Restaurant', 'Pool', 'Ice Cream Shop', 'Music Venue',\n",
       "       'Dam', 'Lingerie Store', 'Soccer Field', 'Fish & Chips Shop',\n",
       "       'Theater', 'Flea Market', 'Toy / Game Store', 'Clothing Store',\n",
       "       'Coffee Shop', 'Pier', 'Canal Lock', 'Butcher', 'Nightclub',\n",
       "       'Indie Theater', 'Modern European Restaurant', 'Beer Bar',\n",
       "       'Lighthouse', 'Asian Restaurant', 'Rafting', 'Italian Restaurant',\n",
       "       'Burger Joint', 'Mediterranean Restaurant', 'Pizza Place',\n",
       "       'Mexican Restaurant', 'Nature Preserve', 'Sandwich Place',\n",
       "       'Department Store', 'Wine Shop', 'Electronics Store', 'Brewery',\n",
       "       'Vietnamese Restaurant', 'Gym', 'Golf Course',\n",
       "       'Turkish Restaurant', 'Chinese Restaurant',\n",
       "       'Portuguese Restaurant', 'Mini Golf', 'Sushi Restaurant',\n",
       "       'Climbing Gym', 'Deli / Bodega', 'Farm', 'Spa',\n",
       "       'Indian Restaurant', 'Movie Theater', 'Rugby Stadium', 'Gym Pool',\n",
       "       'Juice Bar', 'Eastern European Restaurant', 'Film Studio',\n",
       "       'Breakfast Spot', 'Gift Shop', 'Afghan Restaurant', 'Food Court',\n",
       "       'Student Center', 'Korean Restaurant', 'Middle Eastern Restaurant',\n",
       "       'Soccer Stadium', 'Persian Restaurant', 'Historic Site', 'Forest',\n",
       "       'Castle', 'Garden', 'Rugby Pitch', 'Farmers Market',\n",
       "       'French Restaurant', 'Argentinian Restaurant', 'Wine Bar',\n",
       "       'Street Food Gathering', 'Zoo Exhibit', 'Planetarium', 'Cave',\n",
       "       'Observatory', 'Doner Restaurant', 'Playground',\n",
       "       'Japanese Restaurant', 'Recreation Center',\n",
       "       'Fruit & Vegetable Store', 'Scenic Lookout',\n",
       "       'Furniture / Home Store', 'Museum', 'English Restaurant',\n",
       "       'American Restaurant', 'Trail', 'Garden Center', 'Zoo', 'Palace',\n",
       "       'Organic Grocery', 'Bookstore', 'Food & Drink Shop',\n",
       "       'Brazilian Restaurant', 'Gourmet Shop', 'Bistro',\n",
       "       'Sporting Goods Shop', 'Discount Store', 'Reservoir',\n",
       "       'Greek Restaurant', 'Indie Movie Theater', 'Cocktail Bar',\n",
       "       'Performing Arts Venue', 'Hookah Bar', 'Tea Room',\n",
       "       'Caribbean Restaurant', 'Warehouse Store', 'Coworking Space',\n",
       "       'Tennis Court', 'Lake', 'Creperie',\n",
       "       'Vegetarian / Vegan Restaurant', 'Dessert Shop', 'Salad Place',\n",
       "       'Art Gallery', 'Botanical Garden', 'Outdoor Sculpture',\n",
       "       'Brasserie', 'Pedestrian Plaza', 'Canal', 'Market',\n",
       "       'Circus School', 'Roof Deck', 'Fish Market', 'BBQ Joint',\n",
       "       'Record Shop', 'Whisky Bar', 'Beer Store', 'Escape Room',\n",
       "       'Steakhouse', 'Plaza', 'Shopping Plaza', 'Hotel Bar',\n",
       "       'Harbor / Marina', 'Australian Restaurant', 'Golf Driving Range',\n",
       "       'Spanish Restaurant', 'Boutique', 'Bubble Tea Shop', 'Sports Club',\n",
       "       'Bagel Shop', 'Science Museum', 'Shopping Mall', 'Concert Hall',\n",
       "       'Art Museum', 'Social Club', 'Monument / Landmark', 'Boxing Gym',\n",
       "       'Event Space', 'Opera House', 'Cheese Shop', 'Seafood Restaurant',\n",
       "       'Empanada Restaurant', 'Lounge', 'Tapas Restaurant',\n",
       "       'Liquor Store', 'Comic Shop', 'Bike Shop', 'Yoga Studio',\n",
       "       'Cricket Ground', 'Cosmetics Shop', 'Jazz Club', 'Multiplex',\n",
       "       'Gay Bar', 'Waterfront', 'Beer Garden', 'German Restaurant',\n",
       "       'Pet Café', 'Russian Restaurant',\n",
       "       'Molecular Gastronomy Restaurant', 'Jewelry Store', 'Donut Shop',\n",
       "       'Hockey Rink', 'Latin American Restaurant', 'Train Station',\n",
       "       \"Women's Store\", 'Nail Salon', 'Stadium', 'Okonomiyaki Restaurant',\n",
       "       'Tennis Stadium', 'Convenience Store', 'Distillery',\n",
       "       'Chocolate Shop', 'Snack Place', 'Campground', 'Halal Restaurant',\n",
       "       'Arts & Crafts Store', 'Athletics & Sports'], dtype=object)"
      ]
     },
     "metadata": {},
     "execution_count": 45
    }
   ],
   "source": [
    "london_venues['Venue Category'].unique()\n"
   ]
  },
  {
   "source": [
    "### Performing onehot on all venues"
   ],
   "cell_type": "markdown",
   "metadata": {}
  },
  {
   "cell_type": "code",
   "execution_count": 46,
   "metadata": {},
   "outputs": [],
   "source": [
    "london_onehot = pd.get_dummies(london_venues[['Venue Category']], prefix=\"\", prefix_sep=\"\")\n",
    "london_onehot['Borough'] = london_venues['Borough']\n",
    "fixed_columns = [london_onehot.columns[-1]] + list(london_onehot.columns[:-1])\n",
    "london_onehot = london_onehot[fixed_columns]"
   ]
  },
  {
   "cell_type": "code",
   "execution_count": 47,
   "metadata": {},
   "outputs": [
    {
     "output_type": "execute_result",
     "data": {
      "text/plain": [
       "                   Borough  Afghan Restaurant  American Restaurant  \\\n",
       "0     Barking and Dagenham               0.00                 0.00   \n",
       "1                   Barnet               0.01                 0.00   \n",
       "2                   Bexley               0.00                 0.01   \n",
       "3                    Brent               0.00                 0.00   \n",
       "4                  Bromley               0.00                 0.00   \n",
       "5                   Camden               0.00                 0.00   \n",
       "6                  Croydon               0.00                 0.00   \n",
       "7                   Ealing               0.00                 0.00   \n",
       "8                  Enfield               0.00                 0.00   \n",
       "9                Greenwich               0.00                 0.00   \n",
       "10                 Hackney               0.00                 0.00   \n",
       "11  Hammersmith and Fulham               0.00                 0.00   \n",
       "12                Haringey               0.00                 0.00   \n",
       "13                  Harrow               0.00                 0.00   \n",
       "14                Havering               0.00                 0.00   \n",
       "15              Hillingdon               0.00                 0.00   \n",
       "16                Hounslow               0.00                 0.00   \n",
       "17               Islington               0.00                 0.00   \n",
       "18  Kensington and Chelsea               0.00                 0.00   \n",
       "19    Kingston upon Thames               0.00                 0.00   \n",
       "20                 Lambeth               0.00                 0.00   \n",
       "21                Lewisham               0.00                 0.00   \n",
       "22                  Merton               0.00                 0.00   \n",
       "23                  Newham               0.00                 0.00   \n",
       "24               Redbridge               0.00                 0.00   \n",
       "25    Richmond upon Thames               0.00                 0.00   \n",
       "26               Southwark               0.00                 0.00   \n",
       "27                  Sutton               0.00                 0.00   \n",
       "28           Tower Hamlets               0.00                 0.00   \n",
       "29          Waltham Forest               0.00                 0.00   \n",
       "30              Wandsworth               0.00                 0.00   \n",
       "31             Westminster               0.00                 0.00   \n",
       "\n",
       "    Argentinian Restaurant  Art Gallery  Art Museum  Arts & Crafts Store  \\\n",
       "0                     0.00         0.00        0.00                 0.00   \n",
       "1                     0.00         0.00        0.00                 0.00   \n",
       "2                     0.01         0.00        0.00                 0.00   \n",
       "3                     0.00         0.00        0.00                 0.00   \n",
       "4                     0.00         0.00        0.00                 0.00   \n",
       "5                     0.00         0.00        0.00                 0.00   \n",
       "6                     0.00         0.00        0.00                 0.00   \n",
       "7                     0.01         0.02        0.00                 0.00   \n",
       "8                     0.00         0.01        0.00                 0.00   \n",
       "9                     0.01         0.00        0.00                 0.00   \n",
       "10                    0.00         0.02        0.00                 0.00   \n",
       "11                    0.00         0.01        0.01                 0.00   \n",
       "12                    0.00         0.00        0.00                 0.00   \n",
       "13                    0.00         0.02        0.01                 0.00   \n",
       "14                    0.01         0.03        0.00                 0.00   \n",
       "15                    0.00         0.01        0.03                 0.00   \n",
       "16                    0.01         0.01        0.00                 0.00   \n",
       "17                    0.00         0.00        0.01                 0.00   \n",
       "18                    0.01         0.02        0.01                 0.00   \n",
       "19                    0.00         0.00        0.00                 0.00   \n",
       "20                    0.00         0.02        0.02                 0.00   \n",
       "21                    0.01         0.00        0.00                 0.00   \n",
       "22                    0.01         0.03        0.00                 0.00   \n",
       "23                    0.01         0.00        0.00                 0.00   \n",
       "24                    0.00         0.02        0.02                 0.00   \n",
       "25                    0.00         0.00        0.00                 0.00   \n",
       "26                    0.00         0.02        0.02                 0.00   \n",
       "27                    0.00         0.03        0.01                 0.00   \n",
       "28                    0.00         0.00        0.00                 0.00   \n",
       "29                    0.00         0.00        0.00                 0.00   \n",
       "30                    0.00         0.01        0.03                 0.00   \n",
       "31                    0.00         0.02        0.00                 0.01   \n",
       "\n",
       "    Asian Restaurant  Athletics & Sports  Australian Restaurant  ...  \\\n",
       "0               0.01                0.00                   0.00  ...   \n",
       "1               0.00                0.00                   0.00  ...   \n",
       "2               0.00                0.00                   0.00  ...   \n",
       "3               0.00                0.00                   0.00  ...   \n",
       "4               0.00                0.00                   0.00  ...   \n",
       "5               0.00                0.00                   0.00  ...   \n",
       "6               0.00                0.00                   0.00  ...   \n",
       "7               0.01                0.00                   0.00  ...   \n",
       "8               0.00                0.00                   0.00  ...   \n",
       "9               0.01                0.00                   0.01  ...   \n",
       "10              0.00                0.00                   0.00  ...   \n",
       "11              0.00                0.00                   0.01  ...   \n",
       "12              0.00                0.00                   0.00  ...   \n",
       "13              0.00                0.00                   0.00  ...   \n",
       "14              0.00                0.00                   0.00  ...   \n",
       "15              0.00                0.00                   0.00  ...   \n",
       "16              0.01                0.00                   0.00  ...   \n",
       "17              0.00                0.00                   0.00  ...   \n",
       "18              0.00                0.00                   0.00  ...   \n",
       "19              0.00                0.00                   0.00  ...   \n",
       "20              0.01                0.00                   0.00  ...   \n",
       "21              0.00                0.00                   0.01  ...   \n",
       "22              0.00                0.00                   0.00  ...   \n",
       "23              0.02                0.00                   0.00  ...   \n",
       "24              0.00                0.00                   0.00  ...   \n",
       "25              0.00                0.00                   0.00  ...   \n",
       "26              0.00                0.00                   0.00  ...   \n",
       "27              0.00                0.00                   0.00  ...   \n",
       "28              0.00                0.00                   0.01  ...   \n",
       "29              0.01                0.00                   0.00  ...   \n",
       "30              0.01                0.00                   0.00  ...   \n",
       "31              0.00                0.01                   0.00  ...   \n",
       "\n",
       "    Vietnamese Restaurant  Warehouse Store  Waterfront  Whisky Bar  Wine Bar  \\\n",
       "0                    0.01             0.00        0.00        0.00      0.00   \n",
       "1                    0.01             0.00        0.00        0.00      0.00   \n",
       "2                    0.00             0.00        0.00        0.00      0.01   \n",
       "3                    0.01             0.00        0.00        0.00      0.00   \n",
       "4                    0.00             0.01        0.00        0.00      0.00   \n",
       "5                    0.00             0.00        0.00        0.00      0.01   \n",
       "6                    0.00             0.00        0.00        0.00      0.01   \n",
       "7                    0.01             0.00        0.00        0.00      0.00   \n",
       "8                    0.00             0.00        0.00        0.01      0.00   \n",
       "9                    0.01             0.00        0.00        0.00      0.01   \n",
       "10                   0.00             0.00        0.00        0.01      0.01   \n",
       "11                   0.01             0.00        0.00        0.00      0.01   \n",
       "12                   0.00             0.00        0.00        0.00      0.01   \n",
       "13                   0.00             0.00        0.00        0.01      0.01   \n",
       "14                   0.00             0.00        0.00        0.00      0.00   \n",
       "15                   0.00             0.00        0.00        0.00      0.01   \n",
       "16                   0.00             0.00        0.01        0.00      0.00   \n",
       "17                   0.00             0.00        0.00        0.01      0.01   \n",
       "18                   0.00             0.00        0.00        0.00      0.00   \n",
       "19                   0.00             0.00        0.00        0.00      0.00   \n",
       "20                   0.00             0.00        0.00        0.00      0.01   \n",
       "21                   0.01             0.00        0.00        0.00      0.01   \n",
       "22                   0.00             0.00        0.00        0.00      0.01   \n",
       "23                   0.01             0.00        0.00        0.00      0.00   \n",
       "24                   0.00             0.00        0.00        0.00      0.01   \n",
       "25                   0.00             0.00        0.01        0.00      0.01   \n",
       "26                   0.00             0.00        0.00        0.01      0.01   \n",
       "27                   0.00             0.00        0.00        0.01      0.01   \n",
       "28                   0.01             0.00        0.00        0.00      0.01   \n",
       "29                   0.00             0.01        0.00        0.00      0.00   \n",
       "30                   0.01             0.00        0.00        0.00      0.01   \n",
       "31                   0.00             0.01        0.00        0.00      0.00   \n",
       "\n",
       "    Wine Shop  Women's Store  Yoga Studio   Zoo  Zoo Exhibit  \n",
       "0        0.01           0.00         0.00  0.00         0.00  \n",
       "1        0.00           0.00         0.00  0.00         0.00  \n",
       "2        0.01           0.00         0.00  0.00         0.01  \n",
       "3        0.00           0.00         0.00  0.01         0.00  \n",
       "4        0.00           0.00         0.00  0.00         0.00  \n",
       "5        0.01           0.00         0.00  0.01         0.00  \n",
       "6        0.01           0.00         0.00  0.00         0.00  \n",
       "7        0.00           0.00         0.00  0.00         0.00  \n",
       "8        0.02           0.00         0.00  0.00         0.00  \n",
       "9        0.01           0.00         0.00  0.00         0.01  \n",
       "10       0.02           0.00         0.00  0.00         0.00  \n",
       "11       0.00           0.00         0.00  0.00         0.00  \n",
       "12       0.01           0.00         0.00  0.00         0.00  \n",
       "13       0.00           0.00         0.00  0.00         0.00  \n",
       "14       0.01           0.00         0.01  0.00         0.01  \n",
       "15       0.00           0.00         0.00  0.00         0.00  \n",
       "16       0.00           0.00         0.00  0.00         0.00  \n",
       "17       0.00           0.00         0.01  0.00         0.01  \n",
       "18       0.00           0.00         0.00  0.00         0.01  \n",
       "19       0.00           0.00         0.00  0.00         0.00  \n",
       "20       0.01           0.00         0.00  0.00         0.00  \n",
       "21       0.01           0.00         0.00  0.00         0.01  \n",
       "22       0.01           0.01         0.01  0.01         0.01  \n",
       "23       0.00           0.00         0.00  0.00         0.00  \n",
       "24       0.00           0.00         0.00  0.00         0.00  \n",
       "25       0.00           0.00         0.00  0.00         0.00  \n",
       "26       0.00           0.00         0.00  0.00         0.00  \n",
       "27       0.01           0.00         0.00  0.00         0.00  \n",
       "28       0.01           0.00         0.00  0.00         0.00  \n",
       "29       0.00           0.00         0.00  0.00         0.00  \n",
       "30       0.00           0.00         0.00  0.00         0.00  \n",
       "31       0.00           0.00         0.00  0.00         0.00  \n",
       "\n",
       "[32 rows x 205 columns]"
      ],
      "text/html": "<div>\n<style scoped>\n    .dataframe tbody tr th:only-of-type {\n        vertical-align: middle;\n    }\n\n    .dataframe tbody tr th {\n        vertical-align: top;\n    }\n\n    .dataframe thead th {\n        text-align: right;\n    }\n</style>\n<table border=\"1\" class=\"dataframe\">\n  <thead>\n    <tr style=\"text-align: right;\">\n      <th></th>\n      <th>Borough</th>\n      <th>Afghan Restaurant</th>\n      <th>American Restaurant</th>\n      <th>Argentinian Restaurant</th>\n      <th>Art Gallery</th>\n      <th>Art Museum</th>\n      <th>Arts &amp; Crafts Store</th>\n      <th>Asian Restaurant</th>\n      <th>Athletics &amp; Sports</th>\n      <th>Australian Restaurant</th>\n      <th>...</th>\n      <th>Vietnamese Restaurant</th>\n      <th>Warehouse Store</th>\n      <th>Waterfront</th>\n      <th>Whisky Bar</th>\n      <th>Wine Bar</th>\n      <th>Wine Shop</th>\n      <th>Women's Store</th>\n      <th>Yoga Studio</th>\n      <th>Zoo</th>\n      <th>Zoo Exhibit</th>\n    </tr>\n  </thead>\n  <tbody>\n    <tr>\n      <th>0</th>\n      <td>Barking and Dagenham</td>\n      <td>0.00</td>\n      <td>0.00</td>\n      <td>0.00</td>\n      <td>0.00</td>\n      <td>0.00</td>\n      <td>0.00</td>\n      <td>0.01</td>\n      <td>0.00</td>\n      <td>0.00</td>\n      <td>...</td>\n      <td>0.01</td>\n      <td>0.00</td>\n      <td>0.00</td>\n      <td>0.00</td>\n      <td>0.00</td>\n      <td>0.01</td>\n      <td>0.00</td>\n      <td>0.00</td>\n      <td>0.00</td>\n      <td>0.00</td>\n    </tr>\n    <tr>\n      <th>1</th>\n      <td>Barnet</td>\n      <td>0.01</td>\n      <td>0.00</td>\n      <td>0.00</td>\n      <td>0.00</td>\n      <td>0.00</td>\n      <td>0.00</td>\n      <td>0.00</td>\n      <td>0.00</td>\n      <td>0.00</td>\n      <td>...</td>\n      <td>0.01</td>\n      <td>0.00</td>\n      <td>0.00</td>\n      <td>0.00</td>\n      <td>0.00</td>\n      <td>0.00</td>\n      <td>0.00</td>\n      <td>0.00</td>\n      <td>0.00</td>\n      <td>0.00</td>\n    </tr>\n    <tr>\n      <th>2</th>\n      <td>Bexley</td>\n      <td>0.00</td>\n      <td>0.01</td>\n      <td>0.01</td>\n      <td>0.00</td>\n      <td>0.00</td>\n      <td>0.00</td>\n      <td>0.00</td>\n      <td>0.00</td>\n      <td>0.00</td>\n      <td>...</td>\n      <td>0.00</td>\n      <td>0.00</td>\n      <td>0.00</td>\n      <td>0.00</td>\n      <td>0.01</td>\n      <td>0.01</td>\n      <td>0.00</td>\n      <td>0.00</td>\n      <td>0.00</td>\n      <td>0.01</td>\n    </tr>\n    <tr>\n      <th>3</th>\n      <td>Brent</td>\n      <td>0.00</td>\n      <td>0.00</td>\n      <td>0.00</td>\n      <td>0.00</td>\n      <td>0.00</td>\n      <td>0.00</td>\n      <td>0.00</td>\n      <td>0.00</td>\n      <td>0.00</td>\n      <td>...</td>\n      <td>0.01</td>\n      <td>0.00</td>\n      <td>0.00</td>\n      <td>0.00</td>\n      <td>0.00</td>\n      <td>0.00</td>\n      <td>0.00</td>\n      <td>0.00</td>\n      <td>0.01</td>\n      <td>0.00</td>\n    </tr>\n    <tr>\n      <th>4</th>\n      <td>Bromley</td>\n      <td>0.00</td>\n      <td>0.00</td>\n      <td>0.00</td>\n      <td>0.00</td>\n      <td>0.00</td>\n      <td>0.00</td>\n      <td>0.00</td>\n      <td>0.00</td>\n      <td>0.00</td>\n      <td>...</td>\n      <td>0.00</td>\n      <td>0.01</td>\n      <td>0.00</td>\n      <td>0.00</td>\n      <td>0.00</td>\n      <td>0.00</td>\n      <td>0.00</td>\n      <td>0.00</td>\n      <td>0.00</td>\n      <td>0.00</td>\n    </tr>\n    <tr>\n      <th>5</th>\n      <td>Camden</td>\n      <td>0.00</td>\n      <td>0.00</td>\n      <td>0.00</td>\n      <td>0.00</td>\n      <td>0.00</td>\n      <td>0.00</td>\n      <td>0.00</td>\n      <td>0.00</td>\n      <td>0.00</td>\n      <td>...</td>\n      <td>0.00</td>\n      <td>0.00</td>\n      <td>0.00</td>\n      <td>0.00</td>\n      <td>0.01</td>\n      <td>0.01</td>\n      <td>0.00</td>\n      <td>0.00</td>\n      <td>0.01</td>\n      <td>0.00</td>\n    </tr>\n    <tr>\n      <th>6</th>\n      <td>Croydon</td>\n      <td>0.00</td>\n      <td>0.00</td>\n      <td>0.00</td>\n      <td>0.00</td>\n      <td>0.00</td>\n      <td>0.00</td>\n      <td>0.00</td>\n      <td>0.00</td>\n      <td>0.00</td>\n      <td>...</td>\n      <td>0.00</td>\n      <td>0.00</td>\n      <td>0.00</td>\n      <td>0.00</td>\n      <td>0.01</td>\n      <td>0.01</td>\n      <td>0.00</td>\n      <td>0.00</td>\n      <td>0.00</td>\n      <td>0.00</td>\n    </tr>\n    <tr>\n      <th>7</th>\n      <td>Ealing</td>\n      <td>0.00</td>\n      <td>0.00</td>\n      <td>0.01</td>\n      <td>0.02</td>\n      <td>0.00</td>\n      <td>0.00</td>\n      <td>0.01</td>\n      <td>0.00</td>\n      <td>0.00</td>\n      <td>...</td>\n      <td>0.01</td>\n      <td>0.00</td>\n      <td>0.00</td>\n      <td>0.00</td>\n      <td>0.00</td>\n      <td>0.00</td>\n      <td>0.00</td>\n      <td>0.00</td>\n      <td>0.00</td>\n      <td>0.00</td>\n    </tr>\n    <tr>\n      <th>8</th>\n      <td>Enfield</td>\n      <td>0.00</td>\n      <td>0.00</td>\n      <td>0.00</td>\n      <td>0.01</td>\n      <td>0.00</td>\n      <td>0.00</td>\n      <td>0.00</td>\n      <td>0.00</td>\n      <td>0.00</td>\n      <td>...</td>\n      <td>0.00</td>\n      <td>0.00</td>\n      <td>0.00</td>\n      <td>0.01</td>\n      <td>0.00</td>\n      <td>0.02</td>\n      <td>0.00</td>\n      <td>0.00</td>\n      <td>0.00</td>\n      <td>0.00</td>\n    </tr>\n    <tr>\n      <th>9</th>\n      <td>Greenwich</td>\n      <td>0.00</td>\n      <td>0.00</td>\n      <td>0.01</td>\n      <td>0.00</td>\n      <td>0.00</td>\n      <td>0.00</td>\n      <td>0.01</td>\n      <td>0.00</td>\n      <td>0.01</td>\n      <td>...</td>\n      <td>0.01</td>\n      <td>0.00</td>\n      <td>0.00</td>\n      <td>0.00</td>\n      <td>0.01</td>\n      <td>0.01</td>\n      <td>0.00</td>\n      <td>0.00</td>\n      <td>0.00</td>\n      <td>0.01</td>\n    </tr>\n    <tr>\n      <th>10</th>\n      <td>Hackney</td>\n      <td>0.00</td>\n      <td>0.00</td>\n      <td>0.00</td>\n      <td>0.02</td>\n      <td>0.00</td>\n      <td>0.00</td>\n      <td>0.00</td>\n      <td>0.00</td>\n      <td>0.00</td>\n      <td>...</td>\n      <td>0.00</td>\n      <td>0.00</td>\n      <td>0.00</td>\n      <td>0.01</td>\n      <td>0.01</td>\n      <td>0.02</td>\n      <td>0.00</td>\n      <td>0.00</td>\n      <td>0.00</td>\n      <td>0.00</td>\n    </tr>\n    <tr>\n      <th>11</th>\n      <td>Hammersmith and Fulham</td>\n      <td>0.00</td>\n      <td>0.00</td>\n      <td>0.00</td>\n      <td>0.01</td>\n      <td>0.01</td>\n      <td>0.00</td>\n      <td>0.00</td>\n      <td>0.00</td>\n      <td>0.01</td>\n      <td>...</td>\n      <td>0.01</td>\n      <td>0.00</td>\n      <td>0.00</td>\n      <td>0.00</td>\n      <td>0.01</td>\n      <td>0.00</td>\n      <td>0.00</td>\n      <td>0.00</td>\n      <td>0.00</td>\n      <td>0.00</td>\n    </tr>\n    <tr>\n      <th>12</th>\n      <td>Haringey</td>\n      <td>0.00</td>\n      <td>0.00</td>\n      <td>0.00</td>\n      <td>0.00</td>\n      <td>0.00</td>\n      <td>0.00</td>\n      <td>0.00</td>\n      <td>0.00</td>\n      <td>0.00</td>\n      <td>...</td>\n      <td>0.00</td>\n      <td>0.00</td>\n      <td>0.00</td>\n      <td>0.00</td>\n      <td>0.01</td>\n      <td>0.01</td>\n      <td>0.00</td>\n      <td>0.00</td>\n      <td>0.00</td>\n      <td>0.00</td>\n    </tr>\n    <tr>\n      <th>13</th>\n      <td>Harrow</td>\n      <td>0.00</td>\n      <td>0.00</td>\n      <td>0.00</td>\n      <td>0.02</td>\n      <td>0.01</td>\n      <td>0.00</td>\n      <td>0.00</td>\n      <td>0.00</td>\n      <td>0.00</td>\n      <td>...</td>\n      <td>0.00</td>\n      <td>0.00</td>\n      <td>0.00</td>\n      <td>0.01</td>\n      <td>0.01</td>\n      <td>0.00</td>\n      <td>0.00</td>\n      <td>0.00</td>\n      <td>0.00</td>\n      <td>0.00</td>\n    </tr>\n    <tr>\n      <th>14</th>\n      <td>Havering</td>\n      <td>0.00</td>\n      <td>0.00</td>\n      <td>0.01</td>\n      <td>0.03</td>\n      <td>0.00</td>\n      <td>0.00</td>\n      <td>0.00</td>\n      <td>0.00</td>\n      <td>0.00</td>\n      <td>...</td>\n      <td>0.00</td>\n      <td>0.00</td>\n      <td>0.00</td>\n      <td>0.00</td>\n      <td>0.00</td>\n      <td>0.01</td>\n      <td>0.00</td>\n      <td>0.01</td>\n      <td>0.00</td>\n      <td>0.01</td>\n    </tr>\n    <tr>\n      <th>15</th>\n      <td>Hillingdon</td>\n      <td>0.00</td>\n      <td>0.00</td>\n      <td>0.00</td>\n      <td>0.01</td>\n      <td>0.03</td>\n      <td>0.00</td>\n      <td>0.00</td>\n      <td>0.00</td>\n      <td>0.00</td>\n      <td>...</td>\n      <td>0.00</td>\n      <td>0.00</td>\n      <td>0.00</td>\n      <td>0.00</td>\n      <td>0.01</td>\n      <td>0.00</td>\n      <td>0.00</td>\n      <td>0.00</td>\n      <td>0.00</td>\n      <td>0.00</td>\n    </tr>\n    <tr>\n      <th>16</th>\n      <td>Hounslow</td>\n      <td>0.00</td>\n      <td>0.00</td>\n      <td>0.01</td>\n      <td>0.01</td>\n      <td>0.00</td>\n      <td>0.00</td>\n      <td>0.01</td>\n      <td>0.00</td>\n      <td>0.00</td>\n      <td>...</td>\n      <td>0.00</td>\n      <td>0.00</td>\n      <td>0.01</td>\n      <td>0.00</td>\n      <td>0.00</td>\n      <td>0.00</td>\n      <td>0.00</td>\n      <td>0.00</td>\n      <td>0.00</td>\n      <td>0.00</td>\n    </tr>\n    <tr>\n      <th>17</th>\n      <td>Islington</td>\n      <td>0.00</td>\n      <td>0.00</td>\n      <td>0.00</td>\n      <td>0.00</td>\n      <td>0.01</td>\n      <td>0.00</td>\n      <td>0.00</td>\n      <td>0.00</td>\n      <td>0.00</td>\n      <td>...</td>\n      <td>0.00</td>\n      <td>0.00</td>\n      <td>0.00</td>\n      <td>0.01</td>\n      <td>0.01</td>\n      <td>0.00</td>\n      <td>0.00</td>\n      <td>0.01</td>\n      <td>0.00</td>\n      <td>0.01</td>\n    </tr>\n    <tr>\n      <th>18</th>\n      <td>Kensington and Chelsea</td>\n      <td>0.00</td>\n      <td>0.00</td>\n      <td>0.01</td>\n      <td>0.02</td>\n      <td>0.01</td>\n      <td>0.00</td>\n      <td>0.00</td>\n      <td>0.00</td>\n      <td>0.00</td>\n      <td>...</td>\n      <td>0.00</td>\n      <td>0.00</td>\n      <td>0.00</td>\n      <td>0.00</td>\n      <td>0.00</td>\n      <td>0.00</td>\n      <td>0.00</td>\n      <td>0.00</td>\n      <td>0.00</td>\n      <td>0.01</td>\n    </tr>\n    <tr>\n      <th>19</th>\n      <td>Kingston upon Thames</td>\n      <td>0.00</td>\n      <td>0.00</td>\n      <td>0.00</td>\n      <td>0.00</td>\n      <td>0.00</td>\n      <td>0.00</td>\n      <td>0.00</td>\n      <td>0.00</td>\n      <td>0.00</td>\n      <td>...</td>\n      <td>0.00</td>\n      <td>0.00</td>\n      <td>0.00</td>\n      <td>0.00</td>\n      <td>0.00</td>\n      <td>0.00</td>\n      <td>0.00</td>\n      <td>0.00</td>\n      <td>0.00</td>\n      <td>0.00</td>\n    </tr>\n    <tr>\n      <th>20</th>\n      <td>Lambeth</td>\n      <td>0.00</td>\n      <td>0.00</td>\n      <td>0.00</td>\n      <td>0.02</td>\n      <td>0.02</td>\n      <td>0.00</td>\n      <td>0.01</td>\n      <td>0.00</td>\n      <td>0.00</td>\n      <td>...</td>\n      <td>0.00</td>\n      <td>0.00</td>\n      <td>0.00</td>\n      <td>0.00</td>\n      <td>0.01</td>\n      <td>0.01</td>\n      <td>0.00</td>\n      <td>0.00</td>\n      <td>0.00</td>\n      <td>0.00</td>\n    </tr>\n    <tr>\n      <th>21</th>\n      <td>Lewisham</td>\n      <td>0.00</td>\n      <td>0.00</td>\n      <td>0.01</td>\n      <td>0.00</td>\n      <td>0.00</td>\n      <td>0.00</td>\n      <td>0.00</td>\n      <td>0.00</td>\n      <td>0.01</td>\n      <td>...</td>\n      <td>0.01</td>\n      <td>0.00</td>\n      <td>0.00</td>\n      <td>0.00</td>\n      <td>0.01</td>\n      <td>0.01</td>\n      <td>0.00</td>\n      <td>0.00</td>\n      <td>0.00</td>\n      <td>0.01</td>\n    </tr>\n    <tr>\n      <th>22</th>\n      <td>Merton</td>\n      <td>0.00</td>\n      <td>0.00</td>\n      <td>0.01</td>\n      <td>0.03</td>\n      <td>0.00</td>\n      <td>0.00</td>\n      <td>0.00</td>\n      <td>0.00</td>\n      <td>0.00</td>\n      <td>...</td>\n      <td>0.00</td>\n      <td>0.00</td>\n      <td>0.00</td>\n      <td>0.00</td>\n      <td>0.01</td>\n      <td>0.01</td>\n      <td>0.01</td>\n      <td>0.01</td>\n      <td>0.01</td>\n      <td>0.01</td>\n    </tr>\n    <tr>\n      <th>23</th>\n      <td>Newham</td>\n      <td>0.00</td>\n      <td>0.00</td>\n      <td>0.01</td>\n      <td>0.00</td>\n      <td>0.00</td>\n      <td>0.00</td>\n      <td>0.02</td>\n      <td>0.00</td>\n      <td>0.00</td>\n      <td>...</td>\n      <td>0.01</td>\n      <td>0.00</td>\n      <td>0.00</td>\n      <td>0.00</td>\n      <td>0.00</td>\n      <td>0.00</td>\n      <td>0.00</td>\n      <td>0.00</td>\n      <td>0.00</td>\n      <td>0.00</td>\n    </tr>\n    <tr>\n      <th>24</th>\n      <td>Redbridge</td>\n      <td>0.00</td>\n      <td>0.00</td>\n      <td>0.00</td>\n      <td>0.02</td>\n      <td>0.02</td>\n      <td>0.00</td>\n      <td>0.00</td>\n      <td>0.00</td>\n      <td>0.00</td>\n      <td>...</td>\n      <td>0.00</td>\n      <td>0.00</td>\n      <td>0.00</td>\n      <td>0.00</td>\n      <td>0.01</td>\n      <td>0.00</td>\n      <td>0.00</td>\n      <td>0.00</td>\n      <td>0.00</td>\n      <td>0.00</td>\n    </tr>\n    <tr>\n      <th>25</th>\n      <td>Richmond upon Thames</td>\n      <td>0.00</td>\n      <td>0.00</td>\n      <td>0.00</td>\n      <td>0.00</td>\n      <td>0.00</td>\n      <td>0.00</td>\n      <td>0.00</td>\n      <td>0.00</td>\n      <td>0.00</td>\n      <td>...</td>\n      <td>0.00</td>\n      <td>0.00</td>\n      <td>0.01</td>\n      <td>0.00</td>\n      <td>0.01</td>\n      <td>0.00</td>\n      <td>0.00</td>\n      <td>0.00</td>\n      <td>0.00</td>\n      <td>0.00</td>\n    </tr>\n    <tr>\n      <th>26</th>\n      <td>Southwark</td>\n      <td>0.00</td>\n      <td>0.00</td>\n      <td>0.00</td>\n      <td>0.02</td>\n      <td>0.02</td>\n      <td>0.00</td>\n      <td>0.00</td>\n      <td>0.00</td>\n      <td>0.00</td>\n      <td>...</td>\n      <td>0.00</td>\n      <td>0.00</td>\n      <td>0.00</td>\n      <td>0.01</td>\n      <td>0.01</td>\n      <td>0.00</td>\n      <td>0.00</td>\n      <td>0.00</td>\n      <td>0.00</td>\n      <td>0.00</td>\n    </tr>\n    <tr>\n      <th>27</th>\n      <td>Sutton</td>\n      <td>0.00</td>\n      <td>0.00</td>\n      <td>0.00</td>\n      <td>0.03</td>\n      <td>0.01</td>\n      <td>0.00</td>\n      <td>0.00</td>\n      <td>0.00</td>\n      <td>0.00</td>\n      <td>...</td>\n      <td>0.00</td>\n      <td>0.00</td>\n      <td>0.00</td>\n      <td>0.01</td>\n      <td>0.01</td>\n      <td>0.01</td>\n      <td>0.00</td>\n      <td>0.00</td>\n      <td>0.00</td>\n      <td>0.00</td>\n    </tr>\n    <tr>\n      <th>28</th>\n      <td>Tower Hamlets</td>\n      <td>0.00</td>\n      <td>0.00</td>\n      <td>0.00</td>\n      <td>0.00</td>\n      <td>0.00</td>\n      <td>0.00</td>\n      <td>0.00</td>\n      <td>0.00</td>\n      <td>0.01</td>\n      <td>...</td>\n      <td>0.01</td>\n      <td>0.00</td>\n      <td>0.00</td>\n      <td>0.00</td>\n      <td>0.01</td>\n      <td>0.01</td>\n      <td>0.00</td>\n      <td>0.00</td>\n      <td>0.00</td>\n      <td>0.00</td>\n    </tr>\n    <tr>\n      <th>29</th>\n      <td>Waltham Forest</td>\n      <td>0.00</td>\n      <td>0.00</td>\n      <td>0.00</td>\n      <td>0.00</td>\n      <td>0.00</td>\n      <td>0.00</td>\n      <td>0.01</td>\n      <td>0.00</td>\n      <td>0.00</td>\n      <td>...</td>\n      <td>0.00</td>\n      <td>0.01</td>\n      <td>0.00</td>\n      <td>0.00</td>\n      <td>0.00</td>\n      <td>0.00</td>\n      <td>0.00</td>\n      <td>0.00</td>\n      <td>0.00</td>\n      <td>0.00</td>\n    </tr>\n    <tr>\n      <th>30</th>\n      <td>Wandsworth</td>\n      <td>0.00</td>\n      <td>0.00</td>\n      <td>0.00</td>\n      <td>0.01</td>\n      <td>0.03</td>\n      <td>0.00</td>\n      <td>0.01</td>\n      <td>0.00</td>\n      <td>0.00</td>\n      <td>...</td>\n      <td>0.01</td>\n      <td>0.00</td>\n      <td>0.00</td>\n      <td>0.00</td>\n      <td>0.01</td>\n      <td>0.00</td>\n      <td>0.00</td>\n      <td>0.00</td>\n      <td>0.00</td>\n      <td>0.00</td>\n    </tr>\n    <tr>\n      <th>31</th>\n      <td>Westminster</td>\n      <td>0.00</td>\n      <td>0.00</td>\n      <td>0.00</td>\n      <td>0.02</td>\n      <td>0.00</td>\n      <td>0.01</td>\n      <td>0.00</td>\n      <td>0.01</td>\n      <td>0.00</td>\n      <td>...</td>\n      <td>0.00</td>\n      <td>0.01</td>\n      <td>0.00</td>\n      <td>0.00</td>\n      <td>0.00</td>\n      <td>0.00</td>\n      <td>0.00</td>\n      <td>0.00</td>\n      <td>0.00</td>\n      <td>0.00</td>\n    </tr>\n  </tbody>\n</table>\n<p>32 rows × 205 columns</p>\n</div>"
     },
     "metadata": {},
     "execution_count": 47
    }
   ],
   "source": [
    "london_grouped = london_onehot.groupby('Borough').mean().reset_index()\n",
    "london_grouped"
   ]
  },
  {
   "source": [
    "### Creating new dataframe with onehot results for Movie Theater and Indie Movie Theater"
   ],
   "cell_type": "markdown",
   "metadata": {}
  },
  {
   "cell_type": "code",
   "execution_count": 48,
   "metadata": {},
   "outputs": [
    {
     "output_type": "execute_result",
     "data": {
      "text/plain": [
       "                   Borough  Movie Theater  Indie Movie Theater\n",
       "0     Barking and Dagenham           0.00                 0.00\n",
       "1                   Barnet           0.01                 0.00\n",
       "2                   Bexley           0.00                 0.00\n",
       "3                    Brent           0.02                 0.00\n",
       "4                  Bromley           0.00                 0.01\n",
       "5                   Camden           0.02                 0.01\n",
       "6                  Croydon           0.00                 0.01\n",
       "7                   Ealing           0.00                 0.00\n",
       "8                  Enfield           0.01                 0.00\n",
       "9                Greenwich           0.00                 0.00\n",
       "10                 Hackney           0.01                 0.00\n",
       "11  Hammersmith and Fulham           0.01                 0.01\n",
       "12                Haringey           0.00                 0.01\n",
       "13                  Harrow           0.00                 0.00\n",
       "14                Havering           0.00                 0.00\n",
       "15              Hillingdon           0.00                 0.01\n",
       "16                Hounslow           0.00                 0.00\n",
       "17               Islington           0.00                 0.00\n",
       "18  Kensington and Chelsea           0.02                 0.00\n",
       "19    Kingston upon Thames           0.00                 0.00\n",
       "20                 Lambeth           0.00                 0.00\n",
       "21                Lewisham           0.00                 0.01\n",
       "22                  Merton           0.02                 0.00\n",
       "23                  Newham           0.00                 0.00\n",
       "24               Redbridge           0.00                 0.01\n",
       "25    Richmond upon Thames           0.00                 0.01\n",
       "26               Southwark           0.00                 0.00\n",
       "27                  Sutton           0.00                 0.00\n",
       "28           Tower Hamlets           0.01                 0.00\n",
       "29          Waltham Forest           0.00                 0.00\n",
       "30              Wandsworth           0.00                 0.00\n",
       "31             Westminster           0.00                 0.00"
      ],
      "text/html": "<div>\n<style scoped>\n    .dataframe tbody tr th:only-of-type {\n        vertical-align: middle;\n    }\n\n    .dataframe tbody tr th {\n        vertical-align: top;\n    }\n\n    .dataframe thead th {\n        text-align: right;\n    }\n</style>\n<table border=\"1\" class=\"dataframe\">\n  <thead>\n    <tr style=\"text-align: right;\">\n      <th></th>\n      <th>Borough</th>\n      <th>Movie Theater</th>\n      <th>Indie Movie Theater</th>\n    </tr>\n  </thead>\n  <tbody>\n    <tr>\n      <th>0</th>\n      <td>Barking and Dagenham</td>\n      <td>0.00</td>\n      <td>0.00</td>\n    </tr>\n    <tr>\n      <th>1</th>\n      <td>Barnet</td>\n      <td>0.01</td>\n      <td>0.00</td>\n    </tr>\n    <tr>\n      <th>2</th>\n      <td>Bexley</td>\n      <td>0.00</td>\n      <td>0.00</td>\n    </tr>\n    <tr>\n      <th>3</th>\n      <td>Brent</td>\n      <td>0.02</td>\n      <td>0.00</td>\n    </tr>\n    <tr>\n      <th>4</th>\n      <td>Bromley</td>\n      <td>0.00</td>\n      <td>0.01</td>\n    </tr>\n    <tr>\n      <th>5</th>\n      <td>Camden</td>\n      <td>0.02</td>\n      <td>0.01</td>\n    </tr>\n    <tr>\n      <th>6</th>\n      <td>Croydon</td>\n      <td>0.00</td>\n      <td>0.01</td>\n    </tr>\n    <tr>\n      <th>7</th>\n      <td>Ealing</td>\n      <td>0.00</td>\n      <td>0.00</td>\n    </tr>\n    <tr>\n      <th>8</th>\n      <td>Enfield</td>\n      <td>0.01</td>\n      <td>0.00</td>\n    </tr>\n    <tr>\n      <th>9</th>\n      <td>Greenwich</td>\n      <td>0.00</td>\n      <td>0.00</td>\n    </tr>\n    <tr>\n      <th>10</th>\n      <td>Hackney</td>\n      <td>0.01</td>\n      <td>0.00</td>\n    </tr>\n    <tr>\n      <th>11</th>\n      <td>Hammersmith and Fulham</td>\n      <td>0.01</td>\n      <td>0.01</td>\n    </tr>\n    <tr>\n      <th>12</th>\n      <td>Haringey</td>\n      <td>0.00</td>\n      <td>0.01</td>\n    </tr>\n    <tr>\n      <th>13</th>\n      <td>Harrow</td>\n      <td>0.00</td>\n      <td>0.00</td>\n    </tr>\n    <tr>\n      <th>14</th>\n      <td>Havering</td>\n      <td>0.00</td>\n      <td>0.00</td>\n    </tr>\n    <tr>\n      <th>15</th>\n      <td>Hillingdon</td>\n      <td>0.00</td>\n      <td>0.01</td>\n    </tr>\n    <tr>\n      <th>16</th>\n      <td>Hounslow</td>\n      <td>0.00</td>\n      <td>0.00</td>\n    </tr>\n    <tr>\n      <th>17</th>\n      <td>Islington</td>\n      <td>0.00</td>\n      <td>0.00</td>\n    </tr>\n    <tr>\n      <th>18</th>\n      <td>Kensington and Chelsea</td>\n      <td>0.02</td>\n      <td>0.00</td>\n    </tr>\n    <tr>\n      <th>19</th>\n      <td>Kingston upon Thames</td>\n      <td>0.00</td>\n      <td>0.00</td>\n    </tr>\n    <tr>\n      <th>20</th>\n      <td>Lambeth</td>\n      <td>0.00</td>\n      <td>0.00</td>\n    </tr>\n    <tr>\n      <th>21</th>\n      <td>Lewisham</td>\n      <td>0.00</td>\n      <td>0.01</td>\n    </tr>\n    <tr>\n      <th>22</th>\n      <td>Merton</td>\n      <td>0.02</td>\n      <td>0.00</td>\n    </tr>\n    <tr>\n      <th>23</th>\n      <td>Newham</td>\n      <td>0.00</td>\n      <td>0.00</td>\n    </tr>\n    <tr>\n      <th>24</th>\n      <td>Redbridge</td>\n      <td>0.00</td>\n      <td>0.01</td>\n    </tr>\n    <tr>\n      <th>25</th>\n      <td>Richmond upon Thames</td>\n      <td>0.00</td>\n      <td>0.01</td>\n    </tr>\n    <tr>\n      <th>26</th>\n      <td>Southwark</td>\n      <td>0.00</td>\n      <td>0.00</td>\n    </tr>\n    <tr>\n      <th>27</th>\n      <td>Sutton</td>\n      <td>0.00</td>\n      <td>0.00</td>\n    </tr>\n    <tr>\n      <th>28</th>\n      <td>Tower Hamlets</td>\n      <td>0.01</td>\n      <td>0.00</td>\n    </tr>\n    <tr>\n      <th>29</th>\n      <td>Waltham Forest</td>\n      <td>0.00</td>\n      <td>0.00</td>\n    </tr>\n    <tr>\n      <th>30</th>\n      <td>Wandsworth</td>\n      <td>0.00</td>\n      <td>0.00</td>\n    </tr>\n    <tr>\n      <th>31</th>\n      <td>Westminster</td>\n      <td>0.00</td>\n      <td>0.00</td>\n    </tr>\n  </tbody>\n</table>\n</div>"
     },
     "metadata": {},
     "execution_count": 48
    }
   ],
   "source": [
    "len(london_grouped[london_grouped[\"Movie Theater\"] > 0])\n",
    "london_cinema = london_grouped[[\"Borough\",\"Movie Theater\", \"Indie Movie Theater\"]]\n",
    "london_cinema\n"
   ]
  },
  {
   "source": [
    "### Identifying best K for clustering"
   ],
   "cell_type": "markdown",
   "metadata": {}
  },
  {
   "source": [
    "london_cinema_clustering = london_cinema.drop('Borough', 1)\n",
    "\n",
    "def cluster_variance(n):\n",
    "    variances=[]\n",
    "    kmeans=[]\n",
    "    outputs=[]\n",
    "    K=[i for i in range(1,n+1)]\n",
    "    for i in range(1,n+1):\n",
    "        variance=0\n",
    "        model=KMeans(n_clusters=i,random_state=82,verbose=2).fit(london_cinema_clustering)\n",
    "        kmeans.append(model)\n",
    "        variances.append(model.inertia_)\n",
    "        \n",
    "    return variances,K,n\n",
    "\n",
    "variances,K,n=cluster_variance(10)\n",
    "plt.plot(K,variances)\n",
    "plt.ylabel(\"Inertia (Total Distance)\")\n",
    "plt.xlabel(\"K Value\")\n",
    "plt.xticks([i for i in range(1,n+1)])\n",
    "plt.show()"
   ],
   "cell_type": "code",
   "metadata": {},
   "execution_count": null,
   "outputs": []
  },
  {
   "source": [
    "### Clustering using K=3"
   ],
   "cell_type": "markdown",
   "metadata": {}
  },
  {
   "cell_type": "code",
   "execution_count": 50,
   "metadata": {},
   "outputs": [
    {
     "output_type": "execute_result",
     "data": {
      "text/plain": [
       "array([1, 2, 1, 2, 0, 2, 0, 1, 2, 1, 2, 0, 0, 1, 1, 0, 1, 1, 2, 1])"
      ]
     },
     "metadata": {},
     "execution_count": 50
    }
   ],
   "source": [
    "kclusters = 3\n",
    "cinema_clustering = london_cinema.drop([\"Borough\"], 1)\n",
    "kmeans = KMeans(n_clusters=kclusters, random_state=0).fit(cinema_clustering)\n",
    "kmeans.labels_[0:20]"
   ]
  },
  {
   "cell_type": "code",
   "execution_count": 51,
   "metadata": {},
   "outputs": [
    {
     "output_type": "execute_result",
     "data": {
      "text/plain": [
       "                   Borough  Movie Theater  Indie Movie Theater  Cluster Labels\n",
       "0     Barking and Dagenham           0.00                 0.00               1\n",
       "1                   Barnet           0.01                 0.00               2\n",
       "2                   Bexley           0.00                 0.00               1\n",
       "3                    Brent           0.02                 0.00               2\n",
       "4                  Bromley           0.00                 0.01               0\n",
       "5                   Camden           0.02                 0.01               2\n",
       "6                  Croydon           0.00                 0.01               0\n",
       "7                   Ealing           0.00                 0.00               1\n",
       "8                  Enfield           0.01                 0.00               2\n",
       "9                Greenwich           0.00                 0.00               1\n",
       "10                 Hackney           0.01                 0.00               2\n",
       "11  Hammersmith and Fulham           0.01                 0.01               0\n",
       "12                Haringey           0.00                 0.01               0\n",
       "13                  Harrow           0.00                 0.00               1\n",
       "14                Havering           0.00                 0.00               1\n",
       "15              Hillingdon           0.00                 0.01               0\n",
       "16                Hounslow           0.00                 0.00               1\n",
       "17               Islington           0.00                 0.00               1\n",
       "18  Kensington and Chelsea           0.02                 0.00               2\n",
       "19    Kingston upon Thames           0.00                 0.00               1\n",
       "20                 Lambeth           0.00                 0.00               1\n",
       "21                Lewisham           0.00                 0.01               0\n",
       "22                  Merton           0.02                 0.00               2\n",
       "23                  Newham           0.00                 0.00               1\n",
       "24               Redbridge           0.00                 0.01               0\n",
       "25    Richmond upon Thames           0.00                 0.01               0\n",
       "26               Southwark           0.00                 0.00               1\n",
       "27                  Sutton           0.00                 0.00               1\n",
       "28           Tower Hamlets           0.01                 0.00               2\n",
       "29          Waltham Forest           0.00                 0.00               1\n",
       "30              Wandsworth           0.00                 0.00               1\n",
       "31             Westminster           0.00                 0.00               1"
      ],
      "text/html": "<div>\n<style scoped>\n    .dataframe tbody tr th:only-of-type {\n        vertical-align: middle;\n    }\n\n    .dataframe tbody tr th {\n        vertical-align: top;\n    }\n\n    .dataframe thead th {\n        text-align: right;\n    }\n</style>\n<table border=\"1\" class=\"dataframe\">\n  <thead>\n    <tr style=\"text-align: right;\">\n      <th></th>\n      <th>Borough</th>\n      <th>Movie Theater</th>\n      <th>Indie Movie Theater</th>\n      <th>Cluster Labels</th>\n    </tr>\n  </thead>\n  <tbody>\n    <tr>\n      <th>0</th>\n      <td>Barking and Dagenham</td>\n      <td>0.00</td>\n      <td>0.00</td>\n      <td>1</td>\n    </tr>\n    <tr>\n      <th>1</th>\n      <td>Barnet</td>\n      <td>0.01</td>\n      <td>0.00</td>\n      <td>2</td>\n    </tr>\n    <tr>\n      <th>2</th>\n      <td>Bexley</td>\n      <td>0.00</td>\n      <td>0.00</td>\n      <td>1</td>\n    </tr>\n    <tr>\n      <th>3</th>\n      <td>Brent</td>\n      <td>0.02</td>\n      <td>0.00</td>\n      <td>2</td>\n    </tr>\n    <tr>\n      <th>4</th>\n      <td>Bromley</td>\n      <td>0.00</td>\n      <td>0.01</td>\n      <td>0</td>\n    </tr>\n    <tr>\n      <th>5</th>\n      <td>Camden</td>\n      <td>0.02</td>\n      <td>0.01</td>\n      <td>2</td>\n    </tr>\n    <tr>\n      <th>6</th>\n      <td>Croydon</td>\n      <td>0.00</td>\n      <td>0.01</td>\n      <td>0</td>\n    </tr>\n    <tr>\n      <th>7</th>\n      <td>Ealing</td>\n      <td>0.00</td>\n      <td>0.00</td>\n      <td>1</td>\n    </tr>\n    <tr>\n      <th>8</th>\n      <td>Enfield</td>\n      <td>0.01</td>\n      <td>0.00</td>\n      <td>2</td>\n    </tr>\n    <tr>\n      <th>9</th>\n      <td>Greenwich</td>\n      <td>0.00</td>\n      <td>0.00</td>\n      <td>1</td>\n    </tr>\n    <tr>\n      <th>10</th>\n      <td>Hackney</td>\n      <td>0.01</td>\n      <td>0.00</td>\n      <td>2</td>\n    </tr>\n    <tr>\n      <th>11</th>\n      <td>Hammersmith and Fulham</td>\n      <td>0.01</td>\n      <td>0.01</td>\n      <td>0</td>\n    </tr>\n    <tr>\n      <th>12</th>\n      <td>Haringey</td>\n      <td>0.00</td>\n      <td>0.01</td>\n      <td>0</td>\n    </tr>\n    <tr>\n      <th>13</th>\n      <td>Harrow</td>\n      <td>0.00</td>\n      <td>0.00</td>\n      <td>1</td>\n    </tr>\n    <tr>\n      <th>14</th>\n      <td>Havering</td>\n      <td>0.00</td>\n      <td>0.00</td>\n      <td>1</td>\n    </tr>\n    <tr>\n      <th>15</th>\n      <td>Hillingdon</td>\n      <td>0.00</td>\n      <td>0.01</td>\n      <td>0</td>\n    </tr>\n    <tr>\n      <th>16</th>\n      <td>Hounslow</td>\n      <td>0.00</td>\n      <td>0.00</td>\n      <td>1</td>\n    </tr>\n    <tr>\n      <th>17</th>\n      <td>Islington</td>\n      <td>0.00</td>\n      <td>0.00</td>\n      <td>1</td>\n    </tr>\n    <tr>\n      <th>18</th>\n      <td>Kensington and Chelsea</td>\n      <td>0.02</td>\n      <td>0.00</td>\n      <td>2</td>\n    </tr>\n    <tr>\n      <th>19</th>\n      <td>Kingston upon Thames</td>\n      <td>0.00</td>\n      <td>0.00</td>\n      <td>1</td>\n    </tr>\n    <tr>\n      <th>20</th>\n      <td>Lambeth</td>\n      <td>0.00</td>\n      <td>0.00</td>\n      <td>1</td>\n    </tr>\n    <tr>\n      <th>21</th>\n      <td>Lewisham</td>\n      <td>0.00</td>\n      <td>0.01</td>\n      <td>0</td>\n    </tr>\n    <tr>\n      <th>22</th>\n      <td>Merton</td>\n      <td>0.02</td>\n      <td>0.00</td>\n      <td>2</td>\n    </tr>\n    <tr>\n      <th>23</th>\n      <td>Newham</td>\n      <td>0.00</td>\n      <td>0.00</td>\n      <td>1</td>\n    </tr>\n    <tr>\n      <th>24</th>\n      <td>Redbridge</td>\n      <td>0.00</td>\n      <td>0.01</td>\n      <td>0</td>\n    </tr>\n    <tr>\n      <th>25</th>\n      <td>Richmond upon Thames</td>\n      <td>0.00</td>\n      <td>0.01</td>\n      <td>0</td>\n    </tr>\n    <tr>\n      <th>26</th>\n      <td>Southwark</td>\n      <td>0.00</td>\n      <td>0.00</td>\n      <td>1</td>\n    </tr>\n    <tr>\n      <th>27</th>\n      <td>Sutton</td>\n      <td>0.00</td>\n      <td>0.00</td>\n      <td>1</td>\n    </tr>\n    <tr>\n      <th>28</th>\n      <td>Tower Hamlets</td>\n      <td>0.01</td>\n      <td>0.00</td>\n      <td>2</td>\n    </tr>\n    <tr>\n      <th>29</th>\n      <td>Waltham Forest</td>\n      <td>0.00</td>\n      <td>0.00</td>\n      <td>1</td>\n    </tr>\n    <tr>\n      <th>30</th>\n      <td>Wandsworth</td>\n      <td>0.00</td>\n      <td>0.00</td>\n      <td>1</td>\n    </tr>\n    <tr>\n      <th>31</th>\n      <td>Westminster</td>\n      <td>0.00</td>\n      <td>0.00</td>\n      <td>1</td>\n    </tr>\n  </tbody>\n</table>\n</div>"
     },
     "metadata": {},
     "execution_count": 51
    }
   ],
   "source": [
    "london_merged = london_cinema.copy()\n",
    "london_merged[\"Cluster Labels\"] = kmeans.labels_\n",
    "london_merged"
   ]
  },
  {
   "cell_type": "code",
   "execution_count": 52,
   "metadata": {},
   "outputs": [
    {
     "output_type": "execute_result",
     "data": {
      "text/plain": [
       "                   Borough  Movie Theater  Indie Movie Theater  \\\n",
       "0     Barking and Dagenham           0.00                 0.00   \n",
       "1                   Barnet           0.01                 0.00   \n",
       "2                   Bexley           0.00                 0.00   \n",
       "3                    Brent           0.02                 0.00   \n",
       "4                  Bromley           0.00                 0.01   \n",
       "5                   Camden           0.02                 0.01   \n",
       "6                  Croydon           0.00                 0.01   \n",
       "7                   Ealing           0.00                 0.00   \n",
       "8                  Enfield           0.01                 0.00   \n",
       "9                Greenwich           0.00                 0.00   \n",
       "10                 Hackney           0.01                 0.00   \n",
       "11  Hammersmith and Fulham           0.01                 0.01   \n",
       "12                Haringey           0.00                 0.01   \n",
       "13                  Harrow           0.00                 0.00   \n",
       "14                Havering           0.00                 0.00   \n",
       "15              Hillingdon           0.00                 0.01   \n",
       "16                Hounslow           0.00                 0.00   \n",
       "17               Islington           0.00                 0.00   \n",
       "18  Kensington and Chelsea           0.02                 0.00   \n",
       "19    Kingston upon Thames           0.00                 0.00   \n",
       "20                 Lambeth           0.00                 0.00   \n",
       "21                Lewisham           0.00                 0.01   \n",
       "22                  Merton           0.02                 0.00   \n",
       "23                  Newham           0.00                 0.00   \n",
       "24               Redbridge           0.00                 0.01   \n",
       "25    Richmond upon Thames           0.00                 0.01   \n",
       "26               Southwark           0.00                 0.00   \n",
       "27                  Sutton           0.00                 0.00   \n",
       "28           Tower Hamlets           0.01                 0.00   \n",
       "29          Waltham Forest           0.00                 0.00   \n",
       "30              Wandsworth           0.00                 0.00   \n",
       "31             Westminster           0.00                 0.00   \n",
       "\n",
       "    Cluster Labels   Latitude  Longitude  \n",
       "0                1  51.537452   0.072040  \n",
       "1                2  51.627300  -0.253760  \n",
       "2                1  51.452078   0.069931  \n",
       "3                2  51.609783  -0.194672  \n",
       "4                0  51.601511  -0.066365  \n",
       "5                2  51.591180  -0.165040  \n",
       "6                0  51.593470  -0.083380  \n",
       "7                1  51.508383  -0.305200  \n",
       "8                2  51.540024  -0.077502  \n",
       "9                1  51.477890  -0.013340  \n",
       "10               2  51.531820  -0.061780  \n",
       "11               0  51.482600  -0.212880  \n",
       "12               0  51.589270  -0.106405  \n",
       "13               1  51.513180  -0.106980  \n",
       "14               1  51.544610  -0.144260  \n",
       "15               0  51.484230  -0.096477  \n",
       "16               1  51.471393  -0.351374  \n",
       "17               1  51.534380  -0.108940  \n",
       "18               2  51.522660  -0.207930  \n",
       "19               1  51.410881  -0.291933  \n",
       "20               1  51.494471  -0.120066  \n",
       "21               0  51.465280  -0.013210  \n",
       "22               2  51.544520  -0.166860  \n",
       "23               1  51.519937   0.055882  \n",
       "24               0  51.475773  -0.080698  \n",
       "25               0  51.480270  -0.237540  \n",
       "26               1  51.505734  -0.100002  \n",
       "27               1  51.512243  -0.053659  \n",
       "28               2  51.499990  -0.010450  \n",
       "29               1  51.581765  -0.276968  \n",
       "30               1  51.467826  -0.144992  \n",
       "31               1  51.628249   0.012986  "
      ],
      "text/html": "<div>\n<style scoped>\n    .dataframe tbody tr th:only-of-type {\n        vertical-align: middle;\n    }\n\n    .dataframe tbody tr th {\n        vertical-align: top;\n    }\n\n    .dataframe thead th {\n        text-align: right;\n    }\n</style>\n<table border=\"1\" class=\"dataframe\">\n  <thead>\n    <tr style=\"text-align: right;\">\n      <th></th>\n      <th>Borough</th>\n      <th>Movie Theater</th>\n      <th>Indie Movie Theater</th>\n      <th>Cluster Labels</th>\n      <th>Latitude</th>\n      <th>Longitude</th>\n    </tr>\n  </thead>\n  <tbody>\n    <tr>\n      <th>0</th>\n      <td>Barking and Dagenham</td>\n      <td>0.00</td>\n      <td>0.00</td>\n      <td>1</td>\n      <td>51.537452</td>\n      <td>0.072040</td>\n    </tr>\n    <tr>\n      <th>1</th>\n      <td>Barnet</td>\n      <td>0.01</td>\n      <td>0.00</td>\n      <td>2</td>\n      <td>51.627300</td>\n      <td>-0.253760</td>\n    </tr>\n    <tr>\n      <th>2</th>\n      <td>Bexley</td>\n      <td>0.00</td>\n      <td>0.00</td>\n      <td>1</td>\n      <td>51.452078</td>\n      <td>0.069931</td>\n    </tr>\n    <tr>\n      <th>3</th>\n      <td>Brent</td>\n      <td>0.02</td>\n      <td>0.00</td>\n      <td>2</td>\n      <td>51.609783</td>\n      <td>-0.194672</td>\n    </tr>\n    <tr>\n      <th>4</th>\n      <td>Bromley</td>\n      <td>0.00</td>\n      <td>0.01</td>\n      <td>0</td>\n      <td>51.601511</td>\n      <td>-0.066365</td>\n    </tr>\n    <tr>\n      <th>5</th>\n      <td>Camden</td>\n      <td>0.02</td>\n      <td>0.01</td>\n      <td>2</td>\n      <td>51.591180</td>\n      <td>-0.165040</td>\n    </tr>\n    <tr>\n      <th>6</th>\n      <td>Croydon</td>\n      <td>0.00</td>\n      <td>0.01</td>\n      <td>0</td>\n      <td>51.593470</td>\n      <td>-0.083380</td>\n    </tr>\n    <tr>\n      <th>7</th>\n      <td>Ealing</td>\n      <td>0.00</td>\n      <td>0.00</td>\n      <td>1</td>\n      <td>51.508383</td>\n      <td>-0.305200</td>\n    </tr>\n    <tr>\n      <th>8</th>\n      <td>Enfield</td>\n      <td>0.01</td>\n      <td>0.00</td>\n      <td>2</td>\n      <td>51.540024</td>\n      <td>-0.077502</td>\n    </tr>\n    <tr>\n      <th>9</th>\n      <td>Greenwich</td>\n      <td>0.00</td>\n      <td>0.00</td>\n      <td>1</td>\n      <td>51.477890</td>\n      <td>-0.013340</td>\n    </tr>\n    <tr>\n      <th>10</th>\n      <td>Hackney</td>\n      <td>0.01</td>\n      <td>0.00</td>\n      <td>2</td>\n      <td>51.531820</td>\n      <td>-0.061780</td>\n    </tr>\n    <tr>\n      <th>11</th>\n      <td>Hammersmith and Fulham</td>\n      <td>0.01</td>\n      <td>0.01</td>\n      <td>0</td>\n      <td>51.482600</td>\n      <td>-0.212880</td>\n    </tr>\n    <tr>\n      <th>12</th>\n      <td>Haringey</td>\n      <td>0.00</td>\n      <td>0.01</td>\n      <td>0</td>\n      <td>51.589270</td>\n      <td>-0.106405</td>\n    </tr>\n    <tr>\n      <th>13</th>\n      <td>Harrow</td>\n      <td>0.00</td>\n      <td>0.00</td>\n      <td>1</td>\n      <td>51.513180</td>\n      <td>-0.106980</td>\n    </tr>\n    <tr>\n      <th>14</th>\n      <td>Havering</td>\n      <td>0.00</td>\n      <td>0.00</td>\n      <td>1</td>\n      <td>51.544610</td>\n      <td>-0.144260</td>\n    </tr>\n    <tr>\n      <th>15</th>\n      <td>Hillingdon</td>\n      <td>0.00</td>\n      <td>0.01</td>\n      <td>0</td>\n      <td>51.484230</td>\n      <td>-0.096477</td>\n    </tr>\n    <tr>\n      <th>16</th>\n      <td>Hounslow</td>\n      <td>0.00</td>\n      <td>0.00</td>\n      <td>1</td>\n      <td>51.471393</td>\n      <td>-0.351374</td>\n    </tr>\n    <tr>\n      <th>17</th>\n      <td>Islington</td>\n      <td>0.00</td>\n      <td>0.00</td>\n      <td>1</td>\n      <td>51.534380</td>\n      <td>-0.108940</td>\n    </tr>\n    <tr>\n      <th>18</th>\n      <td>Kensington and Chelsea</td>\n      <td>0.02</td>\n      <td>0.00</td>\n      <td>2</td>\n      <td>51.522660</td>\n      <td>-0.207930</td>\n    </tr>\n    <tr>\n      <th>19</th>\n      <td>Kingston upon Thames</td>\n      <td>0.00</td>\n      <td>0.00</td>\n      <td>1</td>\n      <td>51.410881</td>\n      <td>-0.291933</td>\n    </tr>\n    <tr>\n      <th>20</th>\n      <td>Lambeth</td>\n      <td>0.00</td>\n      <td>0.00</td>\n      <td>1</td>\n      <td>51.494471</td>\n      <td>-0.120066</td>\n    </tr>\n    <tr>\n      <th>21</th>\n      <td>Lewisham</td>\n      <td>0.00</td>\n      <td>0.01</td>\n      <td>0</td>\n      <td>51.465280</td>\n      <td>-0.013210</td>\n    </tr>\n    <tr>\n      <th>22</th>\n      <td>Merton</td>\n      <td>0.02</td>\n      <td>0.00</td>\n      <td>2</td>\n      <td>51.544520</td>\n      <td>-0.166860</td>\n    </tr>\n    <tr>\n      <th>23</th>\n      <td>Newham</td>\n      <td>0.00</td>\n      <td>0.00</td>\n      <td>1</td>\n      <td>51.519937</td>\n      <td>0.055882</td>\n    </tr>\n    <tr>\n      <th>24</th>\n      <td>Redbridge</td>\n      <td>0.00</td>\n      <td>0.01</td>\n      <td>0</td>\n      <td>51.475773</td>\n      <td>-0.080698</td>\n    </tr>\n    <tr>\n      <th>25</th>\n      <td>Richmond upon Thames</td>\n      <td>0.00</td>\n      <td>0.01</td>\n      <td>0</td>\n      <td>51.480270</td>\n      <td>-0.237540</td>\n    </tr>\n    <tr>\n      <th>26</th>\n      <td>Southwark</td>\n      <td>0.00</td>\n      <td>0.00</td>\n      <td>1</td>\n      <td>51.505734</td>\n      <td>-0.100002</td>\n    </tr>\n    <tr>\n      <th>27</th>\n      <td>Sutton</td>\n      <td>0.00</td>\n      <td>0.00</td>\n      <td>1</td>\n      <td>51.512243</td>\n      <td>-0.053659</td>\n    </tr>\n    <tr>\n      <th>28</th>\n      <td>Tower Hamlets</td>\n      <td>0.01</td>\n      <td>0.00</td>\n      <td>2</td>\n      <td>51.499990</td>\n      <td>-0.010450</td>\n    </tr>\n    <tr>\n      <th>29</th>\n      <td>Waltham Forest</td>\n      <td>0.00</td>\n      <td>0.00</td>\n      <td>1</td>\n      <td>51.581765</td>\n      <td>-0.276968</td>\n    </tr>\n    <tr>\n      <th>30</th>\n      <td>Wandsworth</td>\n      <td>0.00</td>\n      <td>0.00</td>\n      <td>1</td>\n      <td>51.467826</td>\n      <td>-0.144992</td>\n    </tr>\n    <tr>\n      <th>31</th>\n      <td>Westminster</td>\n      <td>0.00</td>\n      <td>0.00</td>\n      <td>1</td>\n      <td>51.628249</td>\n      <td>0.012986</td>\n    </tr>\n  </tbody>\n</table>\n</div>"
     },
     "metadata": {},
     "execution_count": 52
    }
   ],
   "source": [
    "london_merged = london_merged.join(ldn_df.set_index(\"Borough\"), on=\"Borough\")\n",
    "london_merged"
   ]
  },
  {
   "source": [
    "### Mapping all clusters"
   ],
   "cell_type": "markdown",
   "metadata": {}
  },
  {
   "cell_type": "code",
   "execution_count": 53,
   "metadata": {},
   "outputs": [
    {
     "output_type": "execute_result",
     "data": {
      "text/plain": [
       "<folium.folium.Map at 0x233b24a3880>"
      ],
      "text/html": "<div style=\"width:100%;\"><div style=\"position:relative;width:100%;height:0;padding-bottom:60%;\"><span style=\"color:#565656\">Make this Notebook Trusted to load map: File -> Trust Notebook</span><iframe src=\"about:blank\" style=\"position:absolute;width:100%;height:100%;left:0;top:0;border:none !important;\" data-html=%3C%21DOCTYPE%20html%3E%0A%3Chead%3E%20%20%20%20%0A%20%20%20%20%3Cmeta%20http-equiv%3D%22content-type%22%20content%3D%22text/html%3B%20charset%3DUTF-8%22%20/%3E%0A%20%20%20%20%0A%20%20%20%20%20%20%20%20%3Cscript%3E%0A%20%20%20%20%20%20%20%20%20%20%20%20L_NO_TOUCH%20%3D%20false%3B%0A%20%20%20%20%20%20%20%20%20%20%20%20L_DISABLE_3D%20%3D%20false%3B%0A%20%20%20%20%20%20%20%20%3C/script%3E%0A%20%20%20%20%0A%20%20%20%20%3Cstyle%3Ehtml%2C%20body%20%7Bwidth%3A%20100%25%3Bheight%3A%20100%25%3Bmargin%3A%200%3Bpadding%3A%200%3B%7D%3C/style%3E%0A%20%20%20%20%3Cstyle%3E%23map%20%7Bposition%3Aabsolute%3Btop%3A0%3Bbottom%3A0%3Bright%3A0%3Bleft%3A0%3B%7D%3C/style%3E%0A%20%20%20%20%3Cscript%20src%3D%22https%3A//cdn.jsdelivr.net/npm/leaflet%401.6.0/dist/leaflet.js%22%3E%3C/script%3E%0A%20%20%20%20%3Cscript%20src%3D%22https%3A//code.jquery.com/jquery-1.12.4.min.js%22%3E%3C/script%3E%0A%20%20%20%20%3Cscript%20src%3D%22https%3A//maxcdn.bootstrapcdn.com/bootstrap/3.2.0/js/bootstrap.min.js%22%3E%3C/script%3E%0A%20%20%20%20%3Cscript%20src%3D%22https%3A//cdnjs.cloudflare.com/ajax/libs/Leaflet.awesome-markers/2.0.2/leaflet.awesome-markers.js%22%3E%3C/script%3E%0A%20%20%20%20%3Clink%20rel%3D%22stylesheet%22%20href%3D%22https%3A//cdn.jsdelivr.net/npm/leaflet%401.6.0/dist/leaflet.css%22/%3E%0A%20%20%20%20%3Clink%20rel%3D%22stylesheet%22%20href%3D%22https%3A//maxcdn.bootstrapcdn.com/bootstrap/3.2.0/css/bootstrap.min.css%22/%3E%0A%20%20%20%20%3Clink%20rel%3D%22stylesheet%22%20href%3D%22https%3A//maxcdn.bootstrapcdn.com/bootstrap/3.2.0/css/bootstrap-theme.min.css%22/%3E%0A%20%20%20%20%3Clink%20rel%3D%22stylesheet%22%20href%3D%22https%3A//maxcdn.bootstrapcdn.com/font-awesome/4.6.3/css/font-awesome.min.css%22/%3E%0A%20%20%20%20%3Clink%20rel%3D%22stylesheet%22%20href%3D%22https%3A//cdnjs.cloudflare.com/ajax/libs/Leaflet.awesome-markers/2.0.2/leaflet.awesome-markers.css%22/%3E%0A%20%20%20%20%3Clink%20rel%3D%22stylesheet%22%20href%3D%22https%3A//cdn.jsdelivr.net/gh/python-visualization/folium/folium/templates/leaflet.awesome.rotate.min.css%22/%3E%0A%20%20%20%20%0A%20%20%20%20%20%20%20%20%20%20%20%20%3Cmeta%20name%3D%22viewport%22%20content%3D%22width%3Ddevice-width%2C%0A%20%20%20%20%20%20%20%20%20%20%20%20%20%20%20%20initial-scale%3D1.0%2C%20maximum-scale%3D1.0%2C%20user-scalable%3Dno%22%20/%3E%0A%20%20%20%20%20%20%20%20%20%20%20%20%3Cstyle%3E%0A%20%20%20%20%20%20%20%20%20%20%20%20%20%20%20%20%23map_a809df80168c4486a0b46e61748e9b80%20%7B%0A%20%20%20%20%20%20%20%20%20%20%20%20%20%20%20%20%20%20%20%20position%3A%20relative%3B%0A%20%20%20%20%20%20%20%20%20%20%20%20%20%20%20%20%20%20%20%20width%3A%20100.0%25%3B%0A%20%20%20%20%20%20%20%20%20%20%20%20%20%20%20%20%20%20%20%20height%3A%20100.0%25%3B%0A%20%20%20%20%20%20%20%20%20%20%20%20%20%20%20%20%20%20%20%20left%3A%200.0%25%3B%0A%20%20%20%20%20%20%20%20%20%20%20%20%20%20%20%20%20%20%20%20top%3A%200.0%25%3B%0A%20%20%20%20%20%20%20%20%20%20%20%20%20%20%20%20%7D%0A%20%20%20%20%20%20%20%20%20%20%20%20%3C/style%3E%0A%20%20%20%20%20%20%20%20%0A%3C/head%3E%0A%3Cbody%3E%20%20%20%20%0A%20%20%20%20%0A%20%20%20%20%20%20%20%20%20%20%20%20%3Cdiv%20class%3D%22folium-map%22%20id%3D%22map_a809df80168c4486a0b46e61748e9b80%22%20%3E%3C/div%3E%0A%20%20%20%20%20%20%20%20%0A%3C/body%3E%0A%3Cscript%3E%20%20%20%20%0A%20%20%20%20%0A%20%20%20%20%20%20%20%20%20%20%20%20var%20map_a809df80168c4486a0b46e61748e9b80%20%3D%20L.map%28%0A%20%20%20%20%20%20%20%20%20%20%20%20%20%20%20%20%22map_a809df80168c4486a0b46e61748e9b80%22%2C%0A%20%20%20%20%20%20%20%20%20%20%20%20%20%20%20%20%7B%0A%20%20%20%20%20%20%20%20%20%20%20%20%20%20%20%20%20%20%20%20center%3A%20%5B51.5073219%2C%20-0.1276474%5D%2C%0A%20%20%20%20%20%20%20%20%20%20%20%20%20%20%20%20%20%20%20%20crs%3A%20L.CRS.EPSG3857%2C%0A%20%20%20%20%20%20%20%20%20%20%20%20%20%20%20%20%20%20%20%20zoom%3A%2011%2C%0A%20%20%20%20%20%20%20%20%20%20%20%20%20%20%20%20%20%20%20%20zoomControl%3A%20true%2C%0A%20%20%20%20%20%20%20%20%20%20%20%20%20%20%20%20%20%20%20%20preferCanvas%3A%20false%2C%0A%20%20%20%20%20%20%20%20%20%20%20%20%20%20%20%20%7D%0A%20%20%20%20%20%20%20%20%20%20%20%20%29%3B%0A%0A%20%20%20%20%20%20%20%20%20%20%20%20%0A%0A%20%20%20%20%20%20%20%20%0A%20%20%20%20%0A%20%20%20%20%20%20%20%20%20%20%20%20var%20tile_layer_3744501e264844d49c84e2f1395ecb6b%20%3D%20L.tileLayer%28%0A%20%20%20%20%20%20%20%20%20%20%20%20%20%20%20%20%22https%3A//%7Bs%7D.tile.openstreetmap.org/%7Bz%7D/%7Bx%7D/%7By%7D.png%22%2C%0A%20%20%20%20%20%20%20%20%20%20%20%20%20%20%20%20%7B%22attribution%22%3A%20%22Data%20by%20%5Cu0026copy%3B%20%5Cu003ca%20href%3D%5C%22http%3A//openstreetmap.org%5C%22%5Cu003eOpenStreetMap%5Cu003c/a%5Cu003e%2C%20under%20%5Cu003ca%20href%3D%5C%22http%3A//www.openstreetmap.org/copyright%5C%22%5Cu003eODbL%5Cu003c/a%5Cu003e.%22%2C%20%22detectRetina%22%3A%20false%2C%20%22maxNativeZoom%22%3A%2018%2C%20%22maxZoom%22%3A%2018%2C%20%22minZoom%22%3A%200%2C%20%22noWrap%22%3A%20false%2C%20%22opacity%22%3A%201%2C%20%22subdomains%22%3A%20%22abc%22%2C%20%22tms%22%3A%20false%7D%0A%20%20%20%20%20%20%20%20%20%20%20%20%29.addTo%28map_a809df80168c4486a0b46e61748e9b80%29%3B%0A%20%20%20%20%20%20%20%20%0A%20%20%20%20%0A%20%20%20%20%20%20%20%20%20%20%20%20var%20circle_marker_1335d2d8acd043e6869d61b4acbff318%20%3D%20L.circleMarker%28%0A%20%20%20%20%20%20%20%20%20%20%20%20%20%20%20%20%5B51.53745198290119%2C%200.07204041241582201%5D%2C%0A%20%20%20%20%20%20%20%20%20%20%20%20%20%20%20%20%7B%22bubblingMouseEvents%22%3A%20true%2C%20%22color%22%3A%20%22%238000ff%22%2C%20%22dashArray%22%3A%20null%2C%20%22dashOffset%22%3A%20null%2C%20%22fill%22%3A%20true%2C%20%22fillColor%22%3A%20%22%238000ff%22%2C%20%22fillOpacity%22%3A%200.7%2C%20%22fillRule%22%3A%20%22evenodd%22%2C%20%22lineCap%22%3A%20%22round%22%2C%20%22lineJoin%22%3A%20%22round%22%2C%20%22opacity%22%3A%201.0%2C%20%22radius%22%3A%205%2C%20%22stroke%22%3A%20true%2C%20%22weight%22%3A%203%7D%0A%20%20%20%20%20%20%20%20%20%20%20%20%29.addTo%28map_a809df80168c4486a0b46e61748e9b80%29%3B%0A%20%20%20%20%20%20%20%20%0A%20%20%20%20%0A%20%20%20%20%20%20%20%20var%20popup_980bf27f2d9047eaa25d9bb071e361d7%20%3D%20L.popup%28%7B%22maxWidth%22%3A%20%22100%25%22%7D%29%3B%0A%0A%20%20%20%20%20%20%20%20%0A%20%20%20%20%20%20%20%20%20%20%20%20var%20html_19736dc4b46e4a60a42430c2a52f617e%20%3D%20%24%28%60%3Cdiv%20id%3D%22html_19736dc4b46e4a60a42430c2a52f617e%22%20style%3D%22width%3A%20100.0%25%3B%20height%3A%20100.0%25%3B%22%3EBarking%20and%20Dagenham%20Cluster%201%3C/div%3E%60%29%5B0%5D%3B%0A%20%20%20%20%20%20%20%20%20%20%20%20popup_980bf27f2d9047eaa25d9bb071e361d7.setContent%28html_19736dc4b46e4a60a42430c2a52f617e%29%3B%0A%20%20%20%20%20%20%20%20%0A%0A%20%20%20%20%20%20%20%20circle_marker_1335d2d8acd043e6869d61b4acbff318.bindPopup%28popup_980bf27f2d9047eaa25d9bb071e361d7%29%0A%20%20%20%20%20%20%20%20%3B%0A%0A%20%20%20%20%20%20%20%20%0A%20%20%20%20%0A%20%20%20%20%0A%20%20%20%20%20%20%20%20%20%20%20%20var%20circle_marker_44a8ae03ca9a43c2859d3090c513b996%20%3D%20L.circleMarker%28%0A%20%20%20%20%20%20%20%20%20%20%20%20%20%20%20%20%5B51.62730004248549%2C%20-0.2537598974321753%5D%2C%0A%20%20%20%20%20%20%20%20%20%20%20%20%20%20%20%20%7B%22bubblingMouseEvents%22%3A%20true%2C%20%22color%22%3A%20%22%2380ffb4%22%2C%20%22dashArray%22%3A%20null%2C%20%22dashOffset%22%3A%20null%2C%20%22fill%22%3A%20true%2C%20%22fillColor%22%3A%20%22%2380ffb4%22%2C%20%22fillOpacity%22%3A%200.7%2C%20%22fillRule%22%3A%20%22evenodd%22%2C%20%22lineCap%22%3A%20%22round%22%2C%20%22lineJoin%22%3A%20%22round%22%2C%20%22opacity%22%3A%201.0%2C%20%22radius%22%3A%205%2C%20%22stroke%22%3A%20true%2C%20%22weight%22%3A%203%7D%0A%20%20%20%20%20%20%20%20%20%20%20%20%29.addTo%28map_a809df80168c4486a0b46e61748e9b80%29%3B%0A%20%20%20%20%20%20%20%20%0A%20%20%20%20%0A%20%20%20%20%20%20%20%20var%20popup_1840791ba4844bd69cc9f96cca6651ef%20%3D%20L.popup%28%7B%22maxWidth%22%3A%20%22100%25%22%7D%29%3B%0A%0A%20%20%20%20%20%20%20%20%0A%20%20%20%20%20%20%20%20%20%20%20%20var%20html_afb3f4323abc40cd81792ae969827c8f%20%3D%20%24%28%60%3Cdiv%20id%3D%22html_afb3f4323abc40cd81792ae969827c8f%22%20style%3D%22width%3A%20100.0%25%3B%20height%3A%20100.0%25%3B%22%3EBarnet%20Cluster%202%3C/div%3E%60%29%5B0%5D%3B%0A%20%20%20%20%20%20%20%20%20%20%20%20popup_1840791ba4844bd69cc9f96cca6651ef.setContent%28html_afb3f4323abc40cd81792ae969827c8f%29%3B%0A%20%20%20%20%20%20%20%20%0A%0A%20%20%20%20%20%20%20%20circle_marker_44a8ae03ca9a43c2859d3090c513b996.bindPopup%28popup_1840791ba4844bd69cc9f96cca6651ef%29%0A%20%20%20%20%20%20%20%20%3B%0A%0A%20%20%20%20%20%20%20%20%0A%20%20%20%20%0A%20%20%20%20%0A%20%20%20%20%20%20%20%20%20%20%20%20var%20circle_marker_edef44b426a74fc7acc680b6a3248bcd%20%3D%20L.circleMarker%28%0A%20%20%20%20%20%20%20%20%20%20%20%20%20%20%20%20%5B51.45207771535661%2C%200.0699310359401914%5D%2C%0A%20%20%20%20%20%20%20%20%20%20%20%20%20%20%20%20%7B%22bubblingMouseEvents%22%3A%20true%2C%20%22color%22%3A%20%22%238000ff%22%2C%20%22dashArray%22%3A%20null%2C%20%22dashOffset%22%3A%20null%2C%20%22fill%22%3A%20true%2C%20%22fillColor%22%3A%20%22%238000ff%22%2C%20%22fillOpacity%22%3A%200.7%2C%20%22fillRule%22%3A%20%22evenodd%22%2C%20%22lineCap%22%3A%20%22round%22%2C%20%22lineJoin%22%3A%20%22round%22%2C%20%22opacity%22%3A%201.0%2C%20%22radius%22%3A%205%2C%20%22stroke%22%3A%20true%2C%20%22weight%22%3A%203%7D%0A%20%20%20%20%20%20%20%20%20%20%20%20%29.addTo%28map_a809df80168c4486a0b46e61748e9b80%29%3B%0A%20%20%20%20%20%20%20%20%0A%20%20%20%20%0A%20%20%20%20%20%20%20%20var%20popup_0e74c752129f4758b6859fa160a282fd%20%3D%20L.popup%28%7B%22maxWidth%22%3A%20%22100%25%22%7D%29%3B%0A%0A%20%20%20%20%20%20%20%20%0A%20%20%20%20%20%20%20%20%20%20%20%20var%20html_977a19a56e2e484ebc47d33f9a63eaf6%20%3D%20%24%28%60%3Cdiv%20id%3D%22html_977a19a56e2e484ebc47d33f9a63eaf6%22%20style%3D%22width%3A%20100.0%25%3B%20height%3A%20100.0%25%3B%22%3EBexley%20Cluster%201%3C/div%3E%60%29%5B0%5D%3B%0A%20%20%20%20%20%20%20%20%20%20%20%20popup_0e74c752129f4758b6859fa160a282fd.setContent%28html_977a19a56e2e484ebc47d33f9a63eaf6%29%3B%0A%20%20%20%20%20%20%20%20%0A%0A%20%20%20%20%20%20%20%20circle_marker_edef44b426a74fc7acc680b6a3248bcd.bindPopup%28popup_0e74c752129f4758b6859fa160a282fd%29%0A%20%20%20%20%20%20%20%20%3B%0A%0A%20%20%20%20%20%20%20%20%0A%20%20%20%20%0A%20%20%20%20%0A%20%20%20%20%20%20%20%20%20%20%20%20var%20circle_marker_a15dbfa99f004f858d78801055743f3c%20%3D%20L.circleMarker%28%0A%20%20%20%20%20%20%20%20%20%20%20%20%20%20%20%20%5B51.60978311508248%2C%20-0.19467200801902934%5D%2C%0A%20%20%20%20%20%20%20%20%20%20%20%20%20%20%20%20%7B%22bubblingMouseEvents%22%3A%20true%2C%20%22color%22%3A%20%22%2380ffb4%22%2C%20%22dashArray%22%3A%20null%2C%20%22dashOffset%22%3A%20null%2C%20%22fill%22%3A%20true%2C%20%22fillColor%22%3A%20%22%2380ffb4%22%2C%20%22fillOpacity%22%3A%200.7%2C%20%22fillRule%22%3A%20%22evenodd%22%2C%20%22lineCap%22%3A%20%22round%22%2C%20%22lineJoin%22%3A%20%22round%22%2C%20%22opacity%22%3A%201.0%2C%20%22radius%22%3A%205%2C%20%22stroke%22%3A%20true%2C%20%22weight%22%3A%203%7D%0A%20%20%20%20%20%20%20%20%20%20%20%20%29.addTo%28map_a809df80168c4486a0b46e61748e9b80%29%3B%0A%20%20%20%20%20%20%20%20%0A%20%20%20%20%0A%20%20%20%20%20%20%20%20var%20popup_2bf35f55ef894c26a912448cc872d2c4%20%3D%20L.popup%28%7B%22maxWidth%22%3A%20%22100%25%22%7D%29%3B%0A%0A%20%20%20%20%20%20%20%20%0A%20%20%20%20%20%20%20%20%20%20%20%20var%20html_7db3f1766c8744c9a3f8bfa13f8e9e07%20%3D%20%24%28%60%3Cdiv%20id%3D%22html_7db3f1766c8744c9a3f8bfa13f8e9e07%22%20style%3D%22width%3A%20100.0%25%3B%20height%3A%20100.0%25%3B%22%3EBrent%20Cluster%202%3C/div%3E%60%29%5B0%5D%3B%0A%20%20%20%20%20%20%20%20%20%20%20%20popup_2bf35f55ef894c26a912448cc872d2c4.setContent%28html_7db3f1766c8744c9a3f8bfa13f8e9e07%29%3B%0A%20%20%20%20%20%20%20%20%0A%0A%20%20%20%20%20%20%20%20circle_marker_a15dbfa99f004f858d78801055743f3c.bindPopup%28popup_2bf35f55ef894c26a912448cc872d2c4%29%0A%20%20%20%20%20%20%20%20%3B%0A%0A%20%20%20%20%20%20%20%20%0A%20%20%20%20%0A%20%20%20%20%0A%20%20%20%20%20%20%20%20%20%20%20%20var%20circle_marker_ccebe62ad0a74c5dae42684a08b6d0b6%20%3D%20L.circleMarker%28%0A%20%20%20%20%20%20%20%20%20%20%20%20%20%20%20%20%5B51.601510574550396%2C%20-0.0663650798170126%5D%2C%0A%20%20%20%20%20%20%20%20%20%20%20%20%20%20%20%20%7B%22bubblingMouseEvents%22%3A%20true%2C%20%22color%22%3A%20%22%23ff0000%22%2C%20%22dashArray%22%3A%20null%2C%20%22dashOffset%22%3A%20null%2C%20%22fill%22%3A%20true%2C%20%22fillColor%22%3A%20%22%23ff0000%22%2C%20%22fillOpacity%22%3A%200.7%2C%20%22fillRule%22%3A%20%22evenodd%22%2C%20%22lineCap%22%3A%20%22round%22%2C%20%22lineJoin%22%3A%20%22round%22%2C%20%22opacity%22%3A%201.0%2C%20%22radius%22%3A%205%2C%20%22stroke%22%3A%20true%2C%20%22weight%22%3A%203%7D%0A%20%20%20%20%20%20%20%20%20%20%20%20%29.addTo%28map_a809df80168c4486a0b46e61748e9b80%29%3B%0A%20%20%20%20%20%20%20%20%0A%20%20%20%20%0A%20%20%20%20%20%20%20%20var%20popup_42db3e10877b4caf8c7e90f05f8d3c20%20%3D%20L.popup%28%7B%22maxWidth%22%3A%20%22100%25%22%7D%29%3B%0A%0A%20%20%20%20%20%20%20%20%0A%20%20%20%20%20%20%20%20%20%20%20%20var%20html_4dcd9638702844eeae520e408603629b%20%3D%20%24%28%60%3Cdiv%20id%3D%22html_4dcd9638702844eeae520e408603629b%22%20style%3D%22width%3A%20100.0%25%3B%20height%3A%20100.0%25%3B%22%3EBromley%20Cluster%200%3C/div%3E%60%29%5B0%5D%3B%0A%20%20%20%20%20%20%20%20%20%20%20%20popup_42db3e10877b4caf8c7e90f05f8d3c20.setContent%28html_4dcd9638702844eeae520e408603629b%29%3B%0A%20%20%20%20%20%20%20%20%0A%0A%20%20%20%20%20%20%20%20circle_marker_ccebe62ad0a74c5dae42684a08b6d0b6.bindPopup%28popup_42db3e10877b4caf8c7e90f05f8d3c20%29%0A%20%20%20%20%20%20%20%20%3B%0A%0A%20%20%20%20%20%20%20%20%0A%20%20%20%20%0A%20%20%20%20%0A%20%20%20%20%20%20%20%20%20%20%20%20var%20circle_marker_232afb61b04a4ec6ab88ab89c31df7a0%20%3D%20L.circleMarker%28%0A%20%20%20%20%20%20%20%20%20%20%20%20%20%20%20%20%5B51.59118003286011%2C%20-0.1650399249815564%5D%2C%0A%20%20%20%20%20%20%20%20%20%20%20%20%20%20%20%20%7B%22bubblingMouseEvents%22%3A%20true%2C%20%22color%22%3A%20%22%2380ffb4%22%2C%20%22dashArray%22%3A%20null%2C%20%22dashOffset%22%3A%20null%2C%20%22fill%22%3A%20true%2C%20%22fillColor%22%3A%20%22%2380ffb4%22%2C%20%22fillOpacity%22%3A%200.7%2C%20%22fillRule%22%3A%20%22evenodd%22%2C%20%22lineCap%22%3A%20%22round%22%2C%20%22lineJoin%22%3A%20%22round%22%2C%20%22opacity%22%3A%201.0%2C%20%22radius%22%3A%205%2C%20%22stroke%22%3A%20true%2C%20%22weight%22%3A%203%7D%0A%20%20%20%20%20%20%20%20%20%20%20%20%29.addTo%28map_a809df80168c4486a0b46e61748e9b80%29%3B%0A%20%20%20%20%20%20%20%20%0A%20%20%20%20%0A%20%20%20%20%20%20%20%20var%20popup_df2474fa631a47d8b268dd5df8b77a3f%20%3D%20L.popup%28%7B%22maxWidth%22%3A%20%22100%25%22%7D%29%3B%0A%0A%20%20%20%20%20%20%20%20%0A%20%20%20%20%20%20%20%20%20%20%20%20var%20html_9a45527f046f403786f800cc9bec2ebf%20%3D%20%24%28%60%3Cdiv%20id%3D%22html_9a45527f046f403786f800cc9bec2ebf%22%20style%3D%22width%3A%20100.0%25%3B%20height%3A%20100.0%25%3B%22%3ECamden%20Cluster%202%3C/div%3E%60%29%5B0%5D%3B%0A%20%20%20%20%20%20%20%20%20%20%20%20popup_df2474fa631a47d8b268dd5df8b77a3f.setContent%28html_9a45527f046f403786f800cc9bec2ebf%29%3B%0A%20%20%20%20%20%20%20%20%0A%0A%20%20%20%20%20%20%20%20circle_marker_232afb61b04a4ec6ab88ab89c31df7a0.bindPopup%28popup_df2474fa631a47d8b268dd5df8b77a3f%29%0A%20%20%20%20%20%20%20%20%3B%0A%0A%20%20%20%20%20%20%20%20%0A%20%20%20%20%0A%20%20%20%20%0A%20%20%20%20%20%20%20%20%20%20%20%20var%20circle_marker_56ccd42149dc43f590491d7aa86c0b89%20%3D%20L.circleMarker%28%0A%20%20%20%20%20%20%20%20%20%20%20%20%20%20%20%20%5B51.59347001071714%2C%20-0.08337998766609189%5D%2C%0A%20%20%20%20%20%20%20%20%20%20%20%20%20%20%20%20%7B%22bubblingMouseEvents%22%3A%20true%2C%20%22color%22%3A%20%22%23ff0000%22%2C%20%22dashArray%22%3A%20null%2C%20%22dashOffset%22%3A%20null%2C%20%22fill%22%3A%20true%2C%20%22fillColor%22%3A%20%22%23ff0000%22%2C%20%22fillOpacity%22%3A%200.7%2C%20%22fillRule%22%3A%20%22evenodd%22%2C%20%22lineCap%22%3A%20%22round%22%2C%20%22lineJoin%22%3A%20%22round%22%2C%20%22opacity%22%3A%201.0%2C%20%22radius%22%3A%205%2C%20%22stroke%22%3A%20true%2C%20%22weight%22%3A%203%7D%0A%20%20%20%20%20%20%20%20%20%20%20%20%29.addTo%28map_a809df80168c4486a0b46e61748e9b80%29%3B%0A%20%20%20%20%20%20%20%20%0A%20%20%20%20%0A%20%20%20%20%20%20%20%20var%20popup_7575ff46398b4f1a9ae450dd26abd24e%20%3D%20L.popup%28%7B%22maxWidth%22%3A%20%22100%25%22%7D%29%3B%0A%0A%20%20%20%20%20%20%20%20%0A%20%20%20%20%20%20%20%20%20%20%20%20var%20html_1b659ce600c0450fb3726a928642bc0f%20%3D%20%24%28%60%3Cdiv%20id%3D%22html_1b659ce600c0450fb3726a928642bc0f%22%20style%3D%22width%3A%20100.0%25%3B%20height%3A%20100.0%25%3B%22%3ECroydon%20Cluster%200%3C/div%3E%60%29%5B0%5D%3B%0A%20%20%20%20%20%20%20%20%20%20%20%20popup_7575ff46398b4f1a9ae450dd26abd24e.setContent%28html_1b659ce600c0450fb3726a928642bc0f%29%3B%0A%20%20%20%20%20%20%20%20%0A%0A%20%20%20%20%20%20%20%20circle_marker_56ccd42149dc43f590491d7aa86c0b89.bindPopup%28popup_7575ff46398b4f1a9ae450dd26abd24e%29%0A%20%20%20%20%20%20%20%20%3B%0A%0A%20%20%20%20%20%20%20%20%0A%20%20%20%20%0A%20%20%20%20%0A%20%20%20%20%20%20%20%20%20%20%20%20var%20circle_marker_4f631c8fd429427cade592575df94b0a%20%3D%20L.circleMarker%28%0A%20%20%20%20%20%20%20%20%20%20%20%20%20%20%20%20%5B51.50838262535136%2C%20-0.3051999305864683%5D%2C%0A%20%20%20%20%20%20%20%20%20%20%20%20%20%20%20%20%7B%22bubblingMouseEvents%22%3A%20true%2C%20%22color%22%3A%20%22%238000ff%22%2C%20%22dashArray%22%3A%20null%2C%20%22dashOffset%22%3A%20null%2C%20%22fill%22%3A%20true%2C%20%22fillColor%22%3A%20%22%238000ff%22%2C%20%22fillOpacity%22%3A%200.7%2C%20%22fillRule%22%3A%20%22evenodd%22%2C%20%22lineCap%22%3A%20%22round%22%2C%20%22lineJoin%22%3A%20%22round%22%2C%20%22opacity%22%3A%201.0%2C%20%22radius%22%3A%205%2C%20%22stroke%22%3A%20true%2C%20%22weight%22%3A%203%7D%0A%20%20%20%20%20%20%20%20%20%20%20%20%29.addTo%28map_a809df80168c4486a0b46e61748e9b80%29%3B%0A%20%20%20%20%20%20%20%20%0A%20%20%20%20%0A%20%20%20%20%20%20%20%20var%20popup_891c4836cf2b4f99a64afb71d13bdccd%20%3D%20L.popup%28%7B%22maxWidth%22%3A%20%22100%25%22%7D%29%3B%0A%0A%20%20%20%20%20%20%20%20%0A%20%20%20%20%20%20%20%20%20%20%20%20var%20html_43a6594957794e058cb16ca1ea3abaa0%20%3D%20%24%28%60%3Cdiv%20id%3D%22html_43a6594957794e058cb16ca1ea3abaa0%22%20style%3D%22width%3A%20100.0%25%3B%20height%3A%20100.0%25%3B%22%3EEaling%20Cluster%201%3C/div%3E%60%29%5B0%5D%3B%0A%20%20%20%20%20%20%20%20%20%20%20%20popup_891c4836cf2b4f99a64afb71d13bdccd.setContent%28html_43a6594957794e058cb16ca1ea3abaa0%29%3B%0A%20%20%20%20%20%20%20%20%0A%0A%20%20%20%20%20%20%20%20circle_marker_4f631c8fd429427cade592575df94b0a.bindPopup%28popup_891c4836cf2b4f99a64afb71d13bdccd%29%0A%20%20%20%20%20%20%20%20%3B%0A%0A%20%20%20%20%20%20%20%20%0A%20%20%20%20%0A%20%20%20%20%0A%20%20%20%20%20%20%20%20%20%20%20%20var%20circle_marker_e3f6ae3d86654f9cbbc7816df0166b60%20%3D%20L.circleMarker%28%0A%20%20%20%20%20%20%20%20%20%20%20%20%20%20%20%20%5B51.54002362151675%2C%20-0.07750215374723571%5D%2C%0A%20%20%20%20%20%20%20%20%20%20%20%20%20%20%20%20%7B%22bubblingMouseEvents%22%3A%20true%2C%20%22color%22%3A%20%22%2380ffb4%22%2C%20%22dashArray%22%3A%20null%2C%20%22dashOffset%22%3A%20null%2C%20%22fill%22%3A%20true%2C%20%22fillColor%22%3A%20%22%2380ffb4%22%2C%20%22fillOpacity%22%3A%200.7%2C%20%22fillRule%22%3A%20%22evenodd%22%2C%20%22lineCap%22%3A%20%22round%22%2C%20%22lineJoin%22%3A%20%22round%22%2C%20%22opacity%22%3A%201.0%2C%20%22radius%22%3A%205%2C%20%22stroke%22%3A%20true%2C%20%22weight%22%3A%203%7D%0A%20%20%20%20%20%20%20%20%20%20%20%20%29.addTo%28map_a809df80168c4486a0b46e61748e9b80%29%3B%0A%20%20%20%20%20%20%20%20%0A%20%20%20%20%0A%20%20%20%20%20%20%20%20var%20popup_a263d89555fe493a8bc2ac25c2ccbe36%20%3D%20L.popup%28%7B%22maxWidth%22%3A%20%22100%25%22%7D%29%3B%0A%0A%20%20%20%20%20%20%20%20%0A%20%20%20%20%20%20%20%20%20%20%20%20var%20html_689e5373d1204c7596d270d23eef3536%20%3D%20%24%28%60%3Cdiv%20id%3D%22html_689e5373d1204c7596d270d23eef3536%22%20style%3D%22width%3A%20100.0%25%3B%20height%3A%20100.0%25%3B%22%3EEnfield%20Cluster%202%3C/div%3E%60%29%5B0%5D%3B%0A%20%20%20%20%20%20%20%20%20%20%20%20popup_a263d89555fe493a8bc2ac25c2ccbe36.setContent%28html_689e5373d1204c7596d270d23eef3536%29%3B%0A%20%20%20%20%20%20%20%20%0A%0A%20%20%20%20%20%20%20%20circle_marker_e3f6ae3d86654f9cbbc7816df0166b60.bindPopup%28popup_a263d89555fe493a8bc2ac25c2ccbe36%29%0A%20%20%20%20%20%20%20%20%3B%0A%0A%20%20%20%20%20%20%20%20%0A%20%20%20%20%0A%20%20%20%20%0A%20%20%20%20%20%20%20%20%20%20%20%20var%20circle_marker_bf9431b6645d457db23fa5e627e07da5%20%3D%20L.circleMarker%28%0A%20%20%20%20%20%20%20%20%20%20%20%20%20%20%20%20%5B51.47789000000006%2C%20-0.013339999999971042%5D%2C%0A%20%20%20%20%20%20%20%20%20%20%20%20%20%20%20%20%7B%22bubblingMouseEvents%22%3A%20true%2C%20%22color%22%3A%20%22%238000ff%22%2C%20%22dashArray%22%3A%20null%2C%20%22dashOffset%22%3A%20null%2C%20%22fill%22%3A%20true%2C%20%22fillColor%22%3A%20%22%238000ff%22%2C%20%22fillOpacity%22%3A%200.7%2C%20%22fillRule%22%3A%20%22evenodd%22%2C%20%22lineCap%22%3A%20%22round%22%2C%20%22lineJoin%22%3A%20%22round%22%2C%20%22opacity%22%3A%201.0%2C%20%22radius%22%3A%205%2C%20%22stroke%22%3A%20true%2C%20%22weight%22%3A%203%7D%0A%20%20%20%20%20%20%20%20%20%20%20%20%29.addTo%28map_a809df80168c4486a0b46e61748e9b80%29%3B%0A%20%20%20%20%20%20%20%20%0A%20%20%20%20%0A%20%20%20%20%20%20%20%20var%20popup_26f2dc27c2ad49e1a9c4c0ad57e7c8c6%20%3D%20L.popup%28%7B%22maxWidth%22%3A%20%22100%25%22%7D%29%3B%0A%0A%20%20%20%20%20%20%20%20%0A%20%20%20%20%20%20%20%20%20%20%20%20var%20html_a3a4acf5925445358636fed89319d211%20%3D%20%24%28%60%3Cdiv%20id%3D%22html_a3a4acf5925445358636fed89319d211%22%20style%3D%22width%3A%20100.0%25%3B%20height%3A%20100.0%25%3B%22%3EGreenwich%20Cluster%201%3C/div%3E%60%29%5B0%5D%3B%0A%20%20%20%20%20%20%20%20%20%20%20%20popup_26f2dc27c2ad49e1a9c4c0ad57e7c8c6.setContent%28html_a3a4acf5925445358636fed89319d211%29%3B%0A%20%20%20%20%20%20%20%20%0A%0A%20%20%20%20%20%20%20%20circle_marker_bf9431b6645d457db23fa5e627e07da5.bindPopup%28popup_26f2dc27c2ad49e1a9c4c0ad57e7c8c6%29%0A%20%20%20%20%20%20%20%20%3B%0A%0A%20%20%20%20%20%20%20%20%0A%20%20%20%20%0A%20%20%20%20%0A%20%20%20%20%20%20%20%20%20%20%20%20var%20circle_marker_965c9cc8e9d942309cd3e412ffbc03f0%20%3D%20L.circleMarker%28%0A%20%20%20%20%20%20%20%20%20%20%20%20%20%20%20%20%5B51.5318204220698%2C%20-0.061780069180780356%5D%2C%0A%20%20%20%20%20%20%20%20%20%20%20%20%20%20%20%20%7B%22bubblingMouseEvents%22%3A%20true%2C%20%22color%22%3A%20%22%2380ffb4%22%2C%20%22dashArray%22%3A%20null%2C%20%22dashOffset%22%3A%20null%2C%20%22fill%22%3A%20true%2C%20%22fillColor%22%3A%20%22%2380ffb4%22%2C%20%22fillOpacity%22%3A%200.7%2C%20%22fillRule%22%3A%20%22evenodd%22%2C%20%22lineCap%22%3A%20%22round%22%2C%20%22lineJoin%22%3A%20%22round%22%2C%20%22opacity%22%3A%201.0%2C%20%22radius%22%3A%205%2C%20%22stroke%22%3A%20true%2C%20%22weight%22%3A%203%7D%0A%20%20%20%20%20%20%20%20%20%20%20%20%29.addTo%28map_a809df80168c4486a0b46e61748e9b80%29%3B%0A%20%20%20%20%20%20%20%20%0A%20%20%20%20%0A%20%20%20%20%20%20%20%20var%20popup_f3b43b597e6f4fa58e119b38e64de1c2%20%3D%20L.popup%28%7B%22maxWidth%22%3A%20%22100%25%22%7D%29%3B%0A%0A%20%20%20%20%20%20%20%20%0A%20%20%20%20%20%20%20%20%20%20%20%20var%20html_85f1fae2e29d44fcafc7d708de650cbc%20%3D%20%24%28%60%3Cdiv%20id%3D%22html_85f1fae2e29d44fcafc7d708de650cbc%22%20style%3D%22width%3A%20100.0%25%3B%20height%3A%20100.0%25%3B%22%3EHackney%20Cluster%202%3C/div%3E%60%29%5B0%5D%3B%0A%20%20%20%20%20%20%20%20%20%20%20%20popup_f3b43b597e6f4fa58e119b38e64de1c2.setContent%28html_85f1fae2e29d44fcafc7d708de650cbc%29%3B%0A%20%20%20%20%20%20%20%20%0A%0A%20%20%20%20%20%20%20%20circle_marker_965c9cc8e9d942309cd3e412ffbc03f0.bindPopup%28popup_f3b43b597e6f4fa58e119b38e64de1c2%29%0A%20%20%20%20%20%20%20%20%3B%0A%0A%20%20%20%20%20%20%20%20%0A%20%20%20%20%0A%20%20%20%20%0A%20%20%20%20%20%20%20%20%20%20%20%20var%20circle_marker_56dee454f52d4bc79f8412076cfb4d4a%20%3D%20L.circleMarker%28%0A%20%20%20%20%20%20%20%20%20%20%20%20%20%20%20%20%5B51.48260000000005%2C%20-0.21287999999992735%5D%2C%0A%20%20%20%20%20%20%20%20%20%20%20%20%20%20%20%20%7B%22bubblingMouseEvents%22%3A%20true%2C%20%22color%22%3A%20%22%23ff0000%22%2C%20%22dashArray%22%3A%20null%2C%20%22dashOffset%22%3A%20null%2C%20%22fill%22%3A%20true%2C%20%22fillColor%22%3A%20%22%23ff0000%22%2C%20%22fillOpacity%22%3A%200.7%2C%20%22fillRule%22%3A%20%22evenodd%22%2C%20%22lineCap%22%3A%20%22round%22%2C%20%22lineJoin%22%3A%20%22round%22%2C%20%22opacity%22%3A%201.0%2C%20%22radius%22%3A%205%2C%20%22stroke%22%3A%20true%2C%20%22weight%22%3A%203%7D%0A%20%20%20%20%20%20%20%20%20%20%20%20%29.addTo%28map_a809df80168c4486a0b46e61748e9b80%29%3B%0A%20%20%20%20%20%20%20%20%0A%20%20%20%20%0A%20%20%20%20%20%20%20%20var%20popup_a95a0d29252a4407a399b614dcf77df9%20%3D%20L.popup%28%7B%22maxWidth%22%3A%20%22100%25%22%7D%29%3B%0A%0A%20%20%20%20%20%20%20%20%0A%20%20%20%20%20%20%20%20%20%20%20%20var%20html_8b963a4d59ef45cea1795a1b9345fbfb%20%3D%20%24%28%60%3Cdiv%20id%3D%22html_8b963a4d59ef45cea1795a1b9345fbfb%22%20style%3D%22width%3A%20100.0%25%3B%20height%3A%20100.0%25%3B%22%3EHammersmith%20and%20Fulham%20Cluster%200%3C/div%3E%60%29%5B0%5D%3B%0A%20%20%20%20%20%20%20%20%20%20%20%20popup_a95a0d29252a4407a399b614dcf77df9.setContent%28html_8b963a4d59ef45cea1795a1b9345fbfb%29%3B%0A%20%20%20%20%20%20%20%20%0A%0A%20%20%20%20%20%20%20%20circle_marker_56dee454f52d4bc79f8412076cfb4d4a.bindPopup%28popup_a95a0d29252a4407a399b614dcf77df9%29%0A%20%20%20%20%20%20%20%20%3B%0A%0A%20%20%20%20%20%20%20%20%0A%20%20%20%20%0A%20%20%20%20%0A%20%20%20%20%20%20%20%20%20%20%20%20var%20circle_marker_2d3939459443461aa9b1bc6be410bb51%20%3D%20L.circleMarker%28%0A%20%20%20%20%20%20%20%20%20%20%20%20%20%20%20%20%5B51.589270048583515%2C%20-0.10640490805097613%5D%2C%0A%20%20%20%20%20%20%20%20%20%20%20%20%20%20%20%20%7B%22bubblingMouseEvents%22%3A%20true%2C%20%22color%22%3A%20%22%23ff0000%22%2C%20%22dashArray%22%3A%20null%2C%20%22dashOffset%22%3A%20null%2C%20%22fill%22%3A%20true%2C%20%22fillColor%22%3A%20%22%23ff0000%22%2C%20%22fillOpacity%22%3A%200.7%2C%20%22fillRule%22%3A%20%22evenodd%22%2C%20%22lineCap%22%3A%20%22round%22%2C%20%22lineJoin%22%3A%20%22round%22%2C%20%22opacity%22%3A%201.0%2C%20%22radius%22%3A%205%2C%20%22stroke%22%3A%20true%2C%20%22weight%22%3A%203%7D%0A%20%20%20%20%20%20%20%20%20%20%20%20%29.addTo%28map_a809df80168c4486a0b46e61748e9b80%29%3B%0A%20%20%20%20%20%20%20%20%0A%20%20%20%20%0A%20%20%20%20%20%20%20%20var%20popup_917de182429540b18cee3ecd361cb590%20%3D%20L.popup%28%7B%22maxWidth%22%3A%20%22100%25%22%7D%29%3B%0A%0A%20%20%20%20%20%20%20%20%0A%20%20%20%20%20%20%20%20%20%20%20%20var%20html_6c0f3d8d4e484d6f8c6d87f2afdd137f%20%3D%20%24%28%60%3Cdiv%20id%3D%22html_6c0f3d8d4e484d6f8c6d87f2afdd137f%22%20style%3D%22width%3A%20100.0%25%3B%20height%3A%20100.0%25%3B%22%3EHaringey%20Cluster%200%3C/div%3E%60%29%5B0%5D%3B%0A%20%20%20%20%20%20%20%20%20%20%20%20popup_917de182429540b18cee3ecd361cb590.setContent%28html_6c0f3d8d4e484d6f8c6d87f2afdd137f%29%3B%0A%20%20%20%20%20%20%20%20%0A%0A%20%20%20%20%20%20%20%20circle_marker_2d3939459443461aa9b1bc6be410bb51.bindPopup%28popup_917de182429540b18cee3ecd361cb590%29%0A%20%20%20%20%20%20%20%20%3B%0A%0A%20%20%20%20%20%20%20%20%0A%20%20%20%20%0A%20%20%20%20%0A%20%20%20%20%20%20%20%20%20%20%20%20var%20circle_marker_2ca6c015bd74418dbc746eb5eac40e00%20%3D%20L.circleMarker%28%0A%20%20%20%20%20%20%20%20%20%20%20%20%20%20%20%20%5B51.513180000000034%2C%20-0.10697999999996455%5D%2C%0A%20%20%20%20%20%20%20%20%20%20%20%20%20%20%20%20%7B%22bubblingMouseEvents%22%3A%20true%2C%20%22color%22%3A%20%22%238000ff%22%2C%20%22dashArray%22%3A%20null%2C%20%22dashOffset%22%3A%20null%2C%20%22fill%22%3A%20true%2C%20%22fillColor%22%3A%20%22%238000ff%22%2C%20%22fillOpacity%22%3A%200.7%2C%20%22fillRule%22%3A%20%22evenodd%22%2C%20%22lineCap%22%3A%20%22round%22%2C%20%22lineJoin%22%3A%20%22round%22%2C%20%22opacity%22%3A%201.0%2C%20%22radius%22%3A%205%2C%20%22stroke%22%3A%20true%2C%20%22weight%22%3A%203%7D%0A%20%20%20%20%20%20%20%20%20%20%20%20%29.addTo%28map_a809df80168c4486a0b46e61748e9b80%29%3B%0A%20%20%20%20%20%20%20%20%0A%20%20%20%20%0A%20%20%20%20%20%20%20%20var%20popup_19cdd806e55941509339a7d7d7546801%20%3D%20L.popup%28%7B%22maxWidth%22%3A%20%22100%25%22%7D%29%3B%0A%0A%20%20%20%20%20%20%20%20%0A%20%20%20%20%20%20%20%20%20%20%20%20var%20html_87934823cce548f7b0420881497c63fa%20%3D%20%24%28%60%3Cdiv%20id%3D%22html_87934823cce548f7b0420881497c63fa%22%20style%3D%22width%3A%20100.0%25%3B%20height%3A%20100.0%25%3B%22%3EHarrow%20Cluster%201%3C/div%3E%60%29%5B0%5D%3B%0A%20%20%20%20%20%20%20%20%20%20%20%20popup_19cdd806e55941509339a7d7d7546801.setContent%28html_87934823cce548f7b0420881497c63fa%29%3B%0A%20%20%20%20%20%20%20%20%0A%0A%20%20%20%20%20%20%20%20circle_marker_2ca6c015bd74418dbc746eb5eac40e00.bindPopup%28popup_19cdd806e55941509339a7d7d7546801%29%0A%20%20%20%20%20%20%20%20%3B%0A%0A%20%20%20%20%20%20%20%20%0A%20%20%20%20%0A%20%20%20%20%0A%20%20%20%20%20%20%20%20%20%20%20%20var%20circle_marker_3eb4838587af4f398cd256b6d1be15ad%20%3D%20L.circleMarker%28%0A%20%20%20%20%20%20%20%20%20%20%20%20%20%20%20%20%5B51.54461001117929%2C%20-0.14426001354320306%5D%2C%0A%20%20%20%20%20%20%20%20%20%20%20%20%20%20%20%20%7B%22bubblingMouseEvents%22%3A%20true%2C%20%22color%22%3A%20%22%238000ff%22%2C%20%22dashArray%22%3A%20null%2C%20%22dashOffset%22%3A%20null%2C%20%22fill%22%3A%20true%2C%20%22fillColor%22%3A%20%22%238000ff%22%2C%20%22fillOpacity%22%3A%200.7%2C%20%22fillRule%22%3A%20%22evenodd%22%2C%20%22lineCap%22%3A%20%22round%22%2C%20%22lineJoin%22%3A%20%22round%22%2C%20%22opacity%22%3A%201.0%2C%20%22radius%22%3A%205%2C%20%22stroke%22%3A%20true%2C%20%22weight%22%3A%203%7D%0A%20%20%20%20%20%20%20%20%20%20%20%20%29.addTo%28map_a809df80168c4486a0b46e61748e9b80%29%3B%0A%20%20%20%20%20%20%20%20%0A%20%20%20%20%0A%20%20%20%20%20%20%20%20var%20popup_c378e29cff7546f3b318b6b7d10bbd2c%20%3D%20L.popup%28%7B%22maxWidth%22%3A%20%22100%25%22%7D%29%3B%0A%0A%20%20%20%20%20%20%20%20%0A%20%20%20%20%20%20%20%20%20%20%20%20var%20html_245dd5dfe58042268383830f40e9981e%20%3D%20%24%28%60%3Cdiv%20id%3D%22html_245dd5dfe58042268383830f40e9981e%22%20style%3D%22width%3A%20100.0%25%3B%20height%3A%20100.0%25%3B%22%3EHavering%20Cluster%201%3C/div%3E%60%29%5B0%5D%3B%0A%20%20%20%20%20%20%20%20%20%20%20%20popup_c378e29cff7546f3b318b6b7d10bbd2c.setContent%28html_245dd5dfe58042268383830f40e9981e%29%3B%0A%20%20%20%20%20%20%20%20%0A%0A%20%20%20%20%20%20%20%20circle_marker_3eb4838587af4f398cd256b6d1be15ad.bindPopup%28popup_c378e29cff7546f3b318b6b7d10bbd2c%29%0A%20%20%20%20%20%20%20%20%3B%0A%0A%20%20%20%20%20%20%20%20%0A%20%20%20%20%0A%20%20%20%20%0A%20%20%20%20%20%20%20%20%20%20%20%20var%20circle_marker_48ddc610c2cd4c99b6d9664b3d6e573f%20%3D%20L.circleMarker%28%0A%20%20%20%20%20%20%20%20%20%20%20%20%20%20%20%20%5B51.48423031527276%2C%20-0.09647669591553293%5D%2C%0A%20%20%20%20%20%20%20%20%20%20%20%20%20%20%20%20%7B%22bubblingMouseEvents%22%3A%20true%2C%20%22color%22%3A%20%22%23ff0000%22%2C%20%22dashArray%22%3A%20null%2C%20%22dashOffset%22%3A%20null%2C%20%22fill%22%3A%20true%2C%20%22fillColor%22%3A%20%22%23ff0000%22%2C%20%22fillOpacity%22%3A%200.7%2C%20%22fillRule%22%3A%20%22evenodd%22%2C%20%22lineCap%22%3A%20%22round%22%2C%20%22lineJoin%22%3A%20%22round%22%2C%20%22opacity%22%3A%201.0%2C%20%22radius%22%3A%205%2C%20%22stroke%22%3A%20true%2C%20%22weight%22%3A%203%7D%0A%20%20%20%20%20%20%20%20%20%20%20%20%29.addTo%28map_a809df80168c4486a0b46e61748e9b80%29%3B%0A%20%20%20%20%20%20%20%20%0A%20%20%20%20%0A%20%20%20%20%20%20%20%20var%20popup_5ec96c7e97094f2d8b0c5f2bf7614291%20%3D%20L.popup%28%7B%22maxWidth%22%3A%20%22100%25%22%7D%29%3B%0A%0A%20%20%20%20%20%20%20%20%0A%20%20%20%20%20%20%20%20%20%20%20%20var%20html_3390287de8f24289b0eb5a7059310398%20%3D%20%24%28%60%3Cdiv%20id%3D%22html_3390287de8f24289b0eb5a7059310398%22%20style%3D%22width%3A%20100.0%25%3B%20height%3A%20100.0%25%3B%22%3EHillingdon%20Cluster%200%3C/div%3E%60%29%5B0%5D%3B%0A%20%20%20%20%20%20%20%20%20%20%20%20popup_5ec96c7e97094f2d8b0c5f2bf7614291.setContent%28html_3390287de8f24289b0eb5a7059310398%29%3B%0A%20%20%20%20%20%20%20%20%0A%0A%20%20%20%20%20%20%20%20circle_marker_48ddc610c2cd4c99b6d9664b3d6e573f.bindPopup%28popup_5ec96c7e97094f2d8b0c5f2bf7614291%29%0A%20%20%20%20%20%20%20%20%3B%0A%0A%20%20%20%20%20%20%20%20%0A%20%20%20%20%0A%20%20%20%20%0A%20%20%20%20%20%20%20%20%20%20%20%20var%20circle_marker_849cd05c86c24be0b6897dcc70391a6f%20%3D%20L.circleMarker%28%0A%20%20%20%20%20%20%20%20%20%20%20%20%20%20%20%20%5B51.47139321701691%2C%20-0.3513735776861554%5D%2C%0A%20%20%20%20%20%20%20%20%20%20%20%20%20%20%20%20%7B%22bubblingMouseEvents%22%3A%20true%2C%20%22color%22%3A%20%22%238000ff%22%2C%20%22dashArray%22%3A%20null%2C%20%22dashOffset%22%3A%20null%2C%20%22fill%22%3A%20true%2C%20%22fillColor%22%3A%20%22%238000ff%22%2C%20%22fillOpacity%22%3A%200.7%2C%20%22fillRule%22%3A%20%22evenodd%22%2C%20%22lineCap%22%3A%20%22round%22%2C%20%22lineJoin%22%3A%20%22round%22%2C%20%22opacity%22%3A%201.0%2C%20%22radius%22%3A%205%2C%20%22stroke%22%3A%20true%2C%20%22weight%22%3A%203%7D%0A%20%20%20%20%20%20%20%20%20%20%20%20%29.addTo%28map_a809df80168c4486a0b46e61748e9b80%29%3B%0A%20%20%20%20%20%20%20%20%0A%20%20%20%20%0A%20%20%20%20%20%20%20%20var%20popup_379d09dc218844d28cbac5844f1105ca%20%3D%20L.popup%28%7B%22maxWidth%22%3A%20%22100%25%22%7D%29%3B%0A%0A%20%20%20%20%20%20%20%20%0A%20%20%20%20%20%20%20%20%20%20%20%20var%20html_1fdfa79639d94e8b8094ece1249ad8fd%20%3D%20%24%28%60%3Cdiv%20id%3D%22html_1fdfa79639d94e8b8094ece1249ad8fd%22%20style%3D%22width%3A%20100.0%25%3B%20height%3A%20100.0%25%3B%22%3EHounslow%20Cluster%201%3C/div%3E%60%29%5B0%5D%3B%0A%20%20%20%20%20%20%20%20%20%20%20%20popup_379d09dc218844d28cbac5844f1105ca.setContent%28html_1fdfa79639d94e8b8094ece1249ad8fd%29%3B%0A%20%20%20%20%20%20%20%20%0A%0A%20%20%20%20%20%20%20%20circle_marker_849cd05c86c24be0b6897dcc70391a6f.bindPopup%28popup_379d09dc218844d28cbac5844f1105ca%29%0A%20%20%20%20%20%20%20%20%3B%0A%0A%20%20%20%20%20%20%20%20%0A%20%20%20%20%0A%20%20%20%20%0A%20%20%20%20%20%20%20%20%20%20%20%20var%20circle_marker_fcabee04b55840efad2088b584e3988e%20%3D%20L.circleMarker%28%0A%20%20%20%20%20%20%20%20%20%20%20%20%20%20%20%20%5B51.534380000000056%2C%20-0.1089399999999614%5D%2C%0A%20%20%20%20%20%20%20%20%20%20%20%20%20%20%20%20%7B%22bubblingMouseEvents%22%3A%20true%2C%20%22color%22%3A%20%22%238000ff%22%2C%20%22dashArray%22%3A%20null%2C%20%22dashOffset%22%3A%20null%2C%20%22fill%22%3A%20true%2C%20%22fillColor%22%3A%20%22%238000ff%22%2C%20%22fillOpacity%22%3A%200.7%2C%20%22fillRule%22%3A%20%22evenodd%22%2C%20%22lineCap%22%3A%20%22round%22%2C%20%22lineJoin%22%3A%20%22round%22%2C%20%22opacity%22%3A%201.0%2C%20%22radius%22%3A%205%2C%20%22stroke%22%3A%20true%2C%20%22weight%22%3A%203%7D%0A%20%20%20%20%20%20%20%20%20%20%20%20%29.addTo%28map_a809df80168c4486a0b46e61748e9b80%29%3B%0A%20%20%20%20%20%20%20%20%0A%20%20%20%20%0A%20%20%20%20%20%20%20%20var%20popup_745d5f53e1ca4ac9815d39823f25f0e2%20%3D%20L.popup%28%7B%22maxWidth%22%3A%20%22100%25%22%7D%29%3B%0A%0A%20%20%20%20%20%20%20%20%0A%20%20%20%20%20%20%20%20%20%20%20%20var%20html_6b197d563e7a4c76ab4d1dcf4874be1a%20%3D%20%24%28%60%3Cdiv%20id%3D%22html_6b197d563e7a4c76ab4d1dcf4874be1a%22%20style%3D%22width%3A%20100.0%25%3B%20height%3A%20100.0%25%3B%22%3EIslington%20Cluster%201%3C/div%3E%60%29%5B0%5D%3B%0A%20%20%20%20%20%20%20%20%20%20%20%20popup_745d5f53e1ca4ac9815d39823f25f0e2.setContent%28html_6b197d563e7a4c76ab4d1dcf4874be1a%29%3B%0A%20%20%20%20%20%20%20%20%0A%0A%20%20%20%20%20%20%20%20circle_marker_fcabee04b55840efad2088b584e3988e.bindPopup%28popup_745d5f53e1ca4ac9815d39823f25f0e2%29%0A%20%20%20%20%20%20%20%20%3B%0A%0A%20%20%20%20%20%20%20%20%0A%20%20%20%20%0A%20%20%20%20%0A%20%20%20%20%20%20%20%20%20%20%20%20var%20circle_marker_f7f9b0b869f54867b5cccf5543ba39f5%20%3D%20L.circleMarker%28%0A%20%20%20%20%20%20%20%20%20%20%20%20%20%20%20%20%5B51.52265998605762%2C%20-0.20793003971127177%5D%2C%0A%20%20%20%20%20%20%20%20%20%20%20%20%20%20%20%20%7B%22bubblingMouseEvents%22%3A%20true%2C%20%22color%22%3A%20%22%2380ffb4%22%2C%20%22dashArray%22%3A%20null%2C%20%22dashOffset%22%3A%20null%2C%20%22fill%22%3A%20true%2C%20%22fillColor%22%3A%20%22%2380ffb4%22%2C%20%22fillOpacity%22%3A%200.7%2C%20%22fillRule%22%3A%20%22evenodd%22%2C%20%22lineCap%22%3A%20%22round%22%2C%20%22lineJoin%22%3A%20%22round%22%2C%20%22opacity%22%3A%201.0%2C%20%22radius%22%3A%205%2C%20%22stroke%22%3A%20true%2C%20%22weight%22%3A%203%7D%0A%20%20%20%20%20%20%20%20%20%20%20%20%29.addTo%28map_a809df80168c4486a0b46e61748e9b80%29%3B%0A%20%20%20%20%20%20%20%20%0A%20%20%20%20%0A%20%20%20%20%20%20%20%20var%20popup_c4d5014564c04251a61b6eef52d0f4e3%20%3D%20L.popup%28%7B%22maxWidth%22%3A%20%22100%25%22%7D%29%3B%0A%0A%20%20%20%20%20%20%20%20%0A%20%20%20%20%20%20%20%20%20%20%20%20var%20html_d4e3749ba7044930ab7e6b93cf1bdaa0%20%3D%20%24%28%60%3Cdiv%20id%3D%22html_d4e3749ba7044930ab7e6b93cf1bdaa0%22%20style%3D%22width%3A%20100.0%25%3B%20height%3A%20100.0%25%3B%22%3EKensington%20and%20Chelsea%20Cluster%202%3C/div%3E%60%29%5B0%5D%3B%0A%20%20%20%20%20%20%20%20%20%20%20%20popup_c4d5014564c04251a61b6eef52d0f4e3.setContent%28html_d4e3749ba7044930ab7e6b93cf1bdaa0%29%3B%0A%20%20%20%20%20%20%20%20%0A%0A%20%20%20%20%20%20%20%20circle_marker_f7f9b0b869f54867b5cccf5543ba39f5.bindPopup%28popup_c4d5014564c04251a61b6eef52d0f4e3%29%0A%20%20%20%20%20%20%20%20%3B%0A%0A%20%20%20%20%20%20%20%20%0A%20%20%20%20%0A%20%20%20%20%0A%20%20%20%20%20%20%20%20%20%20%20%20var%20circle_marker_e56ac91ba87f4830b56342157a7c1c6c%20%3D%20L.circleMarker%28%0A%20%20%20%20%20%20%20%20%20%20%20%20%20%20%20%20%5B51.41088097745307%2C%20-0.29193252576700857%5D%2C%0A%20%20%20%20%20%20%20%20%20%20%20%20%20%20%20%20%7B%22bubblingMouseEvents%22%3A%20true%2C%20%22color%22%3A%20%22%238000ff%22%2C%20%22dashArray%22%3A%20null%2C%20%22dashOffset%22%3A%20null%2C%20%22fill%22%3A%20true%2C%20%22fillColor%22%3A%20%22%238000ff%22%2C%20%22fillOpacity%22%3A%200.7%2C%20%22fillRule%22%3A%20%22evenodd%22%2C%20%22lineCap%22%3A%20%22round%22%2C%20%22lineJoin%22%3A%20%22round%22%2C%20%22opacity%22%3A%201.0%2C%20%22radius%22%3A%205%2C%20%22stroke%22%3A%20true%2C%20%22weight%22%3A%203%7D%0A%20%20%20%20%20%20%20%20%20%20%20%20%29.addTo%28map_a809df80168c4486a0b46e61748e9b80%29%3B%0A%20%20%20%20%20%20%20%20%0A%20%20%20%20%0A%20%20%20%20%20%20%20%20var%20popup_9c50e2bab0cb4ee3a9fb6b1f739c6874%20%3D%20L.popup%28%7B%22maxWidth%22%3A%20%22100%25%22%7D%29%3B%0A%0A%20%20%20%20%20%20%20%20%0A%20%20%20%20%20%20%20%20%20%20%20%20var%20html_93bbee5ecdd940f786dc43b30f77ab7d%20%3D%20%24%28%60%3Cdiv%20id%3D%22html_93bbee5ecdd940f786dc43b30f77ab7d%22%20style%3D%22width%3A%20100.0%25%3B%20height%3A%20100.0%25%3B%22%3EKingston%20upon%20Thames%20Cluster%201%3C/div%3E%60%29%5B0%5D%3B%0A%20%20%20%20%20%20%20%20%20%20%20%20popup_9c50e2bab0cb4ee3a9fb6b1f739c6874.setContent%28html_93bbee5ecdd940f786dc43b30f77ab7d%29%3B%0A%20%20%20%20%20%20%20%20%0A%0A%20%20%20%20%20%20%20%20circle_marker_e56ac91ba87f4830b56342157a7c1c6c.bindPopup%28popup_9c50e2bab0cb4ee3a9fb6b1f739c6874%29%0A%20%20%20%20%20%20%20%20%3B%0A%0A%20%20%20%20%20%20%20%20%0A%20%20%20%20%0A%20%20%20%20%0A%20%20%20%20%20%20%20%20%20%20%20%20var%20circle_marker_8f89cb022fab46ac84baab4a70820655%20%3D%20L.circleMarker%28%0A%20%20%20%20%20%20%20%20%20%20%20%20%20%20%20%20%5B51.49447082077311%2C%20-0.12006581821638082%5D%2C%0A%20%20%20%20%20%20%20%20%20%20%20%20%20%20%20%20%7B%22bubblingMouseEvents%22%3A%20true%2C%20%22color%22%3A%20%22%238000ff%22%2C%20%22dashArray%22%3A%20null%2C%20%22dashOffset%22%3A%20null%2C%20%22fill%22%3A%20true%2C%20%22fillColor%22%3A%20%22%238000ff%22%2C%20%22fillOpacity%22%3A%200.7%2C%20%22fillRule%22%3A%20%22evenodd%22%2C%20%22lineCap%22%3A%20%22round%22%2C%20%22lineJoin%22%3A%20%22round%22%2C%20%22opacity%22%3A%201.0%2C%20%22radius%22%3A%205%2C%20%22stroke%22%3A%20true%2C%20%22weight%22%3A%203%7D%0A%20%20%20%20%20%20%20%20%20%20%20%20%29.addTo%28map_a809df80168c4486a0b46e61748e9b80%29%3B%0A%20%20%20%20%20%20%20%20%0A%20%20%20%20%0A%20%20%20%20%20%20%20%20var%20popup_1e1ad98fff0e43359787158d912c82f5%20%3D%20L.popup%28%7B%22maxWidth%22%3A%20%22100%25%22%7D%29%3B%0A%0A%20%20%20%20%20%20%20%20%0A%20%20%20%20%20%20%20%20%20%20%20%20var%20html_1185badc2c87469ea3e612614531141a%20%3D%20%24%28%60%3Cdiv%20id%3D%22html_1185badc2c87469ea3e612614531141a%22%20style%3D%22width%3A%20100.0%25%3B%20height%3A%20100.0%25%3B%22%3ELambeth%20Cluster%201%3C/div%3E%60%29%5B0%5D%3B%0A%20%20%20%20%20%20%20%20%20%20%20%20popup_1e1ad98fff0e43359787158d912c82f5.setContent%28html_1185badc2c87469ea3e612614531141a%29%3B%0A%20%20%20%20%20%20%20%20%0A%0A%20%20%20%20%20%20%20%20circle_marker_8f89cb022fab46ac84baab4a70820655.bindPopup%28popup_1e1ad98fff0e43359787158d912c82f5%29%0A%20%20%20%20%20%20%20%20%3B%0A%0A%20%20%20%20%20%20%20%20%0A%20%20%20%20%0A%20%20%20%20%0A%20%20%20%20%20%20%20%20%20%20%20%20var%20circle_marker_d8b6c9c615064c03938091b54c24ab18%20%3D%20L.circleMarker%28%0A%20%20%20%20%20%20%20%20%20%20%20%20%20%20%20%20%5B51.465280000000064%2C%20-0.0132099999999582%5D%2C%0A%20%20%20%20%20%20%20%20%20%20%20%20%20%20%20%20%7B%22bubblingMouseEvents%22%3A%20true%2C%20%22color%22%3A%20%22%23ff0000%22%2C%20%22dashArray%22%3A%20null%2C%20%22dashOffset%22%3A%20null%2C%20%22fill%22%3A%20true%2C%20%22fillColor%22%3A%20%22%23ff0000%22%2C%20%22fillOpacity%22%3A%200.7%2C%20%22fillRule%22%3A%20%22evenodd%22%2C%20%22lineCap%22%3A%20%22round%22%2C%20%22lineJoin%22%3A%20%22round%22%2C%20%22opacity%22%3A%201.0%2C%20%22radius%22%3A%205%2C%20%22stroke%22%3A%20true%2C%20%22weight%22%3A%203%7D%0A%20%20%20%20%20%20%20%20%20%20%20%20%29.addTo%28map_a809df80168c4486a0b46e61748e9b80%29%3B%0A%20%20%20%20%20%20%20%20%0A%20%20%20%20%0A%20%20%20%20%20%20%20%20var%20popup_63f07fb51c6f4e3a90d8ee330c51f0f3%20%3D%20L.popup%28%7B%22maxWidth%22%3A%20%22100%25%22%7D%29%3B%0A%0A%20%20%20%20%20%20%20%20%0A%20%20%20%20%20%20%20%20%20%20%20%20var%20html_9ffdaa5fdbfe4528825653253555f61a%20%3D%20%24%28%60%3Cdiv%20id%3D%22html_9ffdaa5fdbfe4528825653253555f61a%22%20style%3D%22width%3A%20100.0%25%3B%20height%3A%20100.0%25%3B%22%3ELewisham%20Cluster%200%3C/div%3E%60%29%5B0%5D%3B%0A%20%20%20%20%20%20%20%20%20%20%20%20popup_63f07fb51c6f4e3a90d8ee330c51f0f3.setContent%28html_9ffdaa5fdbfe4528825653253555f61a%29%3B%0A%20%20%20%20%20%20%20%20%0A%0A%20%20%20%20%20%20%20%20circle_marker_d8b6c9c615064c03938091b54c24ab18.bindPopup%28popup_63f07fb51c6f4e3a90d8ee330c51f0f3%29%0A%20%20%20%20%20%20%20%20%3B%0A%0A%20%20%20%20%20%20%20%20%0A%20%20%20%20%0A%20%20%20%20%0A%20%20%20%20%20%20%20%20%20%20%20%20var%20circle_marker_e88d2342ea504c04bf39ac3e02b203cf%20%3D%20L.circleMarker%28%0A%20%20%20%20%20%20%20%20%20%20%20%20%20%20%20%20%5B51.5445200314487%2C%20-0.16685988761804538%5D%2C%0A%20%20%20%20%20%20%20%20%20%20%20%20%20%20%20%20%7B%22bubblingMouseEvents%22%3A%20true%2C%20%22color%22%3A%20%22%2380ffb4%22%2C%20%22dashArray%22%3A%20null%2C%20%22dashOffset%22%3A%20null%2C%20%22fill%22%3A%20true%2C%20%22fillColor%22%3A%20%22%2380ffb4%22%2C%20%22fillOpacity%22%3A%200.7%2C%20%22fillRule%22%3A%20%22evenodd%22%2C%20%22lineCap%22%3A%20%22round%22%2C%20%22lineJoin%22%3A%20%22round%22%2C%20%22opacity%22%3A%201.0%2C%20%22radius%22%3A%205%2C%20%22stroke%22%3A%20true%2C%20%22weight%22%3A%203%7D%0A%20%20%20%20%20%20%20%20%20%20%20%20%29.addTo%28map_a809df80168c4486a0b46e61748e9b80%29%3B%0A%20%20%20%20%20%20%20%20%0A%20%20%20%20%0A%20%20%20%20%20%20%20%20var%20popup_99d515f245d04f4f9fc069b39aba81c0%20%3D%20L.popup%28%7B%22maxWidth%22%3A%20%22100%25%22%7D%29%3B%0A%0A%20%20%20%20%20%20%20%20%0A%20%20%20%20%20%20%20%20%20%20%20%20var%20html_0b2d5390ca4f447e8be2ea01218963f9%20%3D%20%24%28%60%3Cdiv%20id%3D%22html_0b2d5390ca4f447e8be2ea01218963f9%22%20style%3D%22width%3A%20100.0%25%3B%20height%3A%20100.0%25%3B%22%3EMerton%20Cluster%202%3C/div%3E%60%29%5B0%5D%3B%0A%20%20%20%20%20%20%20%20%20%20%20%20popup_99d515f245d04f4f9fc069b39aba81c0.setContent%28html_0b2d5390ca4f447e8be2ea01218963f9%29%3B%0A%20%20%20%20%20%20%20%20%0A%0A%20%20%20%20%20%20%20%20circle_marker_e88d2342ea504c04bf39ac3e02b203cf.bindPopup%28popup_99d515f245d04f4f9fc069b39aba81c0%29%0A%20%20%20%20%20%20%20%20%3B%0A%0A%20%20%20%20%20%20%20%20%0A%20%20%20%20%0A%20%20%20%20%0A%20%20%20%20%20%20%20%20%20%20%20%20var%20circle_marker_28b982fd9e8f41eca1839d13897823c4%20%3D%20L.circleMarker%28%0A%20%20%20%20%20%20%20%20%20%20%20%20%20%20%20%20%5B51.51993737640548%2C%200.055881932273406654%5D%2C%0A%20%20%20%20%20%20%20%20%20%20%20%20%20%20%20%20%7B%22bubblingMouseEvents%22%3A%20true%2C%20%22color%22%3A%20%22%238000ff%22%2C%20%22dashArray%22%3A%20null%2C%20%22dashOffset%22%3A%20null%2C%20%22fill%22%3A%20true%2C%20%22fillColor%22%3A%20%22%238000ff%22%2C%20%22fillOpacity%22%3A%200.7%2C%20%22fillRule%22%3A%20%22evenodd%22%2C%20%22lineCap%22%3A%20%22round%22%2C%20%22lineJoin%22%3A%20%22round%22%2C%20%22opacity%22%3A%201.0%2C%20%22radius%22%3A%205%2C%20%22stroke%22%3A%20true%2C%20%22weight%22%3A%203%7D%0A%20%20%20%20%20%20%20%20%20%20%20%20%29.addTo%28map_a809df80168c4486a0b46e61748e9b80%29%3B%0A%20%20%20%20%20%20%20%20%0A%20%20%20%20%0A%20%20%20%20%20%20%20%20var%20popup_059b73d3993642babf8d984da53edd66%20%3D%20L.popup%28%7B%22maxWidth%22%3A%20%22100%25%22%7D%29%3B%0A%0A%20%20%20%20%20%20%20%20%0A%20%20%20%20%20%20%20%20%20%20%20%20var%20html_830724ee1b9d44c5b3f586b88a57d66b%20%3D%20%24%28%60%3Cdiv%20id%3D%22html_830724ee1b9d44c5b3f586b88a57d66b%22%20style%3D%22width%3A%20100.0%25%3B%20height%3A%20100.0%25%3B%22%3ENewham%20Cluster%201%3C/div%3E%60%29%5B0%5D%3B%0A%20%20%20%20%20%20%20%20%20%20%20%20popup_059b73d3993642babf8d984da53edd66.setContent%28html_830724ee1b9d44c5b3f586b88a57d66b%29%3B%0A%20%20%20%20%20%20%20%20%0A%0A%20%20%20%20%20%20%20%20circle_marker_28b982fd9e8f41eca1839d13897823c4.bindPopup%28popup_059b73d3993642babf8d984da53edd66%29%0A%20%20%20%20%20%20%20%20%3B%0A%0A%20%20%20%20%20%20%20%20%0A%20%20%20%20%0A%20%20%20%20%0A%20%20%20%20%20%20%20%20%20%20%20%20var%20circle_marker_efbc748a97ab48468965ce215493649e%20%3D%20L.circleMarker%28%0A%20%20%20%20%20%20%20%20%20%20%20%20%20%20%20%20%5B51.47577317149246%2C%20-0.08069832656615353%5D%2C%0A%20%20%20%20%20%20%20%20%20%20%20%20%20%20%20%20%7B%22bubblingMouseEvents%22%3A%20true%2C%20%22color%22%3A%20%22%23ff0000%22%2C%20%22dashArray%22%3A%20null%2C%20%22dashOffset%22%3A%20null%2C%20%22fill%22%3A%20true%2C%20%22fillColor%22%3A%20%22%23ff0000%22%2C%20%22fillOpacity%22%3A%200.7%2C%20%22fillRule%22%3A%20%22evenodd%22%2C%20%22lineCap%22%3A%20%22round%22%2C%20%22lineJoin%22%3A%20%22round%22%2C%20%22opacity%22%3A%201.0%2C%20%22radius%22%3A%205%2C%20%22stroke%22%3A%20true%2C%20%22weight%22%3A%203%7D%0A%20%20%20%20%20%20%20%20%20%20%20%20%29.addTo%28map_a809df80168c4486a0b46e61748e9b80%29%3B%0A%20%20%20%20%20%20%20%20%0A%20%20%20%20%0A%20%20%20%20%20%20%20%20var%20popup_ba629b93e67249d4bbecf234de76c9fc%20%3D%20L.popup%28%7B%22maxWidth%22%3A%20%22100%25%22%7D%29%3B%0A%0A%20%20%20%20%20%20%20%20%0A%20%20%20%20%20%20%20%20%20%20%20%20var%20html_8686ad8b5d8d4e1ba87d834978d8396a%20%3D%20%24%28%60%3Cdiv%20id%3D%22html_8686ad8b5d8d4e1ba87d834978d8396a%22%20style%3D%22width%3A%20100.0%25%3B%20height%3A%20100.0%25%3B%22%3ERedbridge%20Cluster%200%3C/div%3E%60%29%5B0%5D%3B%0A%20%20%20%20%20%20%20%20%20%20%20%20popup_ba629b93e67249d4bbecf234de76c9fc.setContent%28html_8686ad8b5d8d4e1ba87d834978d8396a%29%3B%0A%20%20%20%20%20%20%20%20%0A%0A%20%20%20%20%20%20%20%20circle_marker_efbc748a97ab48468965ce215493649e.bindPopup%28popup_ba629b93e67249d4bbecf234de76c9fc%29%0A%20%20%20%20%20%20%20%20%3B%0A%0A%20%20%20%20%20%20%20%20%0A%20%20%20%20%0A%20%20%20%20%0A%20%20%20%20%20%20%20%20%20%20%20%20var%20circle_marker_bf1790cd815d4a4f9416fa2f6983cf4a%20%3D%20L.circleMarker%28%0A%20%20%20%20%20%20%20%20%20%20%20%20%20%20%20%20%5B51.480270000000075%2C%20-0.23753999999996722%5D%2C%0A%20%20%20%20%20%20%20%20%20%20%20%20%20%20%20%20%7B%22bubblingMouseEvents%22%3A%20true%2C%20%22color%22%3A%20%22%23ff0000%22%2C%20%22dashArray%22%3A%20null%2C%20%22dashOffset%22%3A%20null%2C%20%22fill%22%3A%20true%2C%20%22fillColor%22%3A%20%22%23ff0000%22%2C%20%22fillOpacity%22%3A%200.7%2C%20%22fillRule%22%3A%20%22evenodd%22%2C%20%22lineCap%22%3A%20%22round%22%2C%20%22lineJoin%22%3A%20%22round%22%2C%20%22opacity%22%3A%201.0%2C%20%22radius%22%3A%205%2C%20%22stroke%22%3A%20true%2C%20%22weight%22%3A%203%7D%0A%20%20%20%20%20%20%20%20%20%20%20%20%29.addTo%28map_a809df80168c4486a0b46e61748e9b80%29%3B%0A%20%20%20%20%20%20%20%20%0A%20%20%20%20%0A%20%20%20%20%20%20%20%20var%20popup_e8786832041c4743b43312841a06c949%20%3D%20L.popup%28%7B%22maxWidth%22%3A%20%22100%25%22%7D%29%3B%0A%0A%20%20%20%20%20%20%20%20%0A%20%20%20%20%20%20%20%20%20%20%20%20var%20html_798d0c4b3a12419aa4426a3479e5be21%20%3D%20%24%28%60%3Cdiv%20id%3D%22html_798d0c4b3a12419aa4426a3479e5be21%22%20style%3D%22width%3A%20100.0%25%3B%20height%3A%20100.0%25%3B%22%3ERichmond%20upon%20Thames%20Cluster%200%3C/div%3E%60%29%5B0%5D%3B%0A%20%20%20%20%20%20%20%20%20%20%20%20popup_e8786832041c4743b43312841a06c949.setContent%28html_798d0c4b3a12419aa4426a3479e5be21%29%3B%0A%20%20%20%20%20%20%20%20%0A%0A%20%20%20%20%20%20%20%20circle_marker_bf1790cd815d4a4f9416fa2f6983cf4a.bindPopup%28popup_e8786832041c4743b43312841a06c949%29%0A%20%20%20%20%20%20%20%20%3B%0A%0A%20%20%20%20%20%20%20%20%0A%20%20%20%20%0A%20%20%20%20%0A%20%20%20%20%20%20%20%20%20%20%20%20var%20circle_marker_2c4ebb4a7b514a3a91f061e2f4602ec8%20%3D%20L.circleMarker%28%0A%20%20%20%20%20%20%20%20%20%20%20%20%20%20%20%20%5B51.50573373789071%2C%20-0.10000176546602337%5D%2C%0A%20%20%20%20%20%20%20%20%20%20%20%20%20%20%20%20%7B%22bubblingMouseEvents%22%3A%20true%2C%20%22color%22%3A%20%22%238000ff%22%2C%20%22dashArray%22%3A%20null%2C%20%22dashOffset%22%3A%20null%2C%20%22fill%22%3A%20true%2C%20%22fillColor%22%3A%20%22%238000ff%22%2C%20%22fillOpacity%22%3A%200.7%2C%20%22fillRule%22%3A%20%22evenodd%22%2C%20%22lineCap%22%3A%20%22round%22%2C%20%22lineJoin%22%3A%20%22round%22%2C%20%22opacity%22%3A%201.0%2C%20%22radius%22%3A%205%2C%20%22stroke%22%3A%20true%2C%20%22weight%22%3A%203%7D%0A%20%20%20%20%20%20%20%20%20%20%20%20%29.addTo%28map_a809df80168c4486a0b46e61748e9b80%29%3B%0A%20%20%20%20%20%20%20%20%0A%20%20%20%20%0A%20%20%20%20%20%20%20%20var%20popup_12face66a4b64d25969a3586f5cb107a%20%3D%20L.popup%28%7B%22maxWidth%22%3A%20%22100%25%22%7D%29%3B%0A%0A%20%20%20%20%20%20%20%20%0A%20%20%20%20%20%20%20%20%20%20%20%20var%20html_4ceab52b371e4ac7b9791a0dd63b7997%20%3D%20%24%28%60%3Cdiv%20id%3D%22html_4ceab52b371e4ac7b9791a0dd63b7997%22%20style%3D%22width%3A%20100.0%25%3B%20height%3A%20100.0%25%3B%22%3ESouthwark%20Cluster%201%3C/div%3E%60%29%5B0%5D%3B%0A%20%20%20%20%20%20%20%20%20%20%20%20popup_12face66a4b64d25969a3586f5cb107a.setContent%28html_4ceab52b371e4ac7b9791a0dd63b7997%29%3B%0A%20%20%20%20%20%20%20%20%0A%0A%20%20%20%20%20%20%20%20circle_marker_2c4ebb4a7b514a3a91f061e2f4602ec8.bindPopup%28popup_12face66a4b64d25969a3586f5cb107a%29%0A%20%20%20%20%20%20%20%20%3B%0A%0A%20%20%20%20%20%20%20%20%0A%20%20%20%20%0A%20%20%20%20%0A%20%20%20%20%20%20%20%20%20%20%20%20var%20circle_marker_fa768365df3d4354886a256555d2676a%20%3D%20L.circleMarker%28%0A%20%20%20%20%20%20%20%20%20%20%20%20%20%20%20%20%5B51.51224303652285%2C%20-0.053658554826729%5D%2C%0A%20%20%20%20%20%20%20%20%20%20%20%20%20%20%20%20%7B%22bubblingMouseEvents%22%3A%20true%2C%20%22color%22%3A%20%22%238000ff%22%2C%20%22dashArray%22%3A%20null%2C%20%22dashOffset%22%3A%20null%2C%20%22fill%22%3A%20true%2C%20%22fillColor%22%3A%20%22%238000ff%22%2C%20%22fillOpacity%22%3A%200.7%2C%20%22fillRule%22%3A%20%22evenodd%22%2C%20%22lineCap%22%3A%20%22round%22%2C%20%22lineJoin%22%3A%20%22round%22%2C%20%22opacity%22%3A%201.0%2C%20%22radius%22%3A%205%2C%20%22stroke%22%3A%20true%2C%20%22weight%22%3A%203%7D%0A%20%20%20%20%20%20%20%20%20%20%20%20%29.addTo%28map_a809df80168c4486a0b46e61748e9b80%29%3B%0A%20%20%20%20%20%20%20%20%0A%20%20%20%20%0A%20%20%20%20%20%20%20%20var%20popup_15a8f3a31e514065b42c7c7060f2b984%20%3D%20L.popup%28%7B%22maxWidth%22%3A%20%22100%25%22%7D%29%3B%0A%0A%20%20%20%20%20%20%20%20%0A%20%20%20%20%20%20%20%20%20%20%20%20var%20html_fb90744dc51548b1acd32c76b89ca24d%20%3D%20%24%28%60%3Cdiv%20id%3D%22html_fb90744dc51548b1acd32c76b89ca24d%22%20style%3D%22width%3A%20100.0%25%3B%20height%3A%20100.0%25%3B%22%3ESutton%20Cluster%201%3C/div%3E%60%29%5B0%5D%3B%0A%20%20%20%20%20%20%20%20%20%20%20%20popup_15a8f3a31e514065b42c7c7060f2b984.setContent%28html_fb90744dc51548b1acd32c76b89ca24d%29%3B%0A%20%20%20%20%20%20%20%20%0A%0A%20%20%20%20%20%20%20%20circle_marker_fa768365df3d4354886a256555d2676a.bindPopup%28popup_15a8f3a31e514065b42c7c7060f2b984%29%0A%20%20%20%20%20%20%20%20%3B%0A%0A%20%20%20%20%20%20%20%20%0A%20%20%20%20%0A%20%20%20%20%0A%20%20%20%20%20%20%20%20%20%20%20%20var%20circle_marker_d3cf036533c145efba9e11b648e66786%20%3D%20L.circleMarker%28%0A%20%20%20%20%20%20%20%20%20%20%20%20%20%20%20%20%5B51.49999000000008%2C%20-0.01044999999993479%5D%2C%0A%20%20%20%20%20%20%20%20%20%20%20%20%20%20%20%20%7B%22bubblingMouseEvents%22%3A%20true%2C%20%22color%22%3A%20%22%2380ffb4%22%2C%20%22dashArray%22%3A%20null%2C%20%22dashOffset%22%3A%20null%2C%20%22fill%22%3A%20true%2C%20%22fillColor%22%3A%20%22%2380ffb4%22%2C%20%22fillOpacity%22%3A%200.7%2C%20%22fillRule%22%3A%20%22evenodd%22%2C%20%22lineCap%22%3A%20%22round%22%2C%20%22lineJoin%22%3A%20%22round%22%2C%20%22opacity%22%3A%201.0%2C%20%22radius%22%3A%205%2C%20%22stroke%22%3A%20true%2C%20%22weight%22%3A%203%7D%0A%20%20%20%20%20%20%20%20%20%20%20%20%29.addTo%28map_a809df80168c4486a0b46e61748e9b80%29%3B%0A%20%20%20%20%20%20%20%20%0A%20%20%20%20%0A%20%20%20%20%20%20%20%20var%20popup_e57172dcb3da4a0e9a873556c604edb7%20%3D%20L.popup%28%7B%22maxWidth%22%3A%20%22100%25%22%7D%29%3B%0A%0A%20%20%20%20%20%20%20%20%0A%20%20%20%20%20%20%20%20%20%20%20%20var%20html_119b1290e60944c291872f55579a912d%20%3D%20%24%28%60%3Cdiv%20id%3D%22html_119b1290e60944c291872f55579a912d%22%20style%3D%22width%3A%20100.0%25%3B%20height%3A%20100.0%25%3B%22%3ETower%20Hamlets%20Cluster%202%3C/div%3E%60%29%5B0%5D%3B%0A%20%20%20%20%20%20%20%20%20%20%20%20popup_e57172dcb3da4a0e9a873556c604edb7.setContent%28html_119b1290e60944c291872f55579a912d%29%3B%0A%20%20%20%20%20%20%20%20%0A%0A%20%20%20%20%20%20%20%20circle_marker_d3cf036533c145efba9e11b648e66786.bindPopup%28popup_e57172dcb3da4a0e9a873556c604edb7%29%0A%20%20%20%20%20%20%20%20%3B%0A%0A%20%20%20%20%20%20%20%20%0A%20%20%20%20%0A%20%20%20%20%0A%20%20%20%20%20%20%20%20%20%20%20%20var%20circle_marker_078f8d41552940248333672a140504a3%20%3D%20L.circleMarker%28%0A%20%20%20%20%20%20%20%20%20%20%20%20%20%20%20%20%5B51.58176486512802%2C%20-0.2769684703905198%5D%2C%0A%20%20%20%20%20%20%20%20%20%20%20%20%20%20%20%20%7B%22bubblingMouseEvents%22%3A%20true%2C%20%22color%22%3A%20%22%238000ff%22%2C%20%22dashArray%22%3A%20null%2C%20%22dashOffset%22%3A%20null%2C%20%22fill%22%3A%20true%2C%20%22fillColor%22%3A%20%22%238000ff%22%2C%20%22fillOpacity%22%3A%200.7%2C%20%22fillRule%22%3A%20%22evenodd%22%2C%20%22lineCap%22%3A%20%22round%22%2C%20%22lineJoin%22%3A%20%22round%22%2C%20%22opacity%22%3A%201.0%2C%20%22radius%22%3A%205%2C%20%22stroke%22%3A%20true%2C%20%22weight%22%3A%203%7D%0A%20%20%20%20%20%20%20%20%20%20%20%20%29.addTo%28map_a809df80168c4486a0b46e61748e9b80%29%3B%0A%20%20%20%20%20%20%20%20%0A%20%20%20%20%0A%20%20%20%20%20%20%20%20var%20popup_a84f47d24e9542e6ac6c4fd7ec2fd59d%20%3D%20L.popup%28%7B%22maxWidth%22%3A%20%22100%25%22%7D%29%3B%0A%0A%20%20%20%20%20%20%20%20%0A%20%20%20%20%20%20%20%20%20%20%20%20var%20html_84c62ef4409d43b99a287cc1a4fb6dad%20%3D%20%24%28%60%3Cdiv%20id%3D%22html_84c62ef4409d43b99a287cc1a4fb6dad%22%20style%3D%22width%3A%20100.0%25%3B%20height%3A%20100.0%25%3B%22%3EWaltham%20Forest%20Cluster%201%3C/div%3E%60%29%5B0%5D%3B%0A%20%20%20%20%20%20%20%20%20%20%20%20popup_a84f47d24e9542e6ac6c4fd7ec2fd59d.setContent%28html_84c62ef4409d43b99a287cc1a4fb6dad%29%3B%0A%20%20%20%20%20%20%20%20%0A%0A%20%20%20%20%20%20%20%20circle_marker_078f8d41552940248333672a140504a3.bindPopup%28popup_a84f47d24e9542e6ac6c4fd7ec2fd59d%29%0A%20%20%20%20%20%20%20%20%3B%0A%0A%20%20%20%20%20%20%20%20%0A%20%20%20%20%0A%20%20%20%20%0A%20%20%20%20%20%20%20%20%20%20%20%20var%20circle_marker_f3a51de239e04d39bea24e1cf071e07e%20%3D%20L.circleMarker%28%0A%20%20%20%20%20%20%20%20%20%20%20%20%20%20%20%20%5B51.46782623445036%2C%20-0.144992105243544%5D%2C%0A%20%20%20%20%20%20%20%20%20%20%20%20%20%20%20%20%7B%22bubblingMouseEvents%22%3A%20true%2C%20%22color%22%3A%20%22%238000ff%22%2C%20%22dashArray%22%3A%20null%2C%20%22dashOffset%22%3A%20null%2C%20%22fill%22%3A%20true%2C%20%22fillColor%22%3A%20%22%238000ff%22%2C%20%22fillOpacity%22%3A%200.7%2C%20%22fillRule%22%3A%20%22evenodd%22%2C%20%22lineCap%22%3A%20%22round%22%2C%20%22lineJoin%22%3A%20%22round%22%2C%20%22opacity%22%3A%201.0%2C%20%22radius%22%3A%205%2C%20%22stroke%22%3A%20true%2C%20%22weight%22%3A%203%7D%0A%20%20%20%20%20%20%20%20%20%20%20%20%29.addTo%28map_a809df80168c4486a0b46e61748e9b80%29%3B%0A%20%20%20%20%20%20%20%20%0A%20%20%20%20%0A%20%20%20%20%20%20%20%20var%20popup_297be4724d0948899d7d00571c4eefcc%20%3D%20L.popup%28%7B%22maxWidth%22%3A%20%22100%25%22%7D%29%3B%0A%0A%20%20%20%20%20%20%20%20%0A%20%20%20%20%20%20%20%20%20%20%20%20var%20html_7b94c594bff3408a8fe7d402aa64a631%20%3D%20%24%28%60%3Cdiv%20id%3D%22html_7b94c594bff3408a8fe7d402aa64a631%22%20style%3D%22width%3A%20100.0%25%3B%20height%3A%20100.0%25%3B%22%3EWandsworth%20Cluster%201%3C/div%3E%60%29%5B0%5D%3B%0A%20%20%20%20%20%20%20%20%20%20%20%20popup_297be4724d0948899d7d00571c4eefcc.setContent%28html_7b94c594bff3408a8fe7d402aa64a631%29%3B%0A%20%20%20%20%20%20%20%20%0A%0A%20%20%20%20%20%20%20%20circle_marker_f3a51de239e04d39bea24e1cf071e07e.bindPopup%28popup_297be4724d0948899d7d00571c4eefcc%29%0A%20%20%20%20%20%20%20%20%3B%0A%0A%20%20%20%20%20%20%20%20%0A%20%20%20%20%0A%20%20%20%20%0A%20%20%20%20%20%20%20%20%20%20%20%20var%20circle_marker_47a441ca2d144e33b7334375a72091d2%20%3D%20L.circleMarker%28%0A%20%20%20%20%20%20%20%20%20%20%20%20%20%20%20%20%5B51.628248878120935%2C%200.01298627842834142%5D%2C%0A%20%20%20%20%20%20%20%20%20%20%20%20%20%20%20%20%7B%22bubblingMouseEvents%22%3A%20true%2C%20%22color%22%3A%20%22%238000ff%22%2C%20%22dashArray%22%3A%20null%2C%20%22dashOffset%22%3A%20null%2C%20%22fill%22%3A%20true%2C%20%22fillColor%22%3A%20%22%238000ff%22%2C%20%22fillOpacity%22%3A%200.7%2C%20%22fillRule%22%3A%20%22evenodd%22%2C%20%22lineCap%22%3A%20%22round%22%2C%20%22lineJoin%22%3A%20%22round%22%2C%20%22opacity%22%3A%201.0%2C%20%22radius%22%3A%205%2C%20%22stroke%22%3A%20true%2C%20%22weight%22%3A%203%7D%0A%20%20%20%20%20%20%20%20%20%20%20%20%29.addTo%28map_a809df80168c4486a0b46e61748e9b80%29%3B%0A%20%20%20%20%20%20%20%20%0A%20%20%20%20%0A%20%20%20%20%20%20%20%20var%20popup_0ce291028cc14622b3f97c504bb3a974%20%3D%20L.popup%28%7B%22maxWidth%22%3A%20%22100%25%22%7D%29%3B%0A%0A%20%20%20%20%20%20%20%20%0A%20%20%20%20%20%20%20%20%20%20%20%20var%20html_7e931eeaa32244cf9ce4466e9520cc67%20%3D%20%24%28%60%3Cdiv%20id%3D%22html_7e931eeaa32244cf9ce4466e9520cc67%22%20style%3D%22width%3A%20100.0%25%3B%20height%3A%20100.0%25%3B%22%3EWestminster%20Cluster%201%3C/div%3E%60%29%5B0%5D%3B%0A%20%20%20%20%20%20%20%20%20%20%20%20popup_0ce291028cc14622b3f97c504bb3a974.setContent%28html_7e931eeaa32244cf9ce4466e9520cc67%29%3B%0A%20%20%20%20%20%20%20%20%0A%0A%20%20%20%20%20%20%20%20circle_marker_47a441ca2d144e33b7334375a72091d2.bindPopup%28popup_0ce291028cc14622b3f97c504bb3a974%29%0A%20%20%20%20%20%20%20%20%3B%0A%0A%20%20%20%20%20%20%20%20%0A%20%20%20%20%0A%3C/script%3E onload=\"this.contentDocument.open();this.contentDocument.write(    decodeURIComponent(this.getAttribute('data-html')));this.contentDocument.close();\" allowfullscreen webkitallowfullscreen mozallowfullscreen></iframe></div></div>"
     },
     "metadata": {},
     "execution_count": 53
    }
   ],
   "source": [
    "map_clusters = folium.Map(location=[latitude, longitude], zoom_start=11)\n",
    "\n",
    "# set color scheme for the clusters\n",
    "x = np.arange(kclusters)\n",
    "ys = [i + x + (i*x)**2 for i in range(kclusters)]\n",
    "colors_array = cm.rainbow(np.linspace(0, 1, len(ys)))\n",
    "rainbow = [colors.rgb2hex(i) for i in colors_array]\n",
    "\n",
    "# add markers to the map\n",
    "markers_colors = []\n",
    "for lat, lon, poi, cluster in zip(london_merged['Latitude'], london_merged['Longitude'], london_merged['Borough'], london_merged['Cluster Labels']):\n",
    "    label = folium.Popup(str(poi) + ' Cluster ' + str(cluster), parse_html=True)\n",
    "    folium.CircleMarker(\n",
    "        [lat, lon],\n",
    "        radius=5,\n",
    "        popup=label,\n",
    "        color=rainbow[int(cluster-1)],\n",
    "        fill=True,\n",
    "        fill_color=rainbow[int(cluster-1)],\n",
    "        fill_opacity=0.7).add_to(map_clusters)\n",
    "\n",
    "map_clusters"
   ]
  },
  {
   "source": [
    "### Breaking down clusters"
   ],
   "cell_type": "markdown",
   "metadata": {}
  },
  {
   "cell_type": "code",
   "execution_count": 54,
   "metadata": {},
   "outputs": [
    {
     "output_type": "execute_result",
     "data": {
      "text/plain": [
       "                   Borough  Movie Theater  Indie Movie Theater  \\\n",
       "4                  Bromley           0.00                 0.01   \n",
       "6                  Croydon           0.00                 0.01   \n",
       "11  Hammersmith and Fulham           0.01                 0.01   \n",
       "12                Haringey           0.00                 0.01   \n",
       "15              Hillingdon           0.00                 0.01   \n",
       "21                Lewisham           0.00                 0.01   \n",
       "24               Redbridge           0.00                 0.01   \n",
       "25    Richmond upon Thames           0.00                 0.01   \n",
       "\n",
       "    Cluster Labels   Latitude  Longitude  \n",
       "4                0  51.601511  -0.066365  \n",
       "6                0  51.593470  -0.083380  \n",
       "11               0  51.482600  -0.212880  \n",
       "12               0  51.589270  -0.106405  \n",
       "15               0  51.484230  -0.096477  \n",
       "21               0  51.465280  -0.013210  \n",
       "24               0  51.475773  -0.080698  \n",
       "25               0  51.480270  -0.237540  "
      ],
      "text/html": "<div>\n<style scoped>\n    .dataframe tbody tr th:only-of-type {\n        vertical-align: middle;\n    }\n\n    .dataframe tbody tr th {\n        vertical-align: top;\n    }\n\n    .dataframe thead th {\n        text-align: right;\n    }\n</style>\n<table border=\"1\" class=\"dataframe\">\n  <thead>\n    <tr style=\"text-align: right;\">\n      <th></th>\n      <th>Borough</th>\n      <th>Movie Theater</th>\n      <th>Indie Movie Theater</th>\n      <th>Cluster Labels</th>\n      <th>Latitude</th>\n      <th>Longitude</th>\n    </tr>\n  </thead>\n  <tbody>\n    <tr>\n      <th>4</th>\n      <td>Bromley</td>\n      <td>0.00</td>\n      <td>0.01</td>\n      <td>0</td>\n      <td>51.601511</td>\n      <td>-0.066365</td>\n    </tr>\n    <tr>\n      <th>6</th>\n      <td>Croydon</td>\n      <td>0.00</td>\n      <td>0.01</td>\n      <td>0</td>\n      <td>51.593470</td>\n      <td>-0.083380</td>\n    </tr>\n    <tr>\n      <th>11</th>\n      <td>Hammersmith and Fulham</td>\n      <td>0.01</td>\n      <td>0.01</td>\n      <td>0</td>\n      <td>51.482600</td>\n      <td>-0.212880</td>\n    </tr>\n    <tr>\n      <th>12</th>\n      <td>Haringey</td>\n      <td>0.00</td>\n      <td>0.01</td>\n      <td>0</td>\n      <td>51.589270</td>\n      <td>-0.106405</td>\n    </tr>\n    <tr>\n      <th>15</th>\n      <td>Hillingdon</td>\n      <td>0.00</td>\n      <td>0.01</td>\n      <td>0</td>\n      <td>51.484230</td>\n      <td>-0.096477</td>\n    </tr>\n    <tr>\n      <th>21</th>\n      <td>Lewisham</td>\n      <td>0.00</td>\n      <td>0.01</td>\n      <td>0</td>\n      <td>51.465280</td>\n      <td>-0.013210</td>\n    </tr>\n    <tr>\n      <th>24</th>\n      <td>Redbridge</td>\n      <td>0.00</td>\n      <td>0.01</td>\n      <td>0</td>\n      <td>51.475773</td>\n      <td>-0.080698</td>\n    </tr>\n    <tr>\n      <th>25</th>\n      <td>Richmond upon Thames</td>\n      <td>0.00</td>\n      <td>0.01</td>\n      <td>0</td>\n      <td>51.480270</td>\n      <td>-0.237540</td>\n    </tr>\n  </tbody>\n</table>\n</div>"
     },
     "metadata": {},
     "execution_count": 54
    }
   ],
   "source": [
    "london_merged.loc[london_merged['Cluster Labels'] == 0]"
   ]
  },
  {
   "cell_type": "code",
   "execution_count": 55,
   "metadata": {},
   "outputs": [
    {
     "output_type": "execute_result",
     "data": {
      "text/plain": [
       "                 Borough  Movie Theater  Indie Movie Theater  Cluster Labels  \\\n",
       "0   Barking and Dagenham            0.0                  0.0               1   \n",
       "2                 Bexley            0.0                  0.0               1   \n",
       "7                 Ealing            0.0                  0.0               1   \n",
       "9              Greenwich            0.0                  0.0               1   \n",
       "13                Harrow            0.0                  0.0               1   \n",
       "14              Havering            0.0                  0.0               1   \n",
       "16              Hounslow            0.0                  0.0               1   \n",
       "17             Islington            0.0                  0.0               1   \n",
       "19  Kingston upon Thames            0.0                  0.0               1   \n",
       "20               Lambeth            0.0                  0.0               1   \n",
       "23                Newham            0.0                  0.0               1   \n",
       "26             Southwark            0.0                  0.0               1   \n",
       "27                Sutton            0.0                  0.0               1   \n",
       "29        Waltham Forest            0.0                  0.0               1   \n",
       "30            Wandsworth            0.0                  0.0               1   \n",
       "31           Westminster            0.0                  0.0               1   \n",
       "\n",
       "     Latitude  Longitude  \n",
       "0   51.537452   0.072040  \n",
       "2   51.452078   0.069931  \n",
       "7   51.508383  -0.305200  \n",
       "9   51.477890  -0.013340  \n",
       "13  51.513180  -0.106980  \n",
       "14  51.544610  -0.144260  \n",
       "16  51.471393  -0.351374  \n",
       "17  51.534380  -0.108940  \n",
       "19  51.410881  -0.291933  \n",
       "20  51.494471  -0.120066  \n",
       "23  51.519937   0.055882  \n",
       "26  51.505734  -0.100002  \n",
       "27  51.512243  -0.053659  \n",
       "29  51.581765  -0.276968  \n",
       "30  51.467826  -0.144992  \n",
       "31  51.628249   0.012986  "
      ],
      "text/html": "<div>\n<style scoped>\n    .dataframe tbody tr th:only-of-type {\n        vertical-align: middle;\n    }\n\n    .dataframe tbody tr th {\n        vertical-align: top;\n    }\n\n    .dataframe thead th {\n        text-align: right;\n    }\n</style>\n<table border=\"1\" class=\"dataframe\">\n  <thead>\n    <tr style=\"text-align: right;\">\n      <th></th>\n      <th>Borough</th>\n      <th>Movie Theater</th>\n      <th>Indie Movie Theater</th>\n      <th>Cluster Labels</th>\n      <th>Latitude</th>\n      <th>Longitude</th>\n    </tr>\n  </thead>\n  <tbody>\n    <tr>\n      <th>0</th>\n      <td>Barking and Dagenham</td>\n      <td>0.0</td>\n      <td>0.0</td>\n      <td>1</td>\n      <td>51.537452</td>\n      <td>0.072040</td>\n    </tr>\n    <tr>\n      <th>2</th>\n      <td>Bexley</td>\n      <td>0.0</td>\n      <td>0.0</td>\n      <td>1</td>\n      <td>51.452078</td>\n      <td>0.069931</td>\n    </tr>\n    <tr>\n      <th>7</th>\n      <td>Ealing</td>\n      <td>0.0</td>\n      <td>0.0</td>\n      <td>1</td>\n      <td>51.508383</td>\n      <td>-0.305200</td>\n    </tr>\n    <tr>\n      <th>9</th>\n      <td>Greenwich</td>\n      <td>0.0</td>\n      <td>0.0</td>\n      <td>1</td>\n      <td>51.477890</td>\n      <td>-0.013340</td>\n    </tr>\n    <tr>\n      <th>13</th>\n      <td>Harrow</td>\n      <td>0.0</td>\n      <td>0.0</td>\n      <td>1</td>\n      <td>51.513180</td>\n      <td>-0.106980</td>\n    </tr>\n    <tr>\n      <th>14</th>\n      <td>Havering</td>\n      <td>0.0</td>\n      <td>0.0</td>\n      <td>1</td>\n      <td>51.544610</td>\n      <td>-0.144260</td>\n    </tr>\n    <tr>\n      <th>16</th>\n      <td>Hounslow</td>\n      <td>0.0</td>\n      <td>0.0</td>\n      <td>1</td>\n      <td>51.471393</td>\n      <td>-0.351374</td>\n    </tr>\n    <tr>\n      <th>17</th>\n      <td>Islington</td>\n      <td>0.0</td>\n      <td>0.0</td>\n      <td>1</td>\n      <td>51.534380</td>\n      <td>-0.108940</td>\n    </tr>\n    <tr>\n      <th>19</th>\n      <td>Kingston upon Thames</td>\n      <td>0.0</td>\n      <td>0.0</td>\n      <td>1</td>\n      <td>51.410881</td>\n      <td>-0.291933</td>\n    </tr>\n    <tr>\n      <th>20</th>\n      <td>Lambeth</td>\n      <td>0.0</td>\n      <td>0.0</td>\n      <td>1</td>\n      <td>51.494471</td>\n      <td>-0.120066</td>\n    </tr>\n    <tr>\n      <th>23</th>\n      <td>Newham</td>\n      <td>0.0</td>\n      <td>0.0</td>\n      <td>1</td>\n      <td>51.519937</td>\n      <td>0.055882</td>\n    </tr>\n    <tr>\n      <th>26</th>\n      <td>Southwark</td>\n      <td>0.0</td>\n      <td>0.0</td>\n      <td>1</td>\n      <td>51.505734</td>\n      <td>-0.100002</td>\n    </tr>\n    <tr>\n      <th>27</th>\n      <td>Sutton</td>\n      <td>0.0</td>\n      <td>0.0</td>\n      <td>1</td>\n      <td>51.512243</td>\n      <td>-0.053659</td>\n    </tr>\n    <tr>\n      <th>29</th>\n      <td>Waltham Forest</td>\n      <td>0.0</td>\n      <td>0.0</td>\n      <td>1</td>\n      <td>51.581765</td>\n      <td>-0.276968</td>\n    </tr>\n    <tr>\n      <th>30</th>\n      <td>Wandsworth</td>\n      <td>0.0</td>\n      <td>0.0</td>\n      <td>1</td>\n      <td>51.467826</td>\n      <td>-0.144992</td>\n    </tr>\n    <tr>\n      <th>31</th>\n      <td>Westminster</td>\n      <td>0.0</td>\n      <td>0.0</td>\n      <td>1</td>\n      <td>51.628249</td>\n      <td>0.012986</td>\n    </tr>\n  </tbody>\n</table>\n</div>"
     },
     "metadata": {},
     "execution_count": 55
    }
   ],
   "source": [
    "london_merged.loc[london_merged['Cluster Labels'] == 1]"
   ]
  },
  {
   "cell_type": "code",
   "execution_count": 56,
   "metadata": {},
   "outputs": [
    {
     "output_type": "execute_result",
     "data": {
      "text/plain": [
       "                   Borough  Movie Theater  Indie Movie Theater  \\\n",
       "1                   Barnet           0.01                 0.00   \n",
       "3                    Brent           0.02                 0.00   \n",
       "5                   Camden           0.02                 0.01   \n",
       "8                  Enfield           0.01                 0.00   \n",
       "10                 Hackney           0.01                 0.00   \n",
       "18  Kensington and Chelsea           0.02                 0.00   \n",
       "22                  Merton           0.02                 0.00   \n",
       "28           Tower Hamlets           0.01                 0.00   \n",
       "\n",
       "    Cluster Labels   Latitude  Longitude  \n",
       "1                2  51.627300  -0.253760  \n",
       "3                2  51.609783  -0.194672  \n",
       "5                2  51.591180  -0.165040  \n",
       "8                2  51.540024  -0.077502  \n",
       "10               2  51.531820  -0.061780  \n",
       "18               2  51.522660  -0.207930  \n",
       "22               2  51.544520  -0.166860  \n",
       "28               2  51.499990  -0.010450  "
      ],
      "text/html": "<div>\n<style scoped>\n    .dataframe tbody tr th:only-of-type {\n        vertical-align: middle;\n    }\n\n    .dataframe tbody tr th {\n        vertical-align: top;\n    }\n\n    .dataframe thead th {\n        text-align: right;\n    }\n</style>\n<table border=\"1\" class=\"dataframe\">\n  <thead>\n    <tr style=\"text-align: right;\">\n      <th></th>\n      <th>Borough</th>\n      <th>Movie Theater</th>\n      <th>Indie Movie Theater</th>\n      <th>Cluster Labels</th>\n      <th>Latitude</th>\n      <th>Longitude</th>\n    </tr>\n  </thead>\n  <tbody>\n    <tr>\n      <th>1</th>\n      <td>Barnet</td>\n      <td>0.01</td>\n      <td>0.00</td>\n      <td>2</td>\n      <td>51.627300</td>\n      <td>-0.253760</td>\n    </tr>\n    <tr>\n      <th>3</th>\n      <td>Brent</td>\n      <td>0.02</td>\n      <td>0.00</td>\n      <td>2</td>\n      <td>51.609783</td>\n      <td>-0.194672</td>\n    </tr>\n    <tr>\n      <th>5</th>\n      <td>Camden</td>\n      <td>0.02</td>\n      <td>0.01</td>\n      <td>2</td>\n      <td>51.591180</td>\n      <td>-0.165040</td>\n    </tr>\n    <tr>\n      <th>8</th>\n      <td>Enfield</td>\n      <td>0.01</td>\n      <td>0.00</td>\n      <td>2</td>\n      <td>51.540024</td>\n      <td>-0.077502</td>\n    </tr>\n    <tr>\n      <th>10</th>\n      <td>Hackney</td>\n      <td>0.01</td>\n      <td>0.00</td>\n      <td>2</td>\n      <td>51.531820</td>\n      <td>-0.061780</td>\n    </tr>\n    <tr>\n      <th>18</th>\n      <td>Kensington and Chelsea</td>\n      <td>0.02</td>\n      <td>0.00</td>\n      <td>2</td>\n      <td>51.522660</td>\n      <td>-0.207930</td>\n    </tr>\n    <tr>\n      <th>22</th>\n      <td>Merton</td>\n      <td>0.02</td>\n      <td>0.00</td>\n      <td>2</td>\n      <td>51.544520</td>\n      <td>-0.166860</td>\n    </tr>\n    <tr>\n      <th>28</th>\n      <td>Tower Hamlets</td>\n      <td>0.01</td>\n      <td>0.00</td>\n      <td>2</td>\n      <td>51.499990</td>\n      <td>-0.010450</td>\n    </tr>\n  </tbody>\n</table>\n</div>"
     },
     "metadata": {},
     "execution_count": 56
    }
   ],
   "source": [
    "london_merged.loc[london_merged['Cluster Labels'] == 2]"
   ]
  },
  {
   "source": [
    "### Identifying best cluster for further analysis, based on total lack of current amenities"
   ],
   "cell_type": "markdown",
   "metadata": {}
  },
  {
   "cell_type": "code",
   "execution_count": 59,
   "metadata": {},
   "outputs": [
    {
     "output_type": "execute_result",
     "data": {
      "text/plain": [
       "                 Borough                              Local authority  \\\n",
       "10                Newham                Newham London Borough Council   \n",
       "2                 Ealing                Ealing London Borough Council   \n",
       "14            Wandsworth            Wandsworth London Borough Council   \n",
       "9                Lambeth               Lambeth London Borough Council   \n",
       "11             Southwark             Southwark London Borough Council   \n",
       "3              Greenwich             Greenwich London Borough Council   \n",
       "13        Waltham Forest        Waltham Forest London Borough Council   \n",
       "6               Hounslow              Hounslow London Borough Council   \n",
       "15           Westminster                     Westminster City Council   \n",
       "5               Havering              Havering London Borough Council   \n",
       "4                 Harrow                Harrow London Borough Council   \n",
       "1                 Bexley                Bexley London Borough Council   \n",
       "7              Islington             Islington London Borough Council   \n",
       "0   Barking and Dagenham  Barking and Dagenham London Borough Council   \n",
       "12                Sutton                Sutton London Borough Council   \n",
       "8   Kingston upon Thames  Kingston upon Thames London Borough Council   \n",
       "\n",
       "   Political control Area (sq mi) Population (2019 est)  Latitude_x  \\\n",
       "10            Labour        13.98               353,134     51.5077   \n",
       "2             Labour        21.44               341,806     51.5130   \n",
       "14      Conservative        13.23               329,677     51.4567   \n",
       "9             Labour        10.36               326,034     51.4607   \n",
       "11            Labour        11.14               318,830     51.5035   \n",
       "3             Labour        18.28               287,942     51.4892   \n",
       "13            Labour        14.99               276,983     51.5908   \n",
       "6             Labour        21.61               271,523     51.4746   \n",
       "15      Conservative         8.29               261,317     51.4973   \n",
       "5       Conservative        43.35               259,552     51.5812   \n",
       "4             Labour        19.49               251,160     51.5898   \n",
       "1       Conservative        23.38               248,287     51.4549   \n",
       "7             Labour         5.74               242,467     51.5416   \n",
       "0             Labour        13.93               212,906     51.5607   \n",
       "12  Liberal Democrat        16.93               206,349     51.3618   \n",
       "8   Liberal Democrat        14.38               177,507     51.4085   \n",
       "\n",
       "    Longitude_x  Cluster Labels  Latitude_y  Longitude_y  \n",
       "10       0.0469               1   51.519937     0.055882  \n",
       "2       -0.3089               1   51.508383    -0.305200  \n",
       "14      -0.1910               1   51.467826    -0.144992  \n",
       "9       -0.1163               1   51.494471    -0.120066  \n",
       "11      -0.0804               1   51.505734    -0.100002  \n",
       "3        0.0648               1   51.477890    -0.013340  \n",
       "13      -0.0134               1   51.581765    -0.276968  \n",
       "6       -0.3680               1   51.471393    -0.351374  \n",
       "15      -0.1372               1   51.628249     0.012986  \n",
       "5        0.1837               1   51.544610    -0.144260  \n",
       "4       -0.3346               1   51.513180    -0.106980  \n",
       "1        0.1505               1   51.452078     0.069931  \n",
       "7       -0.1022               1   51.534380    -0.108940  \n",
       "0        0.1557               1   51.537452     0.072040  \n",
       "12      -0.1945               1   51.512243    -0.053659  \n",
       "8       -0.3064               1   51.410881    -0.291933  "
      ],
      "text/html": "<div>\n<style scoped>\n    .dataframe tbody tr th:only-of-type {\n        vertical-align: middle;\n    }\n\n    .dataframe tbody tr th {\n        vertical-align: top;\n    }\n\n    .dataframe thead th {\n        text-align: right;\n    }\n</style>\n<table border=\"1\" class=\"dataframe\">\n  <thead>\n    <tr style=\"text-align: right;\">\n      <th></th>\n      <th>Borough</th>\n      <th>Local authority</th>\n      <th>Political control</th>\n      <th>Area (sq mi)</th>\n      <th>Population (2019 est)</th>\n      <th>Latitude_x</th>\n      <th>Longitude_x</th>\n      <th>Cluster Labels</th>\n      <th>Latitude_y</th>\n      <th>Longitude_y</th>\n    </tr>\n  </thead>\n  <tbody>\n    <tr>\n      <th>10</th>\n      <td>Newham</td>\n      <td>Newham London Borough Council</td>\n      <td>Labour</td>\n      <td>13.98</td>\n      <td>353,134</td>\n      <td>51.5077</td>\n      <td>0.0469</td>\n      <td>1</td>\n      <td>51.519937</td>\n      <td>0.055882</td>\n    </tr>\n    <tr>\n      <th>2</th>\n      <td>Ealing</td>\n      <td>Ealing London Borough Council</td>\n      <td>Labour</td>\n      <td>21.44</td>\n      <td>341,806</td>\n      <td>51.5130</td>\n      <td>-0.3089</td>\n      <td>1</td>\n      <td>51.508383</td>\n      <td>-0.305200</td>\n    </tr>\n    <tr>\n      <th>14</th>\n      <td>Wandsworth</td>\n      <td>Wandsworth London Borough Council</td>\n      <td>Conservative</td>\n      <td>13.23</td>\n      <td>329,677</td>\n      <td>51.4567</td>\n      <td>-0.1910</td>\n      <td>1</td>\n      <td>51.467826</td>\n      <td>-0.144992</td>\n    </tr>\n    <tr>\n      <th>9</th>\n      <td>Lambeth</td>\n      <td>Lambeth London Borough Council</td>\n      <td>Labour</td>\n      <td>10.36</td>\n      <td>326,034</td>\n      <td>51.4607</td>\n      <td>-0.1163</td>\n      <td>1</td>\n      <td>51.494471</td>\n      <td>-0.120066</td>\n    </tr>\n    <tr>\n      <th>11</th>\n      <td>Southwark</td>\n      <td>Southwark London Borough Council</td>\n      <td>Labour</td>\n      <td>11.14</td>\n      <td>318,830</td>\n      <td>51.5035</td>\n      <td>-0.0804</td>\n      <td>1</td>\n      <td>51.505734</td>\n      <td>-0.100002</td>\n    </tr>\n    <tr>\n      <th>3</th>\n      <td>Greenwich</td>\n      <td>Greenwich London Borough Council</td>\n      <td>Labour</td>\n      <td>18.28</td>\n      <td>287,942</td>\n      <td>51.4892</td>\n      <td>0.0648</td>\n      <td>1</td>\n      <td>51.477890</td>\n      <td>-0.013340</td>\n    </tr>\n    <tr>\n      <th>13</th>\n      <td>Waltham Forest</td>\n      <td>Waltham Forest London Borough Council</td>\n      <td>Labour</td>\n      <td>14.99</td>\n      <td>276,983</td>\n      <td>51.5908</td>\n      <td>-0.0134</td>\n      <td>1</td>\n      <td>51.581765</td>\n      <td>-0.276968</td>\n    </tr>\n    <tr>\n      <th>6</th>\n      <td>Hounslow</td>\n      <td>Hounslow London Borough Council</td>\n      <td>Labour</td>\n      <td>21.61</td>\n      <td>271,523</td>\n      <td>51.4746</td>\n      <td>-0.3680</td>\n      <td>1</td>\n      <td>51.471393</td>\n      <td>-0.351374</td>\n    </tr>\n    <tr>\n      <th>15</th>\n      <td>Westminster</td>\n      <td>Westminster City Council</td>\n      <td>Conservative</td>\n      <td>8.29</td>\n      <td>261,317</td>\n      <td>51.4973</td>\n      <td>-0.1372</td>\n      <td>1</td>\n      <td>51.628249</td>\n      <td>0.012986</td>\n    </tr>\n    <tr>\n      <th>5</th>\n      <td>Havering</td>\n      <td>Havering London Borough Council</td>\n      <td>Conservative</td>\n      <td>43.35</td>\n      <td>259,552</td>\n      <td>51.5812</td>\n      <td>0.1837</td>\n      <td>1</td>\n      <td>51.544610</td>\n      <td>-0.144260</td>\n    </tr>\n    <tr>\n      <th>4</th>\n      <td>Harrow</td>\n      <td>Harrow London Borough Council</td>\n      <td>Labour</td>\n      <td>19.49</td>\n      <td>251,160</td>\n      <td>51.5898</td>\n      <td>-0.3346</td>\n      <td>1</td>\n      <td>51.513180</td>\n      <td>-0.106980</td>\n    </tr>\n    <tr>\n      <th>1</th>\n      <td>Bexley</td>\n      <td>Bexley London Borough Council</td>\n      <td>Conservative</td>\n      <td>23.38</td>\n      <td>248,287</td>\n      <td>51.4549</td>\n      <td>0.1505</td>\n      <td>1</td>\n      <td>51.452078</td>\n      <td>0.069931</td>\n    </tr>\n    <tr>\n      <th>7</th>\n      <td>Islington</td>\n      <td>Islington London Borough Council</td>\n      <td>Labour</td>\n      <td>5.74</td>\n      <td>242,467</td>\n      <td>51.5416</td>\n      <td>-0.1022</td>\n      <td>1</td>\n      <td>51.534380</td>\n      <td>-0.108940</td>\n    </tr>\n    <tr>\n      <th>0</th>\n      <td>Barking and Dagenham</td>\n      <td>Barking and Dagenham London Borough Council</td>\n      <td>Labour</td>\n      <td>13.93</td>\n      <td>212,906</td>\n      <td>51.5607</td>\n      <td>0.1557</td>\n      <td>1</td>\n      <td>51.537452</td>\n      <td>0.072040</td>\n    </tr>\n    <tr>\n      <th>12</th>\n      <td>Sutton</td>\n      <td>Sutton London Borough Council</td>\n      <td>Liberal Democrat</td>\n      <td>16.93</td>\n      <td>206,349</td>\n      <td>51.3618</td>\n      <td>-0.1945</td>\n      <td>1</td>\n      <td>51.512243</td>\n      <td>-0.053659</td>\n    </tr>\n    <tr>\n      <th>8</th>\n      <td>Kingston upon Thames</td>\n      <td>Kingston upon Thames London Borough Council</td>\n      <td>Liberal Democrat</td>\n      <td>14.38</td>\n      <td>177,507</td>\n      <td>51.4085</td>\n      <td>-0.3064</td>\n      <td>1</td>\n      <td>51.410881</td>\n      <td>-0.291933</td>\n    </tr>\n  </tbody>\n</table>\n</div>"
     },
     "metadata": {},
     "execution_count": 59
    }
   ],
   "source": [
    "no_theater = london_merged.loc[london_merged['Cluster Labels'] == 1]\n",
    "borough_joined = pd.merge(borough_table, no_theater, on='Borough', how='inner')\n",
    "borough_joined.drop(['Indie Movie Theater', 'Movie Theater'], axis=1, inplace=True)\n",
    "borough_joined.sort_values(['Population (2019 est)'], ascending=False, inplace=True)\n",
    "borough_joined"
   ]
  },
  {
   "cell_type": "code",
   "execution_count": null,
   "metadata": {},
   "outputs": [],
   "source": []
  }
 ]
}